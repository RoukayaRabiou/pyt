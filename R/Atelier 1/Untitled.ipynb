{
 "cells": [
  {
   "cell_type": "markdown",
   "metadata": {},
   "source": [
    "**Sommaire**\n",
    "\n",
    "1. **Introduction**\n",
    "      i) G?n?ralit?s\n",
    "      ii) Attributions\n",
    "2. **R une calculatrice**\n",
    "3. **Cr?ation d'objet dans R**\n",
    "4. **Excercice 1**\n",
    "5. **Structures de donn?es**\n",
    "      i) Vecteurs\n",
    "      ii) Matrices & Tableaux\n",
    "      iii) Listes\n",
    "      iv) Data.frame\n",
    "      v) Facteurs & Variables ordinales\n",
    "6. **Excercice 2**\n",
    "7. **Instructions avanc?es**\n",
    "      i) Conditions\n",
    "      ii) R?cursions\n",
    "      iii) Importation de donn?es\n",
    "8. **Excercice r?capitulatif**\n",
    "\n",
    "\n",
    "\n",
    "## **1. Introduction**\n",
    "\n",
    "### i) G?n?ralit?s\n",
    "\n",
    "* R est un logiciel gratuit ? code source ouvert (open-source) qui a l'avantage d'?tre disponible sur plusieurs plateformes (Windows, Macintosh, UNIX).\n",
    "  \n",
    "* Ce logiciel sert ? manipuler des donn?es, faire des calculs, tracer des graphiques et faire des analyses statistiques sur ces donn?es.\n",
    "  \n",
    "* L'outil est tr?s efficace lorsqu'on ma?trise le langage R puisque l'on devient alors capable de cr?er ses propres outils, ce qui permet ainsi d'op?rer des analyses tr?s sophistiqu?es sur les donn?es.\n",
    "\n",
    "***\n",
    "\n",
    "### ii) Attributions\n",
    "Le logiciel R poss?de entre autres:\n",
    "\n",
    "* Un syst?me de documentation int?gr? tr?s bien con?u (en anglais);\n",
    "* Des proc?dures efficaces de traitement et de stockage des donn?es, tant statistiques qu'analytiques;\n",
    "* Une suite d'op?rateurs sur le calcul sur les tableaux et surtout sur les matrices;\n",
    "* Des capacit?s graphiques ?volu?es;\n",
    "* Un langage de programmation simple et efficace int?grant les conditions, les boucles ou r?cursivit?s etc.\n",
    "\n",
    "* Il sera donc question dans cet atelier d'explorer quelques de ces ?l?ments de programmation de base en vue de permettre ? un auditoire d?butant d'acqu?rir, par une pratique r?guli?re et autodidacte, une expertise plus ?volu?e.\n",
    "\n",
    "\n",
    "## **2. R est une calculatrice.**\n",
    "\n",
    ">- *__Attention, le s?parateur decimal doit ?tre un point (.)__*"
   ]
  },
  {
   "cell_type": "markdown",
   "metadata": {},
   "source": [
    "<img style=\"float: left;\" src=\"images/banniere_1.png\">"
   ]
  },
  {
   "cell_type": "code",
   "execution_count": 1,
   "metadata": {},
   "outputs": [
    {
     "data": {
      "text/html": [
       "-176"
      ],
      "text/latex": [
       "-176"
      ],
      "text/markdown": [
       "-176"
      ],
      "text/plain": [
       "[1] -176"
      ]
     },
     "metadata": {},
     "output_type": "display_data"
    },
    {
     "data": {
      "text/html": [
       "-0.809016994374947"
      ],
      "text/latex": [
       "-0.809016994374947"
      ],
      "text/markdown": [
       "-0.809016994374947"
      ],
      "text/plain": [
       "[1] -0.809017"
      ]
     },
     "metadata": {},
     "output_type": "display_data"
    },
    {
     "data": {
      "text/html": [
       "4"
      ],
      "text/latex": [
       "4"
      ],
      "text/markdown": [
       "4"
      ],
      "text/plain": [
       "[1] 4"
      ]
     },
     "metadata": {},
     "output_type": "display_data"
    }
   ],
   "source": [
    "25*(-7.04); cos(4*pi/5); (12*(1.5-0.5))/3"
   ]
  },
  {
   "cell_type": "code",
   "execution_count": null,
   "metadata": {},
   "outputs": [],
   "source": []
  }
 ],
 "metadata": {
  "kernelspec": {
   "display_name": "R",
   "language": "R",
   "name": "ir"
  },
  "language_info": {
   "codemirror_mode": "r",
   "file_extension": ".r",
   "mimetype": "text/x-r-source",
   "name": "R",
   "pygments_lexer": "r",
   "version": "3.6.1"
  }
 },
 "nbformat": 4,
 "nbformat_minor": 2
}
