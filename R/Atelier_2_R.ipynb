{
 "cells": [
  {
   "cell_type": "markdown",
   "metadata": {},
   "source": [
    "<img style=\"float: left;\" src=\"images/header2_R.png\">\n",
    "\n",
    "\n",
    "\n",
    "\n",
    "Modèle prédictif de régression linéaire\n",
    "=============  \n",
    "\n",
    "### Auteur: \n",
    "- Marie-Joël Dandoga, VP-Education 2019-2020\n",
    "\n",
    "### Table des matières\n",
    "\n",
    "- [Section 1. Intuition sous-jacente à la régression linéaire](#intuition)\n",
    "- [Section 2. Importation et Prétraitement des données](#pre-processing)\n",
    "- [Section 3. Modélisation](#modelling)\n",
    "- [Section 4. Prédictions et performence prévisionnelle](#prediction)"
   ]
  },
  {
   "cell_type": "markdown",
   "metadata": {},
   "source": [
    "<a id=\"intuition\"></a>\n",
    "# Section 1: Intuition sous-jacente à la régression linéaire\n",
    "\n",
    "Le but ultime du modèle de régression linéaire est de parvenir à expliquer le comportement d'une variable *__Y__* dite **dépendante** par une ou plusieurs variables *__X__* dites **indépendantes** ou **explicatives**. Lorsque le modèle comporte une seule variable explicative il s'agit d'un modèle de régression linéaire simple, tandis que lorsqu'il y a plusieurs variables explicatives, on parle de régression linéaire multiple.\n",
    "\n",
    "L'équation du modèle est la suivante:\n",
    "\n",
    "$$ Y = \\beta_0 + \\beta_1X_1 + \\beta_2X_2 + ... + \\epsilon $$\n",
    "où:\n",
    "- $\\beta_i$ représente le coefficient associé à la ième variable explicative X\n",
    "- $\\epsilon$ représente l'erreur aléatoire supposée provenant d'une loi normale de moyenne 0 et de variance $\\sigma^2$\n",
    "\n",
    "Typiquement le modèle correspond à la droite (régression linéaire simple) ou à un plan (régression linéaire multiple à deux régresseurs) qui s'ajuste le mieux aux données. C'est-à-dire qui minimise la somme des écarts  au carré: c'est le critère des moindres carrées ordinaires.\n",
    "\n",
    "Plusieurs analyses interessantes peuvent être faites avec de tels modèles. On peut penser notamment à:\n",
    "- faire des test d'hypothèses sur la significativité des coefficients et les interpréter\n",
    "- vérifier l'indépendance des $X_i$\n",
    "- vérifier l'égaliter des variances entre les observations\n",
    "- faire de la prévision\n",
    "- ...\n",
    "\n",
    "Ici, l'accent sera mis entre autre sur la prédiction.\n",
    "\n",
    "<a id=\"pre-processing\"></a>\n",
    "# Section 2: Importation et pré-traitement des données\n",
    "\n",
    "Le jeu de données que je vous propose d'explorer sous la loupe de la régression linéaire provient de <https://www.kaggle.com/datasets> et porte sur l'essentiel des informations des hôtes offrant des logements locatifs Air Bnb à New York City pour 2019. \n",
    "Le fichier de données **AirBnb_NYC2019.csv** comprend toutes les informations nécessaires pour en savoir plus sur les hôtes, la disponibilité géographique, les mesures nécessaires pour établir des prévisions et tirer des conclusions.\n",
    "Ce fichier comporte 16 variables mesurées sur 48895 observations.\n",
    "\n",
    "Il s'agit de :\n",
    "- ID: identifient de l'enrégistrement\n",
    "- name: nom de l'enrégistrement\n",
    "- host_id: identifient de l'hôte\n",
    "- host_name: nom de l'hôte\n",
    "- neighbourhood_group: emplacement\n",
    "- neighbourhood: région\n",
    "- latitude: coordonnées de latitude \n",
    "- longitude: coordonnées de longitude \n",
    "- room_type: type de chambre \n",
    "- price: prix en dollars\n",
    "- minimum_nights: nombre de nuits minimum\n",
    "- number_of_reviews: nombre d'avis\n",
    "- last_review: Dernier commentaire\n",
    "- reviews_per_month: nombre d'avis par mois \n",
    "- calculated_host_listings_count: nombre d'enregistrement par hôte\n",
    "- availability_365: nombre de jours où l'enregistrement est disponible pour la réservation\n",
    "\n",
    "Supposons qu'on veuille prédire le prix d'un AirBnb à NYC en fonction de certaines des caractéristiques sus-citées"
   ]
  },
  {
   "cell_type": "code",
   "execution_count": 102,
   "metadata": {},
   "outputs": [],
   "source": [
    "# Importation du jeu de données\n",
    "dataset <- read.csv(\"C:/Users/dmari_000/Desktop/Maîtrise/CSD/Ateliers-R/Atelier 2/AirBnb_NYC2019.csv\")"
   ]
  },
  {
   "cell_type": "code",
   "execution_count": 103,
   "metadata": {},
   "outputs": [
    {
     "data": {
      "text/html": [
       "<table>\n",
       "<thead><tr><th scope=col>id</th><th scope=col>name</th><th scope=col>host_id</th><th scope=col>host_name</th><th scope=col>neighbourhood_group</th><th scope=col>neighbourhood</th><th scope=col>latitude</th><th scope=col>longitude</th><th scope=col>room_type</th><th scope=col>price</th><th scope=col>minimum_nights</th><th scope=col>number_of_reviews</th><th scope=col>last_review</th><th scope=col>reviews_per_month</th><th scope=col>calculated_host_listings_count</th><th scope=col>availability_365</th></tr></thead>\n",
       "<tbody>\n",
       "\t<tr><td>2539                                                                                        </td><td><span style=white-space:pre-wrap>Clean &amp; quiet apt home by the park              </span></td><td>2787                                                                                        </td><td><span style=white-space:pre-wrap>John       </span>                                         </td><td>Brooklyn                                                                                    </td><td><span style=white-space:pre-wrap>Kensington  </span>                                        </td><td>40.64749                                                                                    </td><td>-73.97237                                                                                   </td><td><span style=white-space:pre-wrap>Private room   </span>                                     </td><td>149                                                                                         </td><td> 1                                                                                          </td><td><span style=white-space:pre-wrap>  9</span>                                                 </td><td>2018-10-19                                                                                  </td><td>0.21                                                                                        </td><td>6                                                                                           </td><td>365                                                                                         </td></tr>\n",
       "\t<tr><td>2595                                            </td><td>Skylit Midtown Castle                           </td><td>2845                                            </td><td>Jennifer                                        </td><td>Manhattan                                       </td><td>Midtown                                         </td><td>40.75362                                        </td><td>-73.98377                                       </td><td>Entire home/apt                                 </td><td>225                                             </td><td> 1                                              </td><td> 45                                             </td><td>2019-05-21                                      </td><td>0.38                                            </td><td>2                                               </td><td>355                                             </td></tr>\n",
       "\t<tr><td>3647                                            </td><td>THE VILLAGE OF HARLEM....NEW YORK !             </td><td>4632                                            </td><td>Elisabeth                                       </td><td>Manhattan                                       </td><td>Harlem                                          </td><td>40.80902                                        </td><td>-73.94190                                       </td><td>Private room                                    </td><td>150                                             </td><td> 3                                              </td><td>  0                                             </td><td>                                                </td><td>  NA                                            </td><td>1                                               </td><td>365                                             </td></tr>\n",
       "\t<tr><td>3831                                            </td><td>Cozy Entire Floor of Brownstone                 </td><td>4869                                            </td><td>LisaRoxanne                                     </td><td>Brooklyn                                        </td><td>Clinton Hill                                    </td><td>40.68514                                        </td><td>-73.95976                                       </td><td>Entire home/apt                                 </td><td> 89                                             </td><td> 1                                              </td><td>270                                             </td><td>2019-07-05                                      </td><td>4.64                                            </td><td>1                                               </td><td>194                                             </td></tr>\n",
       "\t<tr><td>5022                                            </td><td>Entire Apt: Spacious Studio/Loft by central park</td><td>7192                                            </td><td>Laura                                           </td><td>Manhattan                                       </td><td>East Harlem                                     </td><td>40.79851                                        </td><td>-73.94399                                       </td><td>Entire home/apt                                 </td><td> 80                                             </td><td>10                                              </td><td>  9                                             </td><td>2018-11-19                                      </td><td>0.10                                            </td><td>1                                               </td><td>  0                                             </td></tr>\n",
       "\t<tr><td>5099                                            </td><td>Large Cozy 1 BR Apartment In Midtown East       </td><td>7322                                            </td><td>Chris                                           </td><td>Manhattan                                       </td><td>Murray Hill                                     </td><td>40.74767                                        </td><td>-73.97500                                       </td><td>Entire home/apt                                 </td><td>200                                             </td><td> 3                                              </td><td> 74                                             </td><td>2019-06-22                                      </td><td>0.59                                            </td><td>1                                               </td><td>129                                             </td></tr>\n",
       "</tbody>\n",
       "</table>\n"
      ],
      "text/latex": [
       "\\begin{tabular}{r|llllllllllllllll}\n",
       " id & name & host\\_id & host\\_name & neighbourhood\\_group & neighbourhood & latitude & longitude & room\\_type & price & minimum\\_nights & number\\_of\\_reviews & last\\_review & reviews\\_per\\_month & calculated\\_host\\_listings\\_count & availability\\_365\\\\\n",
       "\\hline\n",
       "\t 2539                                               & Clean \\& quiet apt home by the park               & 2787                                               & John                                               & Brooklyn                                           & Kensington                                         & 40.64749                                           & -73.97237                                          & Private room                                       & 149                                                &  1                                                 &   9                                                & 2018-10-19                                         & 0.21                                               & 6                                                  & 365                                               \\\\\n",
       "\t 2595                                             & Skylit Midtown Castle                            & 2845                                             & Jennifer                                         & Manhattan                                        & Midtown                                          & 40.75362                                         & -73.98377                                        & Entire home/apt                                  & 225                                              &  1                                               &  45                                              & 2019-05-21                                       & 0.38                                             & 2                                                & 355                                             \\\\\n",
       "\t 3647                                             & THE VILLAGE OF HARLEM....NEW YORK !              & 4632                                             & Elisabeth                                        & Manhattan                                        & Harlem                                           & 40.80902                                         & -73.94190                                        & Private room                                     & 150                                              &  3                                               &   0                                              &                                                  &   NA                                             & 1                                                & 365                                             \\\\\n",
       "\t 3831                                             & Cozy Entire Floor of Brownstone                  & 4869                                             & LisaRoxanne                                      & Brooklyn                                         & Clinton Hill                                     & 40.68514                                         & -73.95976                                        & Entire home/apt                                  &  89                                              &  1                                               & 270                                              & 2019-07-05                                       & 4.64                                             & 1                                                & 194                                             \\\\\n",
       "\t 5022                                             & Entire Apt: Spacious Studio/Loft by central park & 7192                                             & Laura                                            & Manhattan                                        & East Harlem                                      & 40.79851                                         & -73.94399                                        & Entire home/apt                                  &  80                                              & 10                                               &   9                                              & 2018-11-19                                       & 0.10                                             & 1                                                &   0                                             \\\\\n",
       "\t 5099                                             & Large Cozy 1 BR Apartment In Midtown East        & 7322                                             & Chris                                            & Manhattan                                        & Murray Hill                                      & 40.74767                                         & -73.97500                                        & Entire home/apt                                  & 200                                              &  3                                               &  74                                              & 2019-06-22                                       & 0.59                                             & 1                                                & 129                                             \\\\\n",
       "\\end{tabular}\n"
      ],
      "text/markdown": [
       "\n",
       "| id | name | host_id | host_name | neighbourhood_group | neighbourhood | latitude | longitude | room_type | price | minimum_nights | number_of_reviews | last_review | reviews_per_month | calculated_host_listings_count | availability_365 |\n",
       "|---|---|---|---|---|---|---|---|---|---|---|---|---|---|---|---|\n",
       "| 2539                                             | Clean & quiet apt home by the park               | 2787                                             | John                                             | Brooklyn                                         | Kensington                                       | 40.64749                                         | -73.97237                                        | Private room                                     | 149                                              |  1                                               |   9                                              | 2018-10-19                                       | 0.21                                             | 6                                                | 365                                              |\n",
       "| 2595                                             | Skylit Midtown Castle                            | 2845                                             | Jennifer                                         | Manhattan                                        | Midtown                                          | 40.75362                                         | -73.98377                                        | Entire home/apt                                  | 225                                              |  1                                               |  45                                              | 2019-05-21                                       | 0.38                                             | 2                                                | 355                                              |\n",
       "| 3647                                             | THE VILLAGE OF HARLEM....NEW YORK !              | 4632                                             | Elisabeth                                        | Manhattan                                        | Harlem                                           | 40.80902                                         | -73.94190                                        | Private room                                     | 150                                              |  3                                               |   0                                              |                                                  |   NA                                             | 1                                                | 365                                              |\n",
       "| 3831                                             | Cozy Entire Floor of Brownstone                  | 4869                                             | LisaRoxanne                                      | Brooklyn                                         | Clinton Hill                                     | 40.68514                                         | -73.95976                                        | Entire home/apt                                  |  89                                              |  1                                               | 270                                              | 2019-07-05                                       | 4.64                                             | 1                                                | 194                                              |\n",
       "| 5022                                             | Entire Apt: Spacious Studio/Loft by central park | 7192                                             | Laura                                            | Manhattan                                        | East Harlem                                      | 40.79851                                         | -73.94399                                        | Entire home/apt                                  |  80                                              | 10                                               |   9                                              | 2018-11-19                                       | 0.10                                             | 1                                                |   0                                              |\n",
       "| 5099                                             | Large Cozy 1 BR Apartment In Midtown East        | 7322                                             | Chris                                            | Manhattan                                        | Murray Hill                                      | 40.74767                                         | -73.97500                                        | Entire home/apt                                  | 200                                              |  3                                               |  74                                              | 2019-06-22                                       | 0.59                                             | 1                                                | 129                                              |\n",
       "\n"
      ],
      "text/plain": [
       "  id   name                                             host_id host_name  \n",
       "1 2539 Clean & quiet apt home by the park               2787    John       \n",
       "2 2595 Skylit Midtown Castle                            2845    Jennifer   \n",
       "3 3647 THE VILLAGE OF HARLEM....NEW YORK !              4632    Elisabeth  \n",
       "4 3831 Cozy Entire Floor of Brownstone                  4869    LisaRoxanne\n",
       "5 5022 Entire Apt: Spacious Studio/Loft by central park 7192    Laura      \n",
       "6 5099 Large Cozy 1 BR Apartment In Midtown East        7322    Chris      \n",
       "  neighbourhood_group neighbourhood latitude longitude room_type       price\n",
       "1 Brooklyn            Kensington    40.64749 -73.97237 Private room    149  \n",
       "2 Manhattan           Midtown       40.75362 -73.98377 Entire home/apt 225  \n",
       "3 Manhattan           Harlem        40.80902 -73.94190 Private room    150  \n",
       "4 Brooklyn            Clinton Hill  40.68514 -73.95976 Entire home/apt  89  \n",
       "5 Manhattan           East Harlem   40.79851 -73.94399 Entire home/apt  80  \n",
       "6 Manhattan           Murray Hill   40.74767 -73.97500 Entire home/apt 200  \n",
       "  minimum_nights number_of_reviews last_review reviews_per_month\n",
       "1  1               9               2018-10-19  0.21             \n",
       "2  1              45               2019-05-21  0.38             \n",
       "3  3               0                             NA             \n",
       "4  1             270               2019-07-05  4.64             \n",
       "5 10               9               2018-11-19  0.10             \n",
       "6  3              74               2019-06-22  0.59             \n",
       "  calculated_host_listings_count availability_365\n",
       "1 6                              365             \n",
       "2 2                              355             \n",
       "3 1                              365             \n",
       "4 1                              194             \n",
       "5 1                                0             \n",
       "6 1                              129             "
      ]
     },
     "metadata": {},
     "output_type": "display_data"
    }
   ],
   "source": [
    "head(dataset)"
   ]
  },
  {
   "cell_type": "code",
   "execution_count": 104,
   "metadata": {},
   "outputs": [
    {
     "data": {
      "text/html": [
       "<ol class=list-inline>\n",
       "\t<li>48895</li>\n",
       "\t<li>16</li>\n",
       "</ol>\n"
      ],
      "text/latex": [
       "\\begin{enumerate*}\n",
       "\\item 48895\n",
       "\\item 16\n",
       "\\end{enumerate*}\n"
      ],
      "text/markdown": [
       "1. 48895\n",
       "2. 16\n",
       "\n",
       "\n"
      ],
      "text/plain": [
       "[1] 48895    16"
      ]
     },
     "metadata": {},
     "output_type": "display_data"
    }
   ],
   "source": [
    "dim(dataset)"
   ]
  },
  {
   "cell_type": "markdown",
   "metadata": {},
   "source": [
    "## Résumé des variables\n",
    "Dans cette sous section, on présente quelques statistiques descriptives des variables.\n"
   ]
  },
  {
   "cell_type": "code",
   "execution_count": 105,
   "metadata": {},
   "outputs": [
    {
     "name": "stderr",
     "output_type": "stream",
     "text": [
      "The following objects are masked from mydata (pos = 3):\n",
      "\n",
      "    availability_365, calculated_host_listings_count, host_id,\n",
      "    host_name, id, last_review, latitude, longitude, minimum_nights,\n",
      "    name, neighbourhood, neighbourhood_group, number_of_reviews, price,\n",
      "    reviews_per_month, room_type\n",
      "\n",
      "The following objects are masked from mydata (pos = 4):\n",
      "\n",
      "    availability_365, calculated_host_listings_count, host_id,\n",
      "    host_name, id, last_review, latitude, longitude, minimum_nights,\n",
      "    name, neighbourhood, neighbourhood_group, number_of_reviews, price,\n",
      "    reviews_per_month, room_type\n",
      "\n",
      "The following objects are masked from dataset (pos = 5):\n",
      "\n",
      "    availability_365, calculated_host_listings_count, host_id,\n",
      "    host_name, id, last_review, latitude, longitude, minimum_nights,\n",
      "    name, neighbourhood, neighbourhood_group, number_of_reviews, price,\n",
      "    reviews_per_month, room_type\n",
      "\n",
      "The following objects are masked from dataset (pos = 6):\n",
      "\n",
      "    availability_365, calculated_host_listings_count, host_id,\n",
      "    host_name, id, last_review, latitude, longitude, minimum_nights,\n",
      "    name, neighbourhood, neighbourhood_group, number_of_reviews, price,\n",
      "    reviews_per_month, room_type\n",
      "\n",
      "The following objects are masked from dataset (pos = 7):\n",
      "\n",
      "    availability_365, calculated_host_listings_count, host_id,\n",
      "    host_name, id, last_review, latitude, longitude, minimum_nights,\n",
      "    name, neighbourhood, neighbourhood_group, number_of_reviews, price,\n",
      "    reviews_per_month, room_type\n",
      "\n",
      "The following objects are masked from dataset (pos = 8):\n",
      "\n",
      "    availability_365, calculated_host_listings_count, host_id,\n",
      "    host_name, id, last_review, latitude, longitude, minimum_nights,\n",
      "    name, neighbourhood, neighbourhood_group, number_of_reviews, price,\n",
      "    reviews_per_month, room_type\n",
      "\n",
      "The following objects are masked from dataset (pos = 10):\n",
      "\n",
      "    availability_365, calculated_host_listings_count, host_id,\n",
      "    host_name, id, last_review, latitude, longitude, minimum_nights,\n",
      "    name, neighbourhood, neighbourhood_group, number_of_reviews, price,\n",
      "    reviews_per_month, room_type\n",
      "\n"
     ]
    },
    {
     "data": {
      "text/plain": [
       "   Min. 1st Qu.  Median    Mean 3rd Qu.    Max. \n",
       "    0.0    69.0   106.0   152.7   175.0 10000.0 "
      ]
     },
     "metadata": {},
     "output_type": "display_data"
    },
    {
     "data": {
      "image/png": "[encoded data removed]",
      "text/plain": [
       "Plot with title \"Prix\""
      ]
     },
     "metadata": {},
     "output_type": "display_data"
    }
   ],
   "source": [
    "attach(dataset)\n",
    "\n",
    "# Variable d'intérêt: price\n",
    "summary(price)\n",
    "boxplot(price,horizontal=T,main=\"Prix\",xlab=\"Prix\")"
   ]
  },
  {
   "cell_type": "code",
   "execution_count": 106,
   "metadata": {},
   "outputs": [
    {
     "data": {
      "text/html": [
       "<table>\n",
       "<thead><tr><th></th><th scope=col>id</th><th scope=col>name</th><th scope=col>host_id</th><th scope=col>host_name</th><th scope=col>neighbourhood_group</th><th scope=col>neighbourhood</th><th scope=col>latitude</th><th scope=col>longitude</th><th scope=col>room_type</th><th scope=col>price</th><th scope=col>minimum_nights</th><th scope=col>number_of_reviews</th><th scope=col>last_review</th><th scope=col>reviews_per_month</th><th scope=col>calculated_host_listings_count</th><th scope=col>availability_365</th></tr></thead>\n",
       "<tbody>\n",
       "\t<tr><th scope=row>23162</th><td>18750597                                          </td><td>Huge Brooklyn Brownstone Living, Close to it all. </td><td>  8993084                                         </td><td>Kimberly                                          </td><td>Brooklyn                                          </td><td>Bedford-Stuyvesant                                </td><td>40.69023                                          </td><td>-73.95428                                         </td><td>Private room                                      </td><td>0                                                 </td><td> 4                                                </td><td> 1                                                </td><td>2018-01-06                                        </td><td>0.05                                              </td><td>4                                                 </td><td> 28                                               </td></tr>\n",
       "\t<tr><th scope=row>25434</th><td>20333471                                          </td><td>â˜…Hostel Style Room | Ideal Traveling Buddiesâ˜… </td><td>131697576                                         </td><td>Anisha                                            </td><td>Bronx                                             </td><td>East Morrisania                                   </td><td>40.83296                                          </td><td>-73.88668                                         </td><td>Private room                                      </td><td>0                                                 </td><td> 2                                                </td><td>55                                                </td><td>2019-06-24                                        </td><td>2.56                                              </td><td>4                                                 </td><td>127                                               </td></tr>\n",
       "\t<tr><th scope=row>25635</th><td>20523843                                          </td><td>MARTIAL LOFT 3: REDEMPTION (upstairs, 2nd room)   </td><td> 15787004                                         </td><td>Martial Loft                                      </td><td>Brooklyn                                          </td><td>Bushwick                                          </td><td>40.69467                                          </td><td>-73.92433                                         </td><td>Private room                                      </td><td>0                                                 </td><td> 2                                                </td><td>16                                                </td><td>2019-05-18                                        </td><td>0.71                                              </td><td>5                                                 </td><td>  0                                               </td></tr>\n",
       "\t<tr><th scope=row>25754</th><td>20608117                                          </td><td>Sunny, Quiet Room in Greenpoint                   </td><td>  1641537                                         </td><td>Lauren                                            </td><td>Brooklyn                                          </td><td>Greenpoint                                        </td><td>40.72462                                          </td><td>-73.94072                                         </td><td>Private room                                      </td><td>0                                                 </td><td> 2                                                </td><td>12                                                </td><td>2017-10-27                                        </td><td>0.53                                              </td><td>2                                                 </td><td>  0                                               </td></tr>\n",
       "\t<tr><th scope=row>25779</th><td>20624541                                          </td><td>Modern apartment in the heart of Williamsburg     </td><td> 10132166                                         </td><td>Aymeric                                           </td><td>Brooklyn                                          </td><td>Williamsburg                                      </td><td>40.70838                                          </td><td>-73.94645                                         </td><td>Entire home/apt                                   </td><td>0                                                 </td><td> 5                                                </td><td> 3                                                </td><td>2018-01-02                                        </td><td>0.15                                              </td><td>1                                                 </td><td> 73                                               </td></tr>\n",
       "\t<tr><th scope=row>25795</th><td>20639628                                          </td><td>Spacious comfortable master bedroom with nice view</td><td> 86327101                                         </td><td>Adeyemi                                           </td><td>Brooklyn                                          </td><td>Bedford-Stuyvesant                                </td><td>40.68173                                          </td><td>-73.91342                                         </td><td>Private room                                      </td><td>0                                                 </td><td> 1                                                </td><td>93                                                </td><td>2019-06-15                                        </td><td>4.28                                              </td><td>6                                                 </td><td>176                                               </td></tr>\n",
       "\t<tr><th scope=row>25796</th><td>20639792                                          </td><td>Contemporary bedroom in brownstone with nice view </td><td> 86327101                                         </td><td>Adeyemi                                           </td><td>Brooklyn                                          </td><td>Bedford-Stuyvesant                                </td><td>40.68279                                          </td><td>-73.91170                                         </td><td>Private room                                      </td><td>0                                                 </td><td> 1                                                </td><td>95                                                </td><td>2019-06-21                                        </td><td>4.37                                              </td><td>6                                                 </td><td>232                                               </td></tr>\n",
       "\t<tr><th scope=row>25797</th><td>20639914                                          </td><td>Cozy yet spacious private brownstone bedroom      </td><td> 86327101                                         </td><td>Adeyemi                                           </td><td>Brooklyn                                          </td><td>Bedford-Stuyvesant                                </td><td>40.68258                                          </td><td>-73.91284                                         </td><td>Private room                                      </td><td>0                                                 </td><td> 1                                                </td><td>95                                                </td><td>2019-06-23                                        </td><td>4.35                                              </td><td>6                                                 </td><td>222                                               </td></tr>\n",
       "\t<tr><th scope=row>26260</th><td>20933849                                          </td><td>the best you can find                             </td><td> 13709292                                         </td><td>Qiuchi                                            </td><td>Manhattan                                         </td><td>Murray Hill                                       </td><td>40.75091                                          </td><td>-73.97597                                         </td><td>Entire home/apt                                   </td><td>0                                                 </td><td> 3                                                </td><td> 0                                                </td><td>                                                  </td><td>  NA                                              </td><td>1                                                 </td><td>  0                                               </td></tr>\n",
       "\t<tr><th scope=row>26842</th><td>21291569                                          </td><td>Coliving in Brooklyn! Modern design / Shared room </td><td>101970559                                         </td><td>Sergii                                            </td><td>Brooklyn                                          </td><td>Bushwick                                          </td><td>40.69211                                          </td><td>-73.90670                                         </td><td>Shared room                                       </td><td>0                                                 </td><td>30                                                </td><td> 2                                                </td><td>2019-06-22                                        </td><td>0.11                                              </td><td>6                                                 </td><td>333                                               </td></tr>\n",
       "\t<tr><th scope=row>26867</th><td>21304320                                          </td><td>Best Coliving space ever! Shared room.            </td><td>101970559                                         </td><td>Sergii                                            </td><td>Brooklyn                                          </td><td>Bushwick                                          </td><td>40.69166                                          </td><td>-73.90928                                         </td><td>Shared room                                       </td><td>0                                                 </td><td>30                                                </td><td> 5                                                </td><td>2019-05-24                                        </td><td>0.26                                              </td><td>6                                                 </td><td>139                                               </td></tr>\n",
       "</tbody>\n",
       "</table>\n"
      ],
      "text/latex": [
       "\\begin{tabular}{r|llllllllllllllll}\n",
       "  & id & name & host\\_id & host\\_name & neighbourhood\\_group & neighbourhood & latitude & longitude & room\\_type & price & minimum\\_nights & number\\_of\\_reviews & last\\_review & reviews\\_per\\_month & calculated\\_host\\_listings\\_count & availability\\_365\\\\\n",
       "\\hline\n",
       "\t23162 & 18750597                                           & Huge Brooklyn Brownstone Living, Close to it all.  &   8993084                                          & Kimberly                                           & Brooklyn                                           & Bedford-Stuyvesant                                 & 40.69023                                           & -73.95428                                          & Private room                                       & 0                                                  &  4                                                 &  1                                                 & 2018-01-06                                         & 0.05                                               & 4                                                  &  28                                               \\\\\n",
       "\t25434 & 20333471                                                     & â˜…Hostel Style Room \\textbar{} Ideal Traveling Buddiesâ˜…  & 131697576                                                    & Anisha                                                       & Bronx                                                        & East Morrisania                                              & 40.83296                                                     & -73.88668                                                    & Private room                                                 & 0                                                            &  2                                                           & 55                                                           & 2019-06-24                                                   & 2.56                                                         & 4                                                            & 127                                                         \\\\\n",
       "\t25635 & 20523843                                           & MARTIAL LOFT 3: REDEMPTION (upstairs, 2nd room)    &  15787004                                          & Martial Loft                                       & Brooklyn                                           & Bushwick                                           & 40.69467                                           & -73.92433                                          & Private room                                       & 0                                                  &  2                                                 & 16                                                 & 2019-05-18                                         & 0.71                                               & 5                                                  &   0                                               \\\\\n",
       "\t25754 & 20608117                                           & Sunny, Quiet Room in Greenpoint                    &   1641537                                          & Lauren                                             & Brooklyn                                           & Greenpoint                                         & 40.72462                                           & -73.94072                                          & Private room                                       & 0                                                  &  2                                                 & 12                                                 & 2017-10-27                                         & 0.53                                               & 2                                                  &   0                                               \\\\\n",
       "\t25779 & 20624541                                           & Modern apartment in the heart of Williamsburg      &  10132166                                          & Aymeric                                            & Brooklyn                                           & Williamsburg                                       & 40.70838                                           & -73.94645                                          & Entire home/apt                                    & 0                                                  &  5                                                 &  3                                                 & 2018-01-02                                         & 0.15                                               & 1                                                  &  73                                               \\\\\n",
       "\t25795 & 20639628                                           & Spacious comfortable master bedroom with nice view &  86327101                                          & Adeyemi                                            & Brooklyn                                           & Bedford-Stuyvesant                                 & 40.68173                                           & -73.91342                                          & Private room                                       & 0                                                  &  1                                                 & 93                                                 & 2019-06-15                                         & 4.28                                               & 6                                                  & 176                                               \\\\\n",
       "\t25796 & 20639792                                           & Contemporary bedroom in brownstone with nice view  &  86327101                                          & Adeyemi                                            & Brooklyn                                           & Bedford-Stuyvesant                                 & 40.68279                                           & -73.91170                                          & Private room                                       & 0                                                  &  1                                                 & 95                                                 & 2019-06-21                                         & 4.37                                               & 6                                                  & 232                                               \\\\\n",
       "\t25797 & 20639914                                           & Cozy yet spacious private brownstone bedroom       &  86327101                                          & Adeyemi                                            & Brooklyn                                           & Bedford-Stuyvesant                                 & 40.68258                                           & -73.91284                                          & Private room                                       & 0                                                  &  1                                                 & 95                                                 & 2019-06-23                                         & 4.35                                               & 6                                                  & 222                                               \\\\\n",
       "\t26260 & 20933849                                           & the best you can find                              &  13709292                                          & Qiuchi                                             & Manhattan                                          & Murray Hill                                        & 40.75091                                           & -73.97597                                          & Entire home/apt                                    & 0                                                  &  3                                                 &  0                                                 &                                                    &   NA                                               & 1                                                  &   0                                               \\\\\n",
       "\t26842 & 21291569                                           & Coliving in Brooklyn! Modern design / Shared room  & 101970559                                          & Sergii                                             & Brooklyn                                           & Bushwick                                           & 40.69211                                           & -73.90670                                          & Shared room                                        & 0                                                  & 30                                                 &  2                                                 & 2019-06-22                                         & 0.11                                               & 6                                                  & 333                                               \\\\\n",
       "\t26867 & 21304320                                           & Best Coliving space ever! Shared room.             & 101970559                                          & Sergii                                             & Brooklyn                                           & Bushwick                                           & 40.69166                                           & -73.90928                                          & Shared room                                        & 0                                                  & 30                                                 &  5                                                 & 2019-05-24                                         & 0.26                                               & 6                                                  & 139                                               \\\\\n",
       "\\end{tabular}\n"
      ],
      "text/markdown": [
       "\n",
       "| <!--/--> | id | name | host_id | host_name | neighbourhood_group | neighbourhood | latitude | longitude | room_type | price | minimum_nights | number_of_reviews | last_review | reviews_per_month | calculated_host_listings_count | availability_365 |\n",
       "|---|---|---|---|---|---|---|---|---|---|---|---|---|---|---|---|---|\n",
       "| 23162 | 18750597                                           | Huge Brooklyn Brownstone Living, Close to it all.  |   8993084                                          | Kimberly                                           | Brooklyn                                           | Bedford-Stuyvesant                                 | 40.69023                                           | -73.95428                                          | Private room                                       | 0                                                  |  4                                                 |  1                                                 | 2018-01-06                                         | 0.05                                               | 4                                                  |  28                                                |\n",
       "| 25434 | 20333471                                           | â˜…Hostel Style Room | Ideal Traveling Buddiesâ˜…  | 131697576                                          | Anisha                                             | Bronx                                              | East Morrisania                                    | 40.83296                                           | -73.88668                                          | Private room                                       | 0                                                  |  2                                                 | 55                                                 | 2019-06-24                                         | 2.56                                               | 4                                                  | 127                                                |\n",
       "| 25635 | 20523843                                           | MARTIAL LOFT 3: REDEMPTION (upstairs, 2nd room)    |  15787004                                          | Martial Loft                                       | Brooklyn                                           | Bushwick                                           | 40.69467                                           | -73.92433                                          | Private room                                       | 0                                                  |  2                                                 | 16                                                 | 2019-05-18                                         | 0.71                                               | 5                                                  |   0                                                |\n",
       "| 25754 | 20608117                                           | Sunny, Quiet Room in Greenpoint                    |   1641537                                          | Lauren                                             | Brooklyn                                           | Greenpoint                                         | 40.72462                                           | -73.94072                                          | Private room                                       | 0                                                  |  2                                                 | 12                                                 | 2017-10-27                                         | 0.53                                               | 2                                                  |   0                                                |\n",
       "| 25779 | 20624541                                           | Modern apartment in the heart of Williamsburg      |  10132166                                          | Aymeric                                            | Brooklyn                                           | Williamsburg                                       | 40.70838                                           | -73.94645                                          | Entire home/apt                                    | 0                                                  |  5                                                 |  3                                                 | 2018-01-02                                         | 0.15                                               | 1                                                  |  73                                                |\n",
       "| 25795 | 20639628                                           | Spacious comfortable master bedroom with nice view |  86327101                                          | Adeyemi                                            | Brooklyn                                           | Bedford-Stuyvesant                                 | 40.68173                                           | -73.91342                                          | Private room                                       | 0                                                  |  1                                                 | 93                                                 | 2019-06-15                                         | 4.28                                               | 6                                                  | 176                                                |\n",
       "| 25796 | 20639792                                           | Contemporary bedroom in brownstone with nice view  |  86327101                                          | Adeyemi                                            | Brooklyn                                           | Bedford-Stuyvesant                                 | 40.68279                                           | -73.91170                                          | Private room                                       | 0                                                  |  1                                                 | 95                                                 | 2019-06-21                                         | 4.37                                               | 6                                                  | 232                                                |\n",
       "| 25797 | 20639914                                           | Cozy yet spacious private brownstone bedroom       |  86327101                                          | Adeyemi                                            | Brooklyn                                           | Bedford-Stuyvesant                                 | 40.68258                                           | -73.91284                                          | Private room                                       | 0                                                  |  1                                                 | 95                                                 | 2019-06-23                                         | 4.35                                               | 6                                                  | 222                                                |\n",
       "| 26260 | 20933849                                           | the best you can find                              |  13709292                                          | Qiuchi                                             | Manhattan                                          | Murray Hill                                        | 40.75091                                           | -73.97597                                          | Entire home/apt                                    | 0                                                  |  3                                                 |  0                                                 |                                                    |   NA                                               | 1                                                  |   0                                                |\n",
       "| 26842 | 21291569                                           | Coliving in Brooklyn! Modern design / Shared room  | 101970559                                          | Sergii                                             | Brooklyn                                           | Bushwick                                           | 40.69211                                           | -73.90670                                          | Shared room                                        | 0                                                  | 30                                                 |  2                                                 | 2019-06-22                                         | 0.11                                               | 6                                                  | 333                                                |\n",
       "| 26867 | 21304320                                           | Best Coliving space ever! Shared room.             | 101970559                                          | Sergii                                             | Brooklyn                                           | Bushwick                                           | 40.69166                                           | -73.90928                                          | Shared room                                        | 0                                                  | 30                                                 |  5                                                 | 2019-05-24                                         | 0.26                                               | 6                                                  | 139                                                |\n",
       "\n"
      ],
      "text/plain": [
       "      id       name                                               host_id  \n",
       "23162 18750597 Huge Brooklyn Brownstone Living, Close to it all.    8993084\n",
       "25434 20333471 â\\230…Hostel Style Room | Ideal Traveling Buddiesâ\\230…  131697576\n",
       "25635 20523843 MARTIAL LOFT 3: REDEMPTION (upstairs, 2nd room)     15787004\n",
       "25754 20608117 Sunny, Quiet Room in Greenpoint                      1641537\n",
       "25779 20624541 Modern apartment in the heart of Williamsburg       10132166\n",
       "25795 20639628 Spacious comfortable master bedroom with nice view  86327101\n",
       "25796 20639792 Contemporary bedroom in brownstone with nice view   86327101\n",
       "25797 20639914 Cozy yet spacious private brownstone bedroom        86327101\n",
       "26260 20933849 the best you can find                               13709292\n",
       "26842 21291569 Coliving in Brooklyn! Modern design / Shared room  101970559\n",
       "26867 21304320 Best Coliving space ever! Shared room.             101970559\n",
       "      host_name    neighbourhood_group neighbourhood      latitude longitude\n",
       "23162 Kimberly     Brooklyn            Bedford-Stuyvesant 40.69023 -73.95428\n",
       "25434 Anisha       Bronx               East Morrisania    40.83296 -73.88668\n",
       "25635 Martial Loft Brooklyn            Bushwick           40.69467 -73.92433\n",
       "25754 Lauren       Brooklyn            Greenpoint         40.72462 -73.94072\n",
       "25779 Aymeric      Brooklyn            Williamsburg       40.70838 -73.94645\n",
       "25795 Adeyemi      Brooklyn            Bedford-Stuyvesant 40.68173 -73.91342\n",
       "25796 Adeyemi      Brooklyn            Bedford-Stuyvesant 40.68279 -73.91170\n",
       "25797 Adeyemi      Brooklyn            Bedford-Stuyvesant 40.68258 -73.91284\n",
       "26260 Qiuchi       Manhattan           Murray Hill        40.75091 -73.97597\n",
       "26842 Sergii       Brooklyn            Bushwick           40.69211 -73.90670\n",
       "26867 Sergii       Brooklyn            Bushwick           40.69166 -73.90928\n",
       "      room_type       price minimum_nights number_of_reviews last_review\n",
       "23162 Private room    0      4              1                2018-01-06 \n",
       "25434 Private room    0      2             55                2019-06-24 \n",
       "25635 Private room    0      2             16                2019-05-18 \n",
       "25754 Private room    0      2             12                2017-10-27 \n",
       "25779 Entire home/apt 0      5              3                2018-01-02 \n",
       "25795 Private room    0      1             93                2019-06-15 \n",
       "25796 Private room    0      1             95                2019-06-21 \n",
       "25797 Private room    0      1             95                2019-06-23 \n",
       "26260 Entire home/apt 0      3              0                           \n",
       "26842 Shared room     0     30              2                2019-06-22 \n",
       "26867 Shared room     0     30              5                2019-05-24 \n",
       "      reviews_per_month calculated_host_listings_count availability_365\n",
       "23162 0.05              4                               28             \n",
       "25434 2.56              4                              127             \n",
       "25635 0.71              5                                0             \n",
       "25754 0.53              2                                0             \n",
       "25779 0.15              1                               73             \n",
       "25795 4.28              6                              176             \n",
       "25796 4.37              6                              232             \n",
       "25797 4.35              6                              222             \n",
       "26260   NA              1                                0             \n",
       "26842 0.11              6                              333             \n",
       "26867 0.26              6                              139             "
      ]
     },
     "metadata": {},
     "output_type": "display_data"
    }
   ],
   "source": [
    "dataset[price==0,]"
   ]
  },
  {
   "cell_type": "code",
   "execution_count": 116,
   "metadata": {},
   "outputs": [
    {
     "data": {
      "text/html": [
       "11"
      ],
      "text/latex": [
       "11"
      ],
      "text/markdown": [
       "11"
      ],
      "text/plain": [
       "[1] 11"
      ]
     },
     "metadata": {},
     "output_type": "display_data"
    },
    {
     "data": {
      "text/html": [
       "59"
      ],
      "text/latex": [
       "59"
      ],
      "text/markdown": [
       "59"
      ],
      "text/plain": [
       "[1] 59"
      ]
     },
     "metadata": {},
     "output_type": "display_data"
    },
    {
     "data": {
      "text/html": [
       "239"
      ],
      "text/latex": [
       "239"
      ],
      "text/markdown": [
       "239"
      ],
      "text/plain": [
       "[1] 239"
      ]
     },
     "metadata": {},
     "output_type": "display_data"
    },
    {
     "data": {
      "text/html": [
       "20"
      ],
      "text/latex": [
       "20"
      ],
      "text/markdown": [
       "20"
      ],
      "text/plain": [
       "[1] 20"
      ]
     },
     "metadata": {},
     "output_type": "display_data"
    }
   ],
   "source": [
    "sum(price==0)\n",
    "sum(price==1000)\n",
    "sum(price>1000)\n",
    "sum(price>5000)"
   ]
  },
  {
   "cell_type": "code",
   "execution_count": 108,
   "metadata": {},
   "outputs": [
    {
     "data": {
      "text/html": [
       "240.154169747188"
      ],
      "text/latex": [
       "240.154169747188"
      ],
      "text/markdown": [
       "240.154169747188"
      ],
      "text/plain": [
       "[1] 240.1542"
      ]
     },
     "metadata": {},
     "output_type": "display_data"
    },
    {
     "data": {
      "text/html": [
       "0"
      ],
      "text/latex": [
       "0"
      ],
      "text/markdown": [
       "0"
      ],
      "text/plain": [
       "[1] 0"
      ]
     },
     "metadata": {},
     "output_type": "display_data"
    }
   ],
   "source": [
    "sd(price)\n",
    "sum(is.na(price))"
   ]
  },
  {
   "cell_type": "markdown",
   "metadata": {},
   "source": [
    "Comme on peut le constater, il y a une importante variabilité dans le prix des airbnb. Certains airbnb sont loués à 0$ ce qui suscite des interrogations. Toutefois l'information est complète et on a aucune valeur manquante.\n",
    "Il sera peut-être utile de considérer un jeu de donnée avec des prix différents de zéro."
   ]
  },
  {
   "cell_type": "code",
   "execution_count": 117,
   "metadata": {},
   "outputs": [
    {
     "data": {
      "text/html": [
       "<ol class=list-inline>\n",
       "\t<li>48884</li>\n",
       "\t<li>16</li>\n",
       "</ol>\n"
      ],
      "text/latex": [
       "\\begin{enumerate*}\n",
       "\\item 48884\n",
       "\\item 16\n",
       "\\end{enumerate*}\n"
      ],
      "text/markdown": [
       "1. 48884\n",
       "2. 16\n",
       "\n",
       "\n"
      ],
      "text/plain": [
       "[1] 48884    16"
      ]
     },
     "metadata": {},
     "output_type": "display_data"
    },
    {
     "data": {
      "text/plain": [
       "   Min. 1st Qu.  Median    Mean 3rd Qu.    Max. \n",
       "   10.0    69.0   106.0   152.8   175.0 10000.0 "
      ]
     },
     "metadata": {},
     "output_type": "display_data"
    }
   ],
   "source": [
    "mydata = dataset[dataset$price!=0,]\n",
    "dim(mydata)\n",
    "summary(mydata$price)"
   ]
  },
  {
   "cell_type": "code",
   "execution_count": 9,
   "metadata": {},
   "outputs": [
    {
     "data": {
      "text/plain": [
       "   Min. 1st Qu.  Median    Mean 3rd Qu.    Max. \n",
       "  40.50   40.69   40.72   40.73   40.76   40.91 "
      ]
     },
     "metadata": {},
     "output_type": "display_data"
    }
   ],
   "source": [
    "# Variables explicatives quantitatives\n",
    "summary(latitude)"
   ]
  },
  {
   "cell_type": "code",
   "execution_count": 10,
   "metadata": {},
   "outputs": [
    {
     "data": {
      "text/plain": [
       "   Min. 1st Qu.  Median    Mean 3rd Qu.    Max. \n",
       " -74.24  -73.98  -73.96  -73.95  -73.94  -73.71 "
      ]
     },
     "metadata": {},
     "output_type": "display_data"
    }
   ],
   "source": [
    "summary(longitude)"
   ]
  },
  {
   "cell_type": "markdown",
   "metadata": {},
   "source": [
    "Les variables latitude et longitude semblent très peu varier. En plus de leur correlation presque certaine avec Neighbourhood et Neighbourhood_group il serait pertinent de ne pas les inclure dans le modèle final."
   ]
  },
  {
   "cell_type": "code",
   "execution_count": 11,
   "metadata": {},
   "outputs": [
    {
     "data": {
      "text/plain": [
       "   Min. 1st Qu.  Median    Mean 3rd Qu.    Max. \n",
       "   1.00    1.00    3.00    7.03    5.00 1250.00 "
      ]
     },
     "metadata": {},
     "output_type": "display_data"
    },
    {
     "data": {
      "text/html": [
       "0"
      ],
      "text/latex": [
       "0"
      ],
      "text/markdown": [
       "0"
      ],
      "text/plain": [
       "[1] 0"
      ]
     },
     "metadata": {},
     "output_type": "display_data"
    }
   ],
   "source": [
    "summary(minimum_nights)\n",
    "sum(is.na(minimum_nights))"
   ]
  },
  {
   "cell_type": "code",
   "execution_count": 12,
   "metadata": {},
   "outputs": [
    {
     "data": {
      "text/plain": [
       "   Min. 1st Qu.  Median    Mean 3rd Qu.    Max. \n",
       "   0.00    1.00    5.00   23.27   24.00  629.00 "
      ]
     },
     "metadata": {},
     "output_type": "display_data"
    },
    {
     "data": {
      "text/html": [
       "0"
      ],
      "text/latex": [
       "0"
      ],
      "text/markdown": [
       "0"
      ],
      "text/plain": [
       "[1] 0"
      ]
     },
     "metadata": {},
     "output_type": "display_data"
    }
   ],
   "source": [
    "summary(number_of_reviews)\n",
    "sum(is.na(number_of_reviews))"
   ]
  },
  {
   "cell_type": "code",
   "execution_count": 13,
   "metadata": {},
   "outputs": [
    {
     "data": {
      "text/plain": [
       "   Min. 1st Qu.  Median    Mean 3rd Qu.    Max. \n",
       "  1.000   1.000   1.000   7.144   2.000 327.000 "
      ]
     },
     "metadata": {},
     "output_type": "display_data"
    },
    {
     "data": {
      "text/html": [
       "0"
      ],
      "text/latex": [
       "0"
      ],
      "text/markdown": [
       "0"
      ],
      "text/plain": [
       "[1] 0"
      ]
     },
     "metadata": {},
     "output_type": "display_data"
    }
   ],
   "source": [
    "summary(calculated_host_listings_count)\n",
    "sum(is.na(calculated_host_listings_count))"
   ]
  },
  {
   "cell_type": "code",
   "execution_count": 14,
   "metadata": {},
   "outputs": [
    {
     "data": {
      "text/html": [
       "10052"
      ],
      "text/latex": [
       "10052"
      ],
      "text/markdown": [
       "10052"
      ],
      "text/plain": [
       "[1] 10052"
      ]
     },
     "metadata": {},
     "output_type": "display_data"
    }
   ],
   "source": [
    "sum(is.na(reviews_per_month))"
   ]
  },
  {
   "cell_type": "markdown",
   "metadata": {},
   "source": [
    "Les variables *last_review* et *review_per_month* ne seront pas non plus incluses dans le modèle. Pouvez-vous deviner pourquoi?"
   ]
  },
  {
   "cell_type": "code",
   "execution_count": 15,
   "metadata": {},
   "outputs": [
    {
     "data": {
      "text/plain": [
       "neighbourhood\n",
       "                  Allerton              Arden Heights \n",
       "                        42                          4 \n",
       "                  Arrochar                    Arverne \n",
       "                        21                         77 \n",
       "                   Astoria                 Bath Beach \n",
       "                       900                         17 \n",
       "         Battery Park City                  Bay Ridge \n",
       "                        70                        141 \n",
       "               Bay Terrace Bay Terrace, Staten Island \n",
       "                         6                          2 \n",
       "                Baychester                    Bayside \n",
       "                         7                         39 \n",
       "                 Bayswater         Bedford-Stuyvesant \n",
       "                        17                       3714 \n",
       "              Belle Harbor                  Bellerose \n",
       "                         8                         14 \n",
       "                   Belmont                Bensonhurst \n",
       "                        24                         75 \n",
       "              Bergen Beach                Boerum Hill \n",
       "                        10                        177 \n",
       "              Borough Park               Breezy Point \n",
       "                       136                          3 \n",
       "                 Briarwood             Brighton Beach \n",
       "                        56                         75 \n",
       "                 Bronxdale           Brooklyn Heights \n",
       "                        19                        154 \n",
       "               Brownsville                Bull's Head \n",
       "                        61                          6 \n",
       "                  Bushwick            Cambria Heights \n",
       "                      2465                         26 \n",
       "                  Canarsie            Carroll Gardens \n",
       "                       147                        233 \n",
       "               Castle Hill          Castleton Corners \n",
       "                         9                          4 \n",
       "                   Chelsea                  Chinatown \n",
       "                      1113                        368 \n",
       "               City Island               Civic Center \n",
       "                        18                         52 \n",
       "         Claremont Village               Clason Point \n",
       "                        28                         21 \n",
       "                   Clifton               Clinton Hill \n",
       "                        15                        572 \n",
       "                Co-op City                Cobble Hill \n",
       "                         2                         99 \n",
       "             College Point                Columbia St \n",
       "                        19                         42 \n",
       "                   Concord                  Concourse \n",
       "                        26                         50 \n",
       "         Concourse Village               Coney Island \n",
       "                        32                         17 \n",
       "                    Corona              Crown Heights \n",
       "                        64                       1564 \n",
       "             Cypress Hills           Ditmars Steinway \n",
       "                       135                        309 \n",
       "              Dongan Hills                 Douglaston \n",
       "                         7                          8 \n",
       "         Downtown Brooklyn                      DUMBO \n",
       "                        83                         36 \n",
       "             Dyker Heights              East Elmhurst \n",
       "                        12                        185 \n",
       "             East Flatbush                East Harlem \n",
       "                       500                       1117 \n",
       "           East Morrisania              East New York \n",
       "                        10                        218 \n",
       "              East Village                Eastchester \n",
       "                      1853                         13 \n",
       "                  Edenwald                   Edgemere \n",
       "                        13                         11 \n",
       "                  Elmhurst                Eltingville \n",
       "                       237                          3 \n",
       "              Emerson Hill               Far Rockaway \n",
       "                         5                         29 \n",
       "                 Fieldston         Financial District \n",
       "                        12                        744 \n",
       "                  Flatbush          Flatiron District \n",
       "                       621                         80 \n",
       "                 Flatlands                   Flushing \n",
       "                        83                        426 \n",
       "                   Fordham               Forest Hills \n",
       "                        63                        144 \n",
       "               Fort Greene              Fort Hamilton \n",
       "                       489                         55 \n",
       "            Fort Wadsworth              Fresh Meadows \n",
       "                         1                         32 \n",
       "                  Glendale                    Gowanus \n",
       "                        54                        247 \n",
       "                  Gramercy               Graniteville \n",
       "                       338                          3 \n",
       "                Grant City                  Gravesend \n",
       "                         6                         68 \n",
       "               Great Kills                 Greenpoint \n",
       "                        10                       1115 \n",
       "         Greenwich Village                Grymes Hill \n",
       "                       392                          7 \n",
       "                    Harlem             Hell's Kitchen \n",
       "                      2658                       1958 \n",
       "                Highbridge                     Hollis \n",
       "                        27                         14 \n",
       "                Holliswood               Howard Beach \n",
       "                         4                         20 \n",
       "              Howland Hook                   Huguenot \n",
       "                         2                          3 \n",
       "               Hunts Point                     Inwood \n",
       "                        18                        252 \n",
       "           Jackson Heights                    Jamaica \n",
       "                       186                        231 \n",
       "           Jamaica Estates              Jamaica Hills \n",
       "                        19                          8 \n",
       "                Kensington                Kew Gardens \n",
       "                       175                         32 \n",
       "         Kew Gardens Hills                Kingsbridge \n",
       "                        26                         70 \n",
       "                  Kips Bay                  Laurelton \n",
       "                       470                         18 \n",
       "           Lighthouse Hill               Little Italy \n",
       "                         2                        121 \n",
       "               Little Neck           Long Island City \n",
       "                         5                        537 \n",
       "                  Longwood            Lower East Side \n",
       "                        62                        911 \n",
       "           Manhattan Beach                Marble Hill \n",
       "                         8                         12 \n",
       "           Mariners Harbor                    Maspeth \n",
       "                         8                        110 \n",
       "                   Melrose             Middle Village \n",
       "                        10                         31 \n",
       "             Midland Beach                    Midtown \n",
       "                         6                       1545 \n",
       "                   Midwood                 Mill Basin \n",
       "                       109                          4 \n",
       "       Morningside Heights             Morris Heights \n",
       "                       346                         17 \n",
       "               Morris Park                 Morrisania \n",
       "                        15                         18 \n",
       "                Mott Haven                 Mount Eden \n",
       "                        60                          6 \n",
       "                Mount Hope                Murray Hill \n",
       "                        20                        485 \n",
       "                 Navy Yard                   Neponsit \n",
       "                        14                          3 \n",
       "              New Brighton                   New Dorp \n",
       "                         5                          1 \n",
       "            New Dorp Beach            New Springville \n",
       "                         5                          8 \n",
       "                      NoHo                     Nolita \n",
       "                        78                        253 \n",
       "           North Riverdale                    Norwood \n",
       "                        10                         31 \n",
       "                   Oakwood                  Olinville \n",
       "                         5                          4 \n",
       "                Ozone Park                 Park Slope \n",
       "                        62                        506 \n",
       "               Parkchester                 Pelham Bay \n",
       "                        39                         17 \n",
       "            Pelham Gardens                Port Morris \n",
       "                        28                         46 \n",
       "             Port Richmond               Prince's Bay \n",
       "                         9                          4 \n",
       " Prospect-Lefferts Gardens           Prospect Heights \n",
       "                       535                        357 \n",
       "            Queens Village              Randall Manor \n",
       "                        60                         19 \n",
       "                  Red Hook                  Rego Park \n",
       "                        79                        106 \n",
       "             Richmond Hill               Richmondtown \n",
       "                        94                          1 \n",
       "                 Ridgewood                  Riverdale \n",
       "                       423                         11 \n",
       "            Rockaway Beach           Roosevelt Island \n",
       "                        56                         77 \n",
       "                  Rosebank                   Rosedale \n",
       "                         7                         59 \n",
       "                 Rossville              Schuylerville \n",
       "                         1                         13 \n",
       "                  Sea Gate             Sheepshead Bay \n",
       "                         7                        164 \n",
       "               Shore Acres                Silver Lake \n",
       "                         7                          2 \n",
       "                      SoHo                  Soundview \n",
       "                       358                         15 \n",
       "               South Beach           South Ozone Park \n",
       "                         8                         40 \n",
       "               South Slope        Springfield Gardens \n",
       "                       284                         85 \n",
       "            Spuyten Duyvil                 St. Albans \n",
       "                         4                         76 \n",
       "                St. George                  Stapleton \n",
       "                        48                         27 \n",
       "           Stuyvesant Town                  Sunnyside \n",
       "                        37                        363 \n",
       "               Sunset Park           Theater District \n",
       "                       390                        288 \n",
       "               Throgs Neck                  Todt Hill \n",
       "                        24                          4 \n",
       "             Tompkinsville                Tottenville \n",
       "                        42                          7 \n",
       "                   Tremont                    Tribeca \n",
       "                        11                        177 \n",
       "               Two Bridges                  Unionport \n",
       "                        72                          7 \n",
       "        University Heights            Upper East Side \n",
       "                        21                       1798 \n",
       "           Upper West Side                   Van Nest \n",
       "                      1971                         11 \n",
       "              Vinegar Hill                  Wakefield \n",
       "                        34                         50 \n",
       "        Washington Heights              West Brighton \n",
       "                       899                         18 \n",
       "                West Farms               West Village \n",
       "                         2                        768 \n",
       "        Westchester Square                Westerleigh \n",
       "                        10                          2 \n",
       "                Whitestone             Williamsbridge \n",
       "                        11                         40 \n",
       "              Williamsburg                Willowbrook \n",
       "                      3920                          1 \n",
       "           Windsor Terrace                  Woodhaven \n",
       "                       157                         88 \n",
       "                  Woodlawn                    Woodrow \n",
       "                        11                          1 \n",
       "                  Woodside \n",
       "                       235 "
      ]
     },
     "metadata": {},
     "output_type": "display_data"
    },
    {
     "data": {
      "text/html": [
       "221"
      ],
      "text/latex": [
       "221"
      ],
      "text/markdown": [
       "221"
      ],
      "text/plain": [
       "[1] 221"
      ]
     },
     "metadata": {},
     "output_type": "display_data"
    },
    {
     "data": {
      "text/html": [
       "0"
      ],
      "text/latex": [
       "0"
      ],
      "text/markdown": [
       "0"
      ],
      "text/plain": [
       "[1] 0"
      ]
     },
     "metadata": {},
     "output_type": "display_data"
    },
    {
     "data": {
      "text/plain": [
       "neighbourhood_group\n",
       "        Bronx      Brooklyn     Manhattan        Queens Staten Island \n",
       "         1091         20104         21661          5666           373 "
      ]
     },
     "metadata": {},
     "output_type": "display_data"
    },
    {
     "data": {
      "text/html": [
       "0"
      ],
      "text/latex": [
       "0"
      ],
      "text/markdown": [
       "0"
      ],
      "text/plain": [
       "[1] 0"
      ]
     },
     "metadata": {},
     "output_type": "display_data"
    }
   ],
   "source": [
    "# Variables explicatives qualitatives\n",
    "table(neighbourhood)\n",
    "length(unique(neighbourhood))\n",
    "sum(is.na(neighbourhood))\n",
    "\n",
    "table(neighbourhood_group)\n",
    "sum(is.na(neighbourhood_group))"
   ]
  },
  {
   "cell_type": "markdown",
   "metadata": {},
   "source": [
    "Est-il raisonnable de garder le quartier et la région simultanément dans le modèle?\n",
    "\n",
    "Par ailleurs, il y a 4 variables d'identifiant dans le modèle, devrait-on les inclure ou pas?"
   ]
  },
  {
   "cell_type": "markdown",
   "metadata": {},
   "source": [
    "A vous de jouer!\n",
    "### Excercice 1: \n",
    "- Faites un résumé descriptif des variables *room_type* et *availability_365*\n",
    "- Que cooncluez vous?\n",
    "**Indice:** Pensez à utiliser les fonctions *summary*, *table*, *sum*, *is.na*, etc."
   ]
  },
  {
   "cell_type": "markdown",
   "metadata": {},
   "source": [
    "## Visualisation\n",
    "Etant donné qu'on veut ajuster un modèle de régression linéaire aux données, il est primordial de s'assurer qu'il existe bien une relation linéaire entre le prix et les caractéristiques des Airbnb. Le cas échéant on fera les transformations adéquates."
   ]
  },
  {
   "cell_type": "code",
   "execution_count": 118,
   "metadata": {},
   "outputs": [
    {
     "data": {
      "image/png": "[encoded data removed]",
      "text/plain": [
       "plot without title"
      ]
     },
     "metadata": {},
     "output_type": "display_data"
    }
   ],
   "source": [
    "# Pour les variables quantitatives retenues\n",
    "\n",
    "\n",
    "## minimum_nights\n",
    "par(mfrow=c(2,2))\n",
    "plot(price~minimum_nights^2, ylab=\"prix\", xlab=\"carré nombre min de nuitées\")\n",
    "plot(log(mydata$price)~log(mydata$minimum_nights), ylab=\"log prix\", xlab=\"log nombre min de nuitées\")\n",
    "plot((log(mydata$minimum_nights)^2), log(mydata$price), xlab=\"carré du log nombre min de nuitées\", ylab=\"log prix\")\n",
    "plot((log(mydata$minimum_nights)^3), log(mydata$price), xlab=\"cube du log nombre min de nuitées\", ylab=\"log prix\")"
   ]
  },
  {
   "cell_type": "markdown",
   "metadata": {},
   "source": [
    "Il semble y avoir une relation polynômiale entre le log du prix et le log du nombre minimal de nuitées. On pensera à intégrer des puissances de cette variable au modèle. "
   ]
  },
  {
   "cell_type": "code",
   "execution_count": 119,
   "metadata": {},
   "outputs": [
    {
     "data": {
      "image/png": "[encoded data removed]",
      "text/plain": [
       "plot without title"
      ]
     },
     "metadata": {},
     "output_type": "display_data"
    }
   ],
   "source": [
    "## number_of_reviews\n",
    "par(mfrow=c(1,2))\n",
    "plot(number_of_reviews, price, xlab=\"nombre d'avis\", ylab=\"prix\")\n",
    "plot(mydata$number_of_reviews, log(mydata$price), xlab=\"nombre d'avis\", ylab=\"log prix\")\n"
   ]
  },
  {
   "cell_type": "code",
   "execution_count": 68,
   "metadata": {},
   "outputs": [
    {
     "data": {
      "text/html": [
       "10052"
      ],
      "text/latex": [
       "10052"
      ],
      "text/markdown": [
       "10052"
      ],
      "text/plain": [
       "[1] 10052"
      ]
     },
     "metadata": {},
     "output_type": "display_data"
    }
   ],
   "source": [
    "nrow(dataset[number_of_reviews==0,])"
   ]
  },
  {
   "cell_type": "markdown",
   "metadata": {},
   "source": [
    "Beaucoup trop de valeurs nulles - un terme quadratique peut être?"
   ]
  },
  {
   "cell_type": "code",
   "execution_count": 120,
   "metadata": {},
   "outputs": [
    {
     "data": {
      "image/png": "[encoded data removed]",
      "text/plain": [
       "plot without title"
      ]
     },
     "metadata": {},
     "output_type": "display_data"
    }
   ],
   "source": [
    "## calculated_host_listings_count\n",
    "par(mfrow=c(1,2))\n",
    "plot(calculated_host_listings_count, price, xlab=\"nombre d'enregistrement par hôte\", ylab=\"prix\")\n",
    "plot(log(mydata$calculated_host_listings_count), log(mydata$price), xlab=\"log nombre d'enregistrement par hôte\", ylab=\"log prix\")"
   ]
  },
  {
   "cell_type": "code",
   "execution_count": 121,
   "metadata": {},
   "outputs": [
    {
     "data": {
      "text/html": [
       "0"
      ],
      "text/latex": [
       "0"
      ],
      "text/markdown": [
       "0"
      ],
      "text/plain": [
       "[1] 0"
      ]
     },
     "metadata": {},
     "output_type": "display_data"
    }
   ],
   "source": [
    "nrow(dataset[dataset$calculated_host_listings_count==0,])"
   ]
  },
  {
   "cell_type": "markdown",
   "metadata": {},
   "source": [
    "motif quadratiques? Pas terrible!"
   ]
  },
  {
   "cell_type": "code",
   "execution_count": 122,
   "metadata": {
    "scrolled": true
   },
   "outputs": [
    {
     "data": {
      "image/png": "[encoded data removed]",
      "text/plain": [
       "plot without title"
      ]
     },
     "metadata": {},
     "output_type": "display_data"
    }
   ],
   "source": [
    "# Pour les variables qualitatives retenues \n",
    "\n",
    "## neighbourhood_group\n",
    "boxplot(log(mydata$price)~mydata$neighbourhood_group, xlab=\"emplacement\", ylab=\"log prix\")"
   ]
  },
  {
   "cell_type": "markdown",
   "metadata": {},
   "source": [
    "relation quadratique?\n",
    "\n",
    "regrouper queens et staten island??"
   ]
  },
  {
   "cell_type": "code",
   "execution_count": 123,
   "metadata": {},
   "outputs": [
    {
     "data": {
      "image/png": "[encoded data removed]",
      "text/plain": [
       "plot without title"
      ]
     },
     "metadata": {},
     "output_type": "display_data"
    }
   ],
   "source": [
    "## neighbourhood_group\n",
    "#par(mfrow=c(1,2))\n",
    "boxplot(log(mydata$price)~mydata$neighbourhood, xlab=\"quartier\", ylab=\"log prix\")"
   ]
  },
  {
   "cell_type": "markdown",
   "metadata": {},
   "source": [
    "Clairement une relation polynômiale entre quartier et le log du prix, mais une fois de plus est-ce pertinent d'insérer au modèle une variable avec autant de catégories? d'autant plus qu'il s'agit de quartiers de la variable emplacement..."
   ]
  },
  {
   "cell_type": "markdown",
   "metadata": {},
   "source": [
    "### Exercice 3: \n",
    "- Visualisez la relation qu'il y a entre *price* puis *log(price* et *room_type* puis *availability_365*.\n",
    "- Proposez sous quelle forme les variables *room_type* et *availability_365* devraient être incluses dans le modèle."
   ]
  },
  {
   "cell_type": "markdown",
   "metadata": {},
   "source": [
    "## Sample.split\n",
    "La commande **sample.split** du package **caTools** permet de séparer de façon aléatoire un jeu de données. Nous l'utiliserons ici pour séparer notre jeu de données en ensemble d'apprentissage *data.train* sur lequel on fera l'ajustement des modèles et en ensemble de test *data.test* qui servira à valider l'efficacité de nos prédictions."
   ]
  },
  {
   "cell_type": "code",
   "execution_count": 126,
   "metadata": {},
   "outputs": [
    {
     "data": {
      "text/html": [
       "39162"
      ],
      "text/latex": [
       "39162"
      ],
      "text/markdown": [
       "39162"
      ],
      "text/plain": [
       "[1] 39162"
      ]
     },
     "metadata": {},
     "output_type": "display_data"
    },
    {
     "data": {
      "text/html": [
       "9733"
      ],
      "text/latex": [
       "9733"
      ],
      "text/markdown": [
       "9733"
      ],
      "text/plain": [
       "[1] 9733"
      ]
     },
     "metadata": {},
     "output_type": "display_data"
    }
   ],
   "source": [
    "# install.packages(\"caTools\")\n",
    "library(caTools)\n",
    "set.seed(0611)\n",
    "\n",
    "split = sample.split(dataset$price, SplitRatio = 0.8)\n",
    "data.train = subset(dataset, split == TRUE )\n",
    "data.test  = subset(dataset, split == FALSE)\n",
    "\n",
    "nrow(data.train)\n",
    "nrow(data.test)\n",
    "\n"
   ]
  },
  {
   "cell_type": "code",
   "execution_count": 125,
   "metadata": {},
   "outputs": [
    {
     "data": {
      "text/html": [
       "39153"
      ],
      "text/latex": [
       "39153"
      ],
      "text/markdown": [
       "39153"
      ],
      "text/plain": [
       "[1] 39153"
      ]
     },
     "metadata": {},
     "output_type": "display_data"
    },
    {
     "data": {
      "text/html": [
       "9731"
      ],
      "text/latex": [
       "9731"
      ],
      "text/markdown": [
       "9731"
      ],
      "text/plain": [
       "[1] 9731"
      ]
     },
     "metadata": {},
     "output_type": "display_data"
    }
   ],
   "source": [
    "split = sample.split(mydata$price, SplitRatio = 0.8)\n",
    "data_train = subset(mydata, split == TRUE )\n",
    "data_test  = subset(mydata, split == FALSE)\n",
    "\n",
    "nrow(data_train)\n",
    "nrow(data_test)"
   ]
  },
  {
   "cell_type": "markdown",
   "metadata": {},
   "source": [
    "<a id=\"modelling\"></a>\n",
    "# Section 3: Choix de modèles de régression linéaire et ajustement\n",
    "\n",
    "## Choix de modèles\n",
    "De l'analyse préliminaire faite à la section précédente, il sera pertinent de prendre en considération les points suivants:\n",
    "- En raison de la grande variabilité dans les prix des airbnb, la variable dépendante à modéliser sera le log du prix et non le prix tout court;\n",
    "- Il ne semble pas pertinent d'ajouter à l'analyse les 4 variables identifiants;\n",
    "- Les variables date du dernier avis et nombre d'avis par mois ne seront pas incorporées non plus en raison du fait que la première est du type catégorielle avec énormément de catégories et la seconde comporte plus de 10000 valeurs manquantes. De plu l'information contenue dans ces variables pourrait être recoupée avec la variable nombre d'avis qui elle sera prise en compte;\n",
    "- latitude et longitude sont très peu variables et devraient être fortement correlés avec l'emplacement et le quartier: elles n'entreront pas non plus dans le modèle;\n",
    "\n",
    "finalement, les variables suivantes seront considérées comme régresseurs:\n",
    "- minimum_nights, log_minimum_nights, log_minimum_nights2, log_minimum_nights3\n",
    "- number_of_reviews, number_of_reviews2\n",
    "- calculated_host_listings_count, calculated_host_listings_count2\n",
    "- room_type, neighbourhood_group, neighbourhood (comme facteurs)\n",
    "- availability_365\n"
   ]
  },
  {
   "cell_type": "code",
   "execution_count": 145,
   "metadata": {
    "scrolled": true
   },
   "outputs": [
    {
     "data": {
      "text/html": [
       "<ol class=list-inline>\n",
       "\t<li>39153</li>\n",
       "\t<li>22</li>\n",
       "</ol>\n"
      ],
      "text/latex": [
       "\\begin{enumerate*}\n",
       "\\item 39153\n",
       "\\item 22\n",
       "\\end{enumerate*}\n"
      ],
      "text/markdown": [
       "1. 39153\n",
       "2. 22\n",
       "\n",
       "\n"
      ],
      "text/plain": [
       "[1] 39153    22"
      ]
     },
     "metadata": {},
     "output_type": "display_data"
    },
    {
     "data": {
      "text/html": [
       "<ol class=list-inline>\n",
       "\t<li>9731</li>\n",
       "\t<li>22</li>\n",
       "</ol>\n"
      ],
      "text/latex": [
       "\\begin{enumerate*}\n",
       "\\item 9731\n",
       "\\item 22\n",
       "\\end{enumerate*}\n"
      ],
      "text/markdown": [
       "1. 9731\n",
       "2. 22\n",
       "\n",
       "\n"
      ],
      "text/plain": [
       "[1] 9731   22"
      ]
     },
     "metadata": {},
     "output_type": "display_data"
    }
   ],
   "source": [
    "# Création des nouvelles variables\n",
    "\n",
    "data_train$log_price                = log(data_train$price)\n",
    "data_train$log_minnight             = log(data_train$minimum_nights)\n",
    "data_train$log_minnight2            = log(data_train$minimum_nights)^2\n",
    "data_train$log_minnight3            = log(data_train$minimum_nights)^3\n",
    "data_train$nbreview2                = (data_train$number_of_reviews)^2\n",
    "data_train$calculated_host_listing2 = log(data_train$calculated_host_listings_count)\n",
    "\n",
    "dim(data_train)\n",
    "\n",
    "data_test$log_price                = log(data_test$price)\n",
    "data_test$log_minnight             = log(data_test$minimum_nights)\n",
    "data_test$log_minnight2            = log(data_test$minimum_nights)^2\n",
    "data_test$log_minnight3            = log(data_test$minimum_nights)^3\n",
    "data_test$nbreview2                = (data_test$number_of_reviews)^2\n",
    "data_test$calculated_host_listing2 = log(data_test$calculated_host_listings_count)\n",
    "\n",
    "dim(data_test)"
   ]
  },
  {
   "cell_type": "markdown",
   "metadata": {},
   "source": [
    "## Ajustements\n"
   ]
  },
  {
   "cell_type": "markdown",
   "metadata": {},
   "source": [
    "On commence par ajuster un premier modèle dit \"naïf\" qui ne prend pas vraiment en compte l'analyse préliminaire"
   ]
  },
  {
   "cell_type": "code",
   "execution_count": 133,
   "metadata": {},
   "outputs": [
    {
     "data": {
      "text/plain": [
       "\n",
       "Call:\n",
       "lm(formula = data.train$price ~ ., data = data.train[, c(5, 7:12, \n",
       "    15, 16)])\n",
       "\n",
       "Residuals:\n",
       "   Min     1Q Median     3Q    Max \n",
       "-260.5  -64.8  -24.3   16.8 9950.8 \n",
       "\n",
       "Coefficients:\n",
       "                                   Estimate Std. Error t value Pr(>|t|)    \n",
       "(Intercept)                      -2.949e+04  3.658e+03  -8.063 7.66e-16 ***\n",
       "neighbourhood_groupBrooklyn      -3.622e+01  9.996e+00  -3.624 0.000291 ***\n",
       "neighbourhood_groupManhattan      2.919e+01  9.062e+00   3.221 0.001277 ** \n",
       "neighbourhood_groupQueens        -3.984e+00  9.616e+00  -0.414 0.678675    \n",
       "neighbourhood_groupStaten Island -1.588e+02  1.885e+01  -8.423  < 2e-16 ***\n",
       "latitude                         -2.217e+02  3.577e+01  -6.199 5.74e-10 ***\n",
       "longitude                        -5.236e+02  4.107e+01 -12.749  < 2e-16 ***\n",
       "room_typePrivate room            -1.071e+02  2.460e+00 -43.514  < 2e-16 ***\n",
       "room_typeShared room             -1.442e+02  7.946e+00 -18.150  < 2e-16 ***\n",
       "minimum_nights                   -6.754e-02  6.115e-02  -1.105 0.269377    \n",
       "number_of_reviews                -3.229e-01  2.695e-02 -11.980  < 2e-16 ***\n",
       "calculated_host_listings_count   -1.934e-01  3.775e-02  -5.122 3.04e-07 ***\n",
       "availability_365                  2.107e-01  9.596e-03  21.963  < 2e-16 ***\n",
       "---\n",
       "Signif. codes:  0 '***' 0.001 '**' 0.01 '*' 0.05 '.' 0.1 ' ' 1\n",
       "\n",
       "Residual standard error: 232.4 on 39149 degrees of freedom\n",
       "Multiple R-squared:  0.09977,\tAdjusted R-squared:  0.0995 \n",
       "F-statistic: 361.6 on 12 and 39149 DF,  p-value: < 2.2e-16\n"
      ]
     },
     "metadata": {},
     "output_type": "display_data"
    }
   ],
   "source": [
    "model1 = lm(data.train$price~., data=data.train[,c(5,7:12,15,16)])\n",
    "summary(model1)"
   ]
  },
  {
   "cell_type": "code",
   "execution_count": 147,
   "metadata": {},
   "outputs": [
    {
     "data": {
      "text/plain": [
       "\n",
       "Call:\n",
       "lm(formula = data_train$log_price ~ ., data = data_train[, c(5, \n",
       "    9, 11, 12, 15, 16, 18:22)])\n",
       "\n",
       "Residuals:\n",
       "    Min      1Q  Median      3Q     Max \n",
       "-3.0484 -0.3139 -0.0486  0.2489  5.3769 \n",
       "\n",
       "Coefficients:\n",
       "                                   Estimate Std. Error  t value Pr(>|t|)    \n",
       "(Intercept)                       4.717e+00  1.828e-02  258.009  < 2e-16 ***\n",
       "neighbourhood_groupBrooklyn       2.726e-01  1.752e-02   15.558  < 2e-16 ***\n",
       "neighbourhood_groupManhattan      6.078e-01  1.754e-02   34.647  < 2e-16 ***\n",
       "neighbourhood_groupQueens         1.324e-01  1.857e-02    7.127 1.05e-12 ***\n",
       "neighbourhood_groupStaten Island  1.144e-03  3.374e-02    0.034 0.972965    \n",
       "room_typePrivate room            -7.944e-01  5.456e-03 -145.601  < 2e-16 ***\n",
       "room_typeShared room             -1.191e+00  1.730e-02  -68.839  < 2e-16 ***\n",
       "minimum_nights                   -2.186e-03  4.853e-04   -4.505 6.65e-06 ***\n",
       "number_of_reviews                -2.244e-03  1.183e-04  -18.957  < 2e-16 ***\n",
       "calculated_host_listings_count    7.350e-04  1.193e-04    6.159 7.40e-10 ***\n",
       "availability_365                  8.675e-04  2.233e-05   38.860  < 2e-16 ***\n",
       "log_minnight                      9.718e-02  1.357e-02    7.161 8.18e-13 ***\n",
       "log_minnight2                    -1.173e-01  9.768e-03  -12.003  < 2e-16 ***\n",
       "log_minnight3                     2.089e-02  2.119e-03    9.857  < 2e-16 ***\n",
       "nbreview2                         5.097e-06  4.773e-07   10.678  < 2e-16 ***\n",
       "calculated_host_listing2         -1.560e-02  4.076e-03   -3.828 0.000129 ***\n",
       "---\n",
       "Signif. codes:  0 '***' 0.001 '**' 0.01 '*' 0.05 '.' 0.1 ' ' 1\n",
       "\n",
       "Residual standard error: 0.5049 on 39137 degrees of freedom\n",
       "Multiple R-squared:  0.483,\tAdjusted R-squared:  0.4828 \n",
       "F-statistic:  2437 on 15 and 39137 DF,  p-value: < 2.2e-16\n"
      ]
     },
     "metadata": {},
     "output_type": "display_data"
    }
   ],
   "source": [
    "model2 = lm(data_train$log_price~., data=data_train[,c(5,9,11,12,15,16,18:22)])\n",
    "summary(model2)"
   ]
  },
  {
   "cell_type": "markdown",
   "metadata": {},
   "source": [
    "### Exercice 3:\n",
    "Ajustez sur l'ensemble d'entraînement un troisième modèle qui ajoute au modèle 2 les regresseurs *neighbourhood*, *latitude* et *longitude*. Appelez-le **model3**.\n",
    "Quelles sont vos conclusions?"
   ]
  }
 ],
 "metadata": {
  "kernelspec": {
   "display_name": "R",
   "language": "R",
   "name": "ir"
  },
  "language_info": {
   "codemirror_mode": "r",
   "file_extension": ".r",
   "mimetype": "text/x-r-source",
   "name": "R",
   "pygments_lexer": "r",
   "version": "3.6.1"
  }
 },
 "nbformat": 4,
 "nbformat_minor": 2
}
