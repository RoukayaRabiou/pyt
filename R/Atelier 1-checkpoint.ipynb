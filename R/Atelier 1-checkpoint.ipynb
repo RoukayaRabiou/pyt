{
 "cells": [
  {
   "cell_type": "markdown",
   "metadata": {},
   "source": [
    "<img style=\"float: left;\" src=\"images/banniere_1.png\">"
   ]
  },
  {
   "cell_type": "markdown",
   "metadata": {},
   "source": [
    "*__Réalisé par: Marie-Joël Dandoga, VP-Education - R 2019-2020__*\n",
    "\n",
    "**Sommaire**\n",
    "\n",
    "1. **Introduction**\n",
    "    * Généralités\n",
    "    * Attributions\n",
    "2. **R une calculatrice**\n",
    "3. **Création d'objet dans R**\n",
    "4. **Excercice 1**\n",
    "5. **Structures de données**\n",
    "    * Vecteurs\n",
    "    * Matrices & Tableaux\n",
    "    * Listes\n",
    "    * Data.frame\n",
    "    * Facteurs & Variables ordinales\n",
    "6. **Excercice 2**\n",
    "7. **Instructions avancées**\n",
    "    * Conditions\n",
    "    * Récursions\n",
    "    * Importation de données\n",
    "8. **Excercice récapitulatif**\n",
    "\n",
    "\n",
    "\n",
    "## **1. Introduction**\n",
    "\n",
    "### i) Généralités\n",
    "\n",
    "* R est un logiciel gratuit à code source ouvert (open-source) qui a l'avantage d'être disponible sur plusieurs plateformes (Windows, Macintosh, UNIX).\n",
    "  \n",
    "* Ce logiciel sert à manipuler des données, faire des calculs, tracer des graphiques et faire des analyses statistiques sur ces données.\n",
    "  \n",
    "* L'outil est très efficace lorsqu'on maîtrise le langage R puisque l'on devient alors capable de créer ses propres outils, ce qui permet ainsi d'opérer des analyses très sophistiquées sur les données.\n",
    "\n",
    "***\n",
    "\n",
    "### ii) Attributions\n",
    "Le logiciel R possède entre autres:\n",
    "\n",
    "* Un système de documentation intégré très bien conçu (en anglais);\n",
    "* Des procédures efficaces de traitement et de stockage des données, tant statistiques qu'analytiques;\n",
    "* Une suite d'opérateurs sur le calcul sur les tableaux et surtout sur les matrices;\n",
    "* Des capacités graphiques évoluées;\n",
    "* Un langage de programmation simple et efficace intégrant les conditions, les boucles ou récursivités etc.\n",
    "\n",
    "* Il sera donc question dans cet atelier d'explorer quelques de ces éléments de programmation de base en vue de permettre à un auditoire débutant d'acquérir, par une pratique régulière et autodidacte, une expertise plus évoluée.\n",
    "\n",
    "\n",
    "## **2. R est une calculatrice.**\n",
    "\n",
    ">- *__Attention, le séparateur decimal doit être un point (.)__*"
   ]
  },
  {
   "cell_type": "code",
   "execution_count": 4,
   "metadata": {},
   "outputs": [
    {
     "data": {
      "text/html": [
       "-176"
      ],
      "text/latex": [
       "-176"
      ],
      "text/markdown": [
       "-176"
      ],
      "text/plain": [
       "[1] -176"
      ]
     },
     "metadata": {},
     "output_type": "display_data"
    },
    {
     "data": {
      "text/html": [
       "-0.809016994374947"
      ],
      "text/latex": [
       "-0.809016994374947"
      ],
      "text/markdown": [
       "-0.809016994374947"
      ],
      "text/plain": [
       "[1] -0.809017"
      ]
     },
     "metadata": {},
     "output_type": "display_data"
    },
    {
     "data": {
      "text/html": [
       "4"
      ],
      "text/latex": [
       "4"
      ],
      "text/markdown": [
       "4"
      ],
      "text/plain": [
       "[1] 4"
      ]
     },
     "metadata": {},
     "output_type": "display_data"
    }
   ],
   "source": [
    "25*(-7.04); cos(4*pi/5); (12*(1.5-0.5))/3\n"
   ]
  },
  {
   "cell_type": "markdown",
   "metadata": {},
   "source": [
    ">- *__Deux opérations identiques__*\n"
   ]
  },
  {
   "cell_type": "code",
   "execution_count": 3,
   "metadata": {},
   "outputs": [
    {
     "data": {
      "text/html": [
       "100"
      ],
      "text/latex": [
       "100"
      ],
      "text/markdown": [
       "100"
      ],
      "text/plain": [
       "[1] 100"
      ]
     },
     "metadata": {},
     "output_type": "display_data"
    },
    {
     "data": {
      "text/html": [
       "100"
      ],
      "text/latex": [
       "100"
      ],
      "text/markdown": [
       "100"
      ],
      "text/plain": [
       "[1] 100"
      ]
     },
     "metadata": {},
     "output_type": "display_data"
    }
   ],
   "source": [
    "10^2\n",
    "10**2\n"
   ]
  },
  {
   "cell_type": "markdown",
   "metadata": {},
   "source": [
    ">- *__Racine carrée__*\n"
   ]
  },
  {
   "cell_type": "code",
   "execution_count": 6,
   "metadata": {},
   "outputs": [
    {
     "data": {
      "text/html": [
       "9"
      ],
      "text/latex": [
       "9"
      ],
      "text/markdown": [
       "9"
      ],
      "text/plain": [
       "[1] 9"
      ]
     },
     "metadata": {},
     "output_type": "display_data"
    }
   ],
   "source": [
    "sqrt(81)\n"
   ]
  },
  {
   "cell_type": "markdown",
   "metadata": {},
   "source": [
    ">- *__exponentielle et logarithme de base naturelle__*\n"
   ]
  },
  {
   "cell_type": "code",
   "execution_count": 7,
   "metadata": {},
   "outputs": [
    {
     "data": {
      "text/html": [
       "10.4855697247276"
      ],
      "text/latex": [
       "10.4855697247276"
      ],
      "text/markdown": [
       "10.4855697247276"
      ],
      "text/plain": [
       "[1] 10.48557"
      ]
     },
     "metadata": {},
     "output_type": "display_data"
    },
    {
     "data": {
      "text/html": [
       "2.74727091425549"
      ],
      "text/latex": [
       "2.74727091425549"
      ],
      "text/markdown": [
       "2.74727091425549"
      ],
      "text/plain": [
       "[1] 2.747271"
      ]
     },
     "metadata": {},
     "output_type": "display_data"
    }
   ],
   "source": [
    "exp(2.35)\n",
    "log(7.8/(3-2.5))\n"
   ]
  },
  {
   "cell_type": "markdown",
   "metadata": {},
   "source": [
    "## **3. Création d'objet dans R**\n",
    "Pour créer un objet dans R, on utilise la syntaxe suivante :\n",
    "\n",
    "**Nom.objet.a.creer <- instructions**\n",
    "\n",
    "__*Remarque:*__ R est sensible à la casse. Tout nom de variable ne peut être constitué que de caractères alphanumériques ainsi que du point (.) ; un nom de variable ne peut pas contenir des espaces ou commencer par un chiffre, sauf s'il est encadré de guillemets \"\".\n",
    "\n",
    "\n",
    "## **4. Exercice 1** \n",
    "L'indice de Quételet ou IMC est défini par IMC = poids/taille² où le poids est exprimé en kg et la taille en m. Calculer votre IMC ou celui de quelqu'un que vous connaissez! Créer une variable appelée imc conservant cette valeur.\n",
    "\n",
    " **Solution**\n"
   ]
  },
  {
   "cell_type": "code",
   "execution_count": 8,
   "metadata": {},
   "outputs": [
    {
     "data": {
      "text/html": [
       "22.0931700542861"
      ],
      "text/latex": [
       "22.0931700542861"
      ],
      "text/markdown": [
       "22.0931700542861"
      ],
      "text/plain": [
       "[1] 22.09317"
      ]
     },
     "metadata": {},
     "output_type": "display_data"
    }
   ],
   "source": [
    "   Mon.Poids <- 70 \n",
    "   Ma.Taille <- 1.78 \n",
    "   Mon.IMC   <- Mon.Poids/Ma.Taille^2\n",
    "   Mon.IMC\n"
   ]
  },
  {
   "cell_type": "markdown",
   "metadata": {},
   "source": [
    "## **5. Les structures de données**\n",
    "Le point de départ d'une analyse de données en R est d'avoir accès aux données. Ces données doivent être stockées dans un ou des objets R. Pour utiliser R, il faut donc d'abord connaître les différents types d'objets pouvant servir de contenant de données et savoir travailler avec ces objets.\n",
    "\n",
    "Il existe différents types de structures de données en R tels que *les veteurs, les matrices, les tableaux, les listes, etc.*\n",
    "\n",
    "### *Les vecteurs*\n",
    "Structure de donnée la plus simple qui représente une collection de donées de même type.  \n",
    "Plusieurs fonctions permettent de créer des vecteurs:\n"
   ]
  },
  {
   "cell_type": "code",
   "execution_count": 9,
   "metadata": {},
   "outputs": [
    {
     "data": {
      "text/html": [
       "<ol class=list-inline>\n",
       "\t<li>1</li>\n",
       "\t<li>2</li>\n",
       "\t<li>3</li>\n",
       "\t<li>4</li>\n",
       "\t<li>5</li>\n",
       "</ol>\n"
      ],
      "text/latex": [
       "\\begin{enumerate*}\n",
       "\\item 1\n",
       "\\item 2\n",
       "\\item 3\n",
       "\\item 4\n",
       "\\item 5\n",
       "\\end{enumerate*}\n"
      ],
      "text/markdown": [
       "1. 1\n",
       "2. 2\n",
       "3. 3\n",
       "4. 4\n",
       "5. 5\n",
       "\n",
       "\n"
      ],
      "text/plain": [
       "[1] 1 2 3 4 5"
      ]
     },
     "metadata": {},
     "output_type": "display_data"
    },
    {
     "data": {
      "text/html": [
       "<ol class=list-inline>\n",
       "\t<li>'TRUE'</li>\n",
       "\t<li>'1865'</li>\n",
       "\t<li>'5.2'</li>\n",
       "\t<li>'hello'</li>\n",
       "</ol>\n"
      ],
      "text/latex": [
       "\\begin{enumerate*}\n",
       "\\item 'TRUE'\n",
       "\\item '1865'\n",
       "\\item '5.2'\n",
       "\\item 'hello'\n",
       "\\end{enumerate*}\n"
      ],
      "text/markdown": [
       "1. 'TRUE'\n",
       "2. '1865'\n",
       "3. '5.2'\n",
       "4. 'hello'\n",
       "\n",
       "\n"
      ],
      "text/plain": [
       "[1] \"TRUE\"  \"1865\"  \"5.2\"   \"hello\""
      ]
     },
     "metadata": {},
     "output_type": "display_data"
    }
   ],
   "source": [
    "vec0 <- c(1,2,3,4,5)\n",
    "vec0\n",
    "vec1 <- c(TRUE,1865,5.2,\"hello\")\n",
    "vec1"
   ]
  },
  {
   "cell_type": "markdown",
   "metadata": {},
   "source": [
    "*__Remarque:__* Un vecteur peut contenir une collection d'objet de types différents; R se charge alors de les convertir de façon implicite dans le type le plus général.\n"
   ]
  },
  {
   "cell_type": "code",
   "execution_count": 10,
   "metadata": {},
   "outputs": [
    {
     "data": {
      "text/html": [
       "<ol class=list-inline>\n",
       "\t<li>10</li>\n",
       "\t<li>20</li>\n",
       "\t<li>30</li>\n",
       "\t<li>40</li>\n",
       "\t<li>50</li>\n",
       "\t<li>60</li>\n",
       "\t<li>70</li>\n",
       "\t<li>80</li>\n",
       "\t<li>90</li>\n",
       "\t<li>100</li>\n",
       "</ol>\n"
      ],
      "text/latex": [
       "\\begin{enumerate*}\n",
       "\\item 10\n",
       "\\item 20\n",
       "\\item 30\n",
       "\\item 40\n",
       "\\item 50\n",
       "\\item 60\n",
       "\\item 70\n",
       "\\item 80\n",
       "\\item 90\n",
       "\\item 100\n",
       "\\end{enumerate*}\n"
      ],
      "text/markdown": [
       "1. 10\n",
       "2. 20\n",
       "3. 30\n",
       "4. 40\n",
       "5. 50\n",
       "6. 60\n",
       "7. 70\n",
       "8. 80\n",
       "9. 90\n",
       "10. 100\n",
       "\n",
       "\n"
      ],
      "text/plain": [
       " [1]  10  20  30  40  50  60  70  80  90 100"
      ]
     },
     "metadata": {},
     "output_type": "display_data"
    },
    {
     "data": {
      "text/html": [
       "<ol class=list-inline>\n",
       "\t<li>1</li>\n",
       "\t<li>2</li>\n",
       "\t<li>3</li>\n",
       "\t<li>4</li>\n",
       "\t<li>5</li>\n",
       "\t<li>6</li>\n",
       "\t<li>7</li>\n",
       "\t<li>8</li>\n",
       "\t<li>9</li>\n",
       "\t<li>10</li>\n",
       "</ol>\n"
      ],
      "text/latex": [
       "\\begin{enumerate*}\n",
       "\\item 1\n",
       "\\item 2\n",
       "\\item 3\n",
       "\\item 4\n",
       "\\item 5\n",
       "\\item 6\n",
       "\\item 7\n",
       "\\item 8\n",
       "\\item 9\n",
       "\\item 10\n",
       "\\end{enumerate*}\n"
      ],
      "text/markdown": [
       "1. 1\n",
       "2. 2\n",
       "3. 3\n",
       "4. 4\n",
       "5. 5\n",
       "6. 6\n",
       "7. 7\n",
       "8. 8\n",
       "9. 9\n",
       "10. 10\n",
       "\n",
       "\n"
      ],
      "text/plain": [
       " [1]  1  2  3  4  5  6  7  8  9 10"
      ]
     },
     "metadata": {},
     "output_type": "display_data"
    }
   ],
   "source": [
    "vec2 <- seq(from=10, to=100, by=10)\n",
    "vec2\n",
    "vec3 <- 1:10\n",
    "vec3\n"
   ]
  },
  {
   "cell_type": "markdown",
   "metadata": {},
   "source": [
    "### *Matrices et tableaux*\n",
    "Ils généralisent la notion de vecteur puisqu'ils représentent une collection d'objets **homogènes** à double entrées pour les matrices et plusieurs entrées pour les tableaux.\n"
   ]
  },
  {
   "cell_type": "code",
   "execution_count": 11,
   "metadata": {},
   "outputs": [
    {
     "data": {
      "text/html": [
       "<table>\n",
       "<tbody>\n",
       "\t<tr><td> 1</td><td> 2</td><td> 3</td></tr>\n",
       "\t<tr><td> 4</td><td> 5</td><td> 6</td></tr>\n",
       "\t<tr><td> 7</td><td> 8</td><td> 9</td></tr>\n",
       "\t<tr><td>10</td><td>11</td><td>12</td></tr>\n",
       "</tbody>\n",
       "</table>\n"
      ],
      "text/latex": [
       "\\begin{tabular}{lll}\n",
       "\t  1 &  2 &  3\\\\\n",
       "\t  4 &  5 &  6\\\\\n",
       "\t  7 &  8 &  9\\\\\n",
       "\t 10 & 11 & 12\\\\\n",
       "\\end{tabular}\n"
      ],
      "text/markdown": [
       "\n",
       "|  1 |  2 |  3 |\n",
       "|  4 |  5 |  6 |\n",
       "|  7 |  8 |  9 |\n",
       "| 10 | 11 | 12 |\n",
       "\n"
      ],
      "text/plain": [
       "     [,1] [,2] [,3]\n",
       "[1,]  1    2    3  \n",
       "[2,]  4    5    6  \n",
       "[3,]  7    8    9  \n",
       "[4,] 10   11   12  "
      ]
     },
     "metadata": {},
     "output_type": "display_data"
    },
    {
     "data": {
      "text/html": [
       "<ol class=list-inline>\n",
       "\t<li>1</li>\n",
       "\t<li>2</li>\n",
       "\t<li>3</li>\n",
       "\t<li>4</li>\n",
       "\t<li>5</li>\n",
       "\t<li>6</li>\n",
       "\t<li>7</li>\n",
       "\t<li>8</li>\n",
       "\t<li>9</li>\n",
       "\t<li>10</li>\n",
       "\t<li>11</li>\n",
       "\t<li>12</li>\n",
       "</ol>\n"
      ],
      "text/latex": [
       "\\begin{enumerate*}\n",
       "\\item 1\n",
       "\\item 2\n",
       "\\item 3\n",
       "\\item 4\n",
       "\\item 5\n",
       "\\item 6\n",
       "\\item 7\n",
       "\\item 8\n",
       "\\item 9\n",
       "\\item 10\n",
       "\\item 11\n",
       "\\item 12\n",
       "\\end{enumerate*}\n"
      ],
      "text/markdown": [
       "1. 1\n",
       "2. 2\n",
       "3. 3\n",
       "4. 4\n",
       "5. 5\n",
       "6. 6\n",
       "7. 7\n",
       "8. 8\n",
       "9. 9\n",
       "10. 10\n",
       "11. 11\n",
       "12. 12\n",
       "\n",
       "\n"
      ],
      "text/plain": [
       ", , 1\n",
       "\n",
       "     [,1] [,2]\n",
       "[1,]    1    3\n",
       "[2,]    2    4\n",
       "\n",
       ", , 2\n",
       "\n",
       "     [,1] [,2]\n",
       "[1,]    5    7\n",
       "[2,]    6    8\n",
       "\n",
       ", , 3\n",
       "\n",
       "     [,1] [,2]\n",
       "[1,]    9   11\n",
       "[2,]   10   12\n"
      ]
     },
     "metadata": {},
     "output_type": "display_data"
    }
   ],
   "source": [
    "X <- matrix(1:12,nrow=4,ncol=3,byrow=TRUE)\n",
    "X\n",
    "Z <- array(1:12,dim=c(2,2,3))\n",
    "Z\n"
   ]
  },
  {
   "cell_type": "markdown",
   "metadata": {},
   "source": [
    "### *Les listes* \n",
    "Structure de donées du langage R la plus souple et la plus riche. Elle permet de stocker différents types de données différentes sans les altérer. De façon générale, une liste peut contenir un vecteur, un tableau, un booléen ou même une liste.\n"
   ]
  },
  {
   "cell_type": "code",
   "execution_count": 12,
   "metadata": {},
   "outputs": [
    {
     "data": {
      "text/html": [
       "<ol>\n",
       "\t<li><ol class=list-inline>\n",
       "\t<li>-1</li>\n",
       "\t<li>0</li>\n",
       "\t<li>1</li>\n",
       "</ol>\n",
       "</li>\n",
       "\t<li><table>\n",
       "<tbody>\n",
       "\t<tr><td>0.0</td><td>0.4</td><td>0.8</td></tr>\n",
       "\t<tr><td>0.2</td><td>0.6</td><td>1.0</td></tr>\n",
       "</tbody>\n",
       "</table>\n",
       "</li>\n",
       "\t<li>TRUE</li>\n",
       "\t<li>'une chaine de caractere'</li>\n",
       "</ol>\n"
      ],
      "text/latex": [
       "\\begin{enumerate}\n",
       "\\item \\begin{enumerate*}\n",
       "\\item -1\n",
       "\\item 0\n",
       "\\item 1\n",
       "\\end{enumerate*}\n",
       "\n",
       "\\item \\begin{tabular}{lll}\n",
       "\t 0.0 & 0.4 & 0.8\\\\\n",
       "\t 0.2 & 0.6 & 1.0\\\\\n",
       "\\end{tabular}\n",
       "\n",
       "\\item TRUE\n",
       "\\item 'une chaine de caractere'\n",
       "\\end{enumerate}\n"
      ],
      "text/markdown": [
       "1. 1. -1\n",
       "2. 0\n",
       "3. 1\n",
       "\n",
       "\n",
       "\n",
       "2. \n",
       "| 0.0 | 0.4 | 0.8 |\n",
       "| 0.2 | 0.6 | 1.0 |\n",
       "\n",
       "\n",
       "3. TRUE\n",
       "4. 'une chaine de caractere'\n",
       "\n",
       "\n"
      ],
      "text/plain": [
       "[[1]]\n",
       "[1] -1  0  1\n",
       "\n",
       "[[2]]\n",
       "     [,1] [,2] [,3]\n",
       "[1,]  0.0  0.4  0.8\n",
       "[2,]  0.2  0.6  1.0\n",
       "\n",
       "[[3]]\n",
       "[1] TRUE\n",
       "\n",
       "[[4]]\n",
       "[1] \"une chaine de caractere\"\n"
      ]
     },
     "metadata": {},
     "output_type": "display_data"
    }
   ],
   "source": [
    "ma.liste <- list(-1:1, matrix(seq(0,1,0.2),2,3), T,\n",
    "                 \"une chaine de caractere\")\n",
    "ma.liste"
   ]
  },
  {
   "cell_type": "markdown",
   "metadata": {},
   "source": [
    "### *Le data.frame*\n",
    "* Il s'agit d'un tableau croisé comportant les individus en lignes et les variables mesurées sur ceux-ci en colonnes. C'est la structure de données par excellence en statistique. Chaque variable ou colonne doit contenir des données du même type.\n",
    "\n",
    "### *Les facteurs (*factor*) et les variables ordinales (*ordered*)*\n",
    "* R permet d'organiser les chaines de caractères de façon plus astucieuse au moyen de la fonction *factor()*. Il est bien évidemment possible de mettre des facteurs dans un *data.frame*. R indique les différents niveaux (*levels*) du facteur. La fonction *factor()* est donc celle à utiliser pour stocker des **variables qualitatives**. \n",
    "Pour les **variables ordinales**, il est plutôt conseillé d'utiliser la fonction *ordered()*."
   ]
  },
  {
   "cell_type": "code",
   "execution_count": 13,
   "metadata": {},
   "outputs": [
    {
     "data": {
      "text/html": [
       "<ol class=list-inline>\n",
       "\t<li>bleu</li>\n",
       "\t<li>vert</li>\n",
       "\t<li>bleu</li>\n",
       "\t<li>rouge</li>\n",
       "\t<li>bleu</li>\n",
       "\t<li>vert</li>\n",
       "\t<li>vert</li>\n",
       "</ol>\n",
       "\n",
       "<details>\n",
       "\t<summary style=display:list-item;cursor:pointer>\n",
       "\t\t<strong>Levels</strong>:\n",
       "\t</summary>\n",
       "\t<ol class=list-inline>\n",
       "\t\t<li>'bleu'</li>\n",
       "\t\t<li>'rouge'</li>\n",
       "\t\t<li>'vert'</li>\n",
       "\t</ol>\n",
       "</details>"
      ],
      "text/latex": [
       "\\begin{enumerate*}\n",
       "\\item bleu\n",
       "\\item vert\n",
       "\\item bleu\n",
       "\\item rouge\n",
       "\\item bleu\n",
       "\\item vert\n",
       "\\item vert\n",
       "\\end{enumerate*}\n",
       "\n",
       "\\emph{Levels}: \\begin{enumerate*}\n",
       "\\item 'bleu'\n",
       "\\item 'rouge'\n",
       "\\item 'vert'\n",
       "\\end{enumerate*}\n"
      ],
      "text/markdown": [
       "1. bleu\n",
       "2. vert\n",
       "3. bleu\n",
       "4. rouge\n",
       "5. bleu\n",
       "6. vert\n",
       "7. vert\n",
       "\n",
       "\n",
       "\n",
       "**Levels**: 1. 'bleu'\n",
       "2. 'rouge'\n",
       "3. 'vert'\n",
       "\n",
       "\n"
      ],
      "text/plain": [
       "[1] bleu  vert  bleu  rouge bleu  vert  vert \n",
       "Levels: bleu rouge vert"
      ]
     },
     "metadata": {},
     "output_type": "display_data"
    },
    {
     "data": {
      "text/html": [
       "<ol class=list-inline>\n",
       "\t<li>Petit</li>\n",
       "\t<li>Grand</li>\n",
       "\t<li>Moyen</li>\n",
       "\t<li>Grand</li>\n",
       "\t<li>Moyen</li>\n",
       "\t<li>Petit</li>\n",
       "\t<li>Petit</li>\n",
       "</ol>\n",
       "\n",
       "<details>\n",
       "\t<summary style=display:list-item;cursor:pointer>\n",
       "\t\t<strong>Levels</strong>:\n",
       "\t</summary>\n",
       "\t<ol class=list-inline>\n",
       "\t\t<li>'Petit'</li>\n",
       "\t\t<li>'Moyen'</li>\n",
       "\t\t<li>'Grand'</li>\n",
       "\t</ol>\n",
       "</details>"
      ],
      "text/latex": [
       "\\begin{enumerate*}\n",
       "\\item Petit\n",
       "\\item Grand\n",
       "\\item Moyen\n",
       "\\item Grand\n",
       "\\item Moyen\n",
       "\\item Petit\n",
       "\\item Petit\n",
       "\\end{enumerate*}\n",
       "\n",
       "\\emph{Levels}: \\begin{enumerate*}\n",
       "\\item 'Petit'\n",
       "\\item 'Moyen'\n",
       "\\item 'Grand'\n",
       "\\end{enumerate*}\n"
      ],
      "text/markdown": [
       "1. Petit\n",
       "2. Grand\n",
       "3. Moyen\n",
       "4. Grand\n",
       "5. Moyen\n",
       "6. Petit\n",
       "7. Petit\n",
       "\n",
       "\n",
       "\n",
       "**Levels**: 1. 'Petit'\n",
       "2. 'Moyen'\n",
       "3. 'Grand'\n",
       "\n",
       "\n"
      ],
      "text/plain": [
       "[1] Petit Grand Moyen Grand Moyen Petit Petit\n",
       "Levels: Petit < Moyen < Grand"
      ]
     },
     "metadata": {},
     "output_type": "display_data"
    }
   ],
   "source": [
    "pal <- factor(c(\"bleu\",\"vert\",\"bleu\",\"rouge\",\"bleu\",\"vert\",\"vert\"))\n",
    "pal\n",
    "\n",
    "nivo <- ordered(c(\"Petit\",\"Grand\",\"Moyen\",\"Grand\",\"Moyen\",\"Petit\",\"Petit\"),\n",
    "levels=c(\"Petit\",\"Moyen\",\"Grand\"))\n",
    "nivo"
   ]
  },
  {
   "cell_type": "markdown",
   "metadata": {},
   "source": [
    "## **6. Excercice 2**\n",
    "Un échantillon de dossiers d'enfants a été saisi. Ce sont des enfants vus lors d'une visite en 1ère section de maternelle en 1996-1997 dans des écoles de Bordeaux (Gironde, France). L'échantillon présenté ici est constitué de 8 enfants âgés\n",
    "de 3 ou 4 ans. \n",
    "Les données disponibles pour chaque enfant sont :\n",
    "Le sexe (F ou G), Le fait que leur école soit située en Zone d'éducation Prioritaire (O pour oui et N pour non), l'âge en années et mois à la date de la visite, le poids en kg, La taille en cm."
   ]
  },
  {
   "cell_type": "code",
   "execution_count": 14,
   "metadata": {},
   "outputs": [
    {
     "data": {
      "text/html": [
       "<table>\n",
       "<thead><tr><th scope=col>Prenom</th><th scope=col>Sexe</th><th scope=col>ZEP</th><th scope=col>Annees</th><th scope=col>Mois</th><th scope=col>Poids</th><th scope=col>Taille</th></tr></thead>\n",
       "<tbody>\n",
       "\t<tr><td>Erika</td><td>F    </td><td>O    </td><td>3    </td><td> 5   </td><td>16.0 </td><td>100.0</td></tr>\n",
       "\t<tr><td>Celia</td><td>F    </td><td>O    </td><td>3    </td><td>10   </td><td>14.0 </td><td> 97.0</td></tr>\n",
       "\t<tr><td>Eric </td><td>G    </td><td>O    </td><td>3    </td><td> 5   </td><td>13.5 </td><td> 95.5</td></tr>\n",
       "\t<tr><td>Eve  </td><td>F    </td><td>O    </td><td>4    </td><td> 0   </td><td>15.4 </td><td>101.0</td></tr>\n",
       "\t<tr><td>Paul </td><td>G    </td><td>N    </td><td>3    </td><td> 8   </td><td>16.5 </td><td>100.0</td></tr>\n",
       "\t<tr><td>Jean </td><td>G    </td><td>O    </td><td>4    </td><td> 0   </td><td>16.0 </td><td> 98.5</td></tr>\n",
       "\t<tr><td>Adan </td><td>G    </td><td>N    </td><td>3    </td><td>11   </td><td>17.0 </td><td>103.0</td></tr>\n",
       "\t<tr><td>Louis</td><td>G    </td><td>O    </td><td>3    </td><td> 9   </td><td>14.8 </td><td> 98.0</td></tr>\n",
       "</tbody>\n",
       "</table>\n"
      ],
      "text/latex": [
       "\\begin{tabular}{r|lllllll}\n",
       " Prenom & Sexe & ZEP & Annees & Mois & Poids & Taille\\\\\n",
       "\\hline\n",
       "\t Erika & F     & O     & 3     &  5    & 16.0  & 100.0\\\\\n",
       "\t Celia & F     & O     & 3     & 10    & 14.0  &  97.0\\\\\n",
       "\t Eric  & G     & O     & 3     &  5    & 13.5  &  95.5\\\\\n",
       "\t Eve   & F     & O     & 4     &  0    & 15.4  & 101.0\\\\\n",
       "\t Paul  & G     & N     & 3     &  8    & 16.5  & 100.0\\\\\n",
       "\t Jean  & G     & O     & 4     &  0    & 16.0  &  98.5\\\\\n",
       "\t Adan  & G     & N     & 3     & 11    & 17.0  & 103.0\\\\\n",
       "\t Louis & G     & O     & 3     &  9    & 14.8  &  98.0\\\\\n",
       "\\end{tabular}\n"
      ],
      "text/markdown": [
       "\n",
       "| Prenom | Sexe | ZEP | Annees | Mois | Poids | Taille |\n",
       "|---|---|---|---|---|---|---|\n",
       "| Erika | F     | O     | 3     |  5    | 16.0  | 100.0 |\n",
       "| Celia | F     | O     | 3     | 10    | 14.0  |  97.0 |\n",
       "| Eric  | G     | O     | 3     |  5    | 13.5  |  95.5 |\n",
       "| Eve   | F     | O     | 4     |  0    | 15.4  | 101.0 |\n",
       "| Paul  | G     | N     | 3     |  8    | 16.5  | 100.0 |\n",
       "| Jean  | G     | O     | 4     |  0    | 16.0  |  98.5 |\n",
       "| Adan  | G     | N     | 3     | 11    | 17.0  | 103.0 |\n",
       "| Louis | G     | O     | 3     |  9    | 14.8  |  98.0 |\n",
       "\n"
      ],
      "text/plain": [
       "  Prenom Sexe ZEP Annees Mois Poids Taille\n",
       "1 Erika  F    O   3       5   16.0  100.0 \n",
       "2 Celia  F    O   3      10   14.0   97.0 \n",
       "3 Eric   G    O   3       5   13.5   95.5 \n",
       "4 Eve    F    O   4       0   15.4  101.0 \n",
       "5 Paul   G    N   3       8   16.5  100.0 \n",
       "6 Jean   G    O   4       0   16.0   98.5 \n",
       "7 Adan   G    N   3      11   17.0  103.0 \n",
       "8 Louis  G    O   3       9   14.8   98.0 "
      ]
     },
     "metadata": {},
     "output_type": "display_data"
    }
   ],
   "source": [
    "Prenom = c(\"Erika\",\"Celia\",\"Eric\",\"Eve\",\"Paul\",\"Jean\",\"Adan\",\"Louis\");\n",
    "Sexe   = c(rep(\"F\",2),\"G\",\"F\",rep(\"G\",4));\n",
    "ZEP    = c(rep(\"O\",4),\"N\",\"O\",\"N\",rep(\"O\",1));\n",
    "Annees = c(3,3,3,4,3,4,3,3);\n",
    "Mois   = c(5,10,5,0,8,0,11,9);\n",
    "Poids  = c(16,14,13.5,15.4,16.5,16,17,14.8);\n",
    "Taille = c(100.0,97.0,95.5,101.0,100.0,98.5,103.0,98.0);\n",
    "Donnees= data.frame(Prenom, Sexe, ZEP, Annees, Mois, Poids, Taille);\n",
    "\n",
    "Donnees"
   ]
  },
  {
   "cell_type": "markdown",
   "metadata": {},
   "source": [
    "1. Créer dans R les variables Prenom, Poids, Taille et Sexe correspondants à l'échantillon.\n",
    "\n",
    "2. Calculer la moyenne et la variance des variables pour lesquelles cela est possible.\n",
    "\n",
    "3. Calculer l'IMC des individus et regrouper les valeurs obtenues dans un vecteur nommé IMC.\n",
    "\n",
    "4. Regrouper ces variables dans la structure R qui vous paraît la plus adaptée.\n",
    "\n",
    "5. Utiliser l'aide en ligne de R afin d'obtenir des informations sur la fonction plot() et tracer le nuage de points du Poids en fonction de la Taille. Penser à fournir un titre à votre graphique et à annoter vos axes.\n",
    "\n",
    "__*Solution:*__\n"
   ]
  },
  {
   "cell_type": "code",
   "execution_count": 15,
   "metadata": {},
   "outputs": [
    {
     "data": {
      "text/html": [
       "15.4"
      ],
      "text/latex": [
       "15.4"
      ],
      "text/markdown": [
       "15.4"
      ],
      "text/plain": [
       "[1] 15.4"
      ]
     },
     "metadata": {},
     "output_type": "display_data"
    },
    {
     "data": {
      "text/html": [
       "99.125"
      ],
      "text/latex": [
       "99.125"
      ],
      "text/markdown": [
       "99.125"
      ],
      "text/plain": [
       "[1] 99.125"
      ]
     },
     "metadata": {},
     "output_type": "display_data"
    },
    {
     "data": {
      "text/html": [
       "1.48857142857143"
      ],
      "text/latex": [
       "1.48857142857143"
      ],
      "text/markdown": [
       "1.48857142857143"
      ],
      "text/plain": [
       "[1] 1.488571"
      ]
     },
     "metadata": {},
     "output_type": "display_data"
    },
    {
     "data": {
      "text/html": [
       "5.625"
      ],
      "text/latex": [
       "5.625"
      ],
      "text/markdown": [
       "5.625"
      ],
      "text/plain": [
       "[1] 5.625"
      ]
     },
     "metadata": {},
     "output_type": "display_data"
    },
    {
     "data": {
      "text/html": [
       "14"
      ],
      "text/latex": [
       "14"
      ],
      "text/markdown": [
       "14"
      ],
      "text/plain": [
       "[1] 14"
      ]
     },
     "metadata": {},
     "output_type": "display_data"
    },
    {
     "data": {
      "text/html": [
       "<table>\n",
       "<thead><tr><th></th><th scope=col>Prenom</th><th scope=col>Sexe</th><th scope=col>Poids</th><th scope=col>Taille</th><th scope=col>IMC</th></tr></thead>\n",
       "<tbody>\n",
       "\t<tr><th scope=row>2</th><td>Celia   </td><td>F       </td><td>14      </td><td>97      </td><td>14.87937</td></tr>\n",
       "</tbody>\n",
       "</table>\n"
      ],
      "text/latex": [
       "\\begin{tabular}{r|lllll}\n",
       "  & Prenom & Sexe & Poids & Taille & IMC\\\\\n",
       "\\hline\n",
       "\t2 & Celia    & F        & 14       & 97       & 14.87937\\\\\n",
       "\\end{tabular}\n"
      ],
      "text/markdown": [
       "\n",
       "| <!--/--> | Prenom | Sexe | Poids | Taille | IMC |\n",
       "|---|---|---|---|---|---|\n",
       "| 2 | Celia    | F        | 14       | 97       | 14.87937 |\n",
       "\n"
      ],
      "text/plain": [
       "  Prenom Sexe Poids Taille IMC     \n",
       "2 Celia  F    14    97     14.87937"
      ]
     },
     "metadata": {},
     "output_type": "display_data"
    },
    {
     "data": {
      "text/html": [
       "<ol class=list-inline>\n",
       "\t<li>16</li>\n",
       "\t<li>14</li>\n",
       "\t<li>13.5</li>\n",
       "\t<li>15.4</li>\n",
       "\t<li>16.5</li>\n",
       "\t<li>16</li>\n",
       "\t<li>17</li>\n",
       "\t<li>14.8</li>\n",
       "</ol>\n"
      ],
      "text/latex": [
       "\\begin{enumerate*}\n",
       "\\item 16\n",
       "\\item 14\n",
       "\\item 13.5\n",
       "\\item 15.4\n",
       "\\item 16.5\n",
       "\\item 16\n",
       "\\item 17\n",
       "\\item 14.8\n",
       "\\end{enumerate*}\n"
      ],
      "text/markdown": [
       "1. 16\n",
       "2. 14\n",
       "3. 13.5\n",
       "4. 15.4\n",
       "5. 16.5\n",
       "6. 16\n",
       "7. 17\n",
       "8. 14.8\n",
       "\n",
       "\n"
      ],
      "text/plain": [
       "[1] 16.0 14.0 13.5 15.4 16.5 16.0 17.0 14.8"
      ]
     },
     "metadata": {},
     "output_type": "display_data"
    },
    {
     "data": {
      "text/html": [
       "<ol class=list-inline>\n",
       "\t<li>16</li>\n",
       "\t<li>14</li>\n",
       "\t<li>13.5</li>\n",
       "\t<li>15.4</li>\n",
       "\t<li>16.5</li>\n",
       "\t<li>16</li>\n",
       "\t<li>17</li>\n",
       "\t<li>14.8</li>\n",
       "</ol>\n"
      ],
      "text/latex": [
       "\\begin{enumerate*}\n",
       "\\item 16\n",
       "\\item 14\n",
       "\\item 13.5\n",
       "\\item 15.4\n",
       "\\item 16.5\n",
       "\\item 16\n",
       "\\item 17\n",
       "\\item 14.8\n",
       "\\end{enumerate*}\n"
      ],
      "text/markdown": [
       "1. 16\n",
       "2. 14\n",
       "3. 13.5\n",
       "4. 15.4\n",
       "5. 16.5\n",
       "6. 16\n",
       "7. 17\n",
       "8. 14.8\n",
       "\n",
       "\n"
      ],
      "text/plain": [
       "[1] 16.0 14.0 13.5 15.4 16.5 16.0 17.0 14.8"
      ]
     },
     "metadata": {},
     "output_type": "display_data"
    },
    {
     "data": {
      "image/png": "[encoded data removed]",
      "text/plain": [
       "Plot with title \"Titre: Poids en fonction de la taille\""
      ]
     },
     "metadata": {},
     "output_type": "display_data"
    }
   ],
   "source": [
    "#1\n",
    "Prenom = c(\"Erika\",\"Celia\",\"Eric\",\"Eve\",\"Paul\",\"Jean\",\"Adan\",\"Louis\");\n",
    "Sexe   = c(rep(\"F\",2),\"G\",\"F\",rep(\"G\",4));\n",
    "Poids  = c(16,14,13.5,15.4,16.5,16,17,14.8);\n",
    "Taille = c(100.0,97.0,95.5,101.0,100.0,98.5,103.0,98.0);\n",
    "\n",
    "#2\n",
    "mean(Poids); mean(Taille)\n",
    "var (Poids); var (Taille);\n",
    "\n",
    "#3\n",
    "IMC    = Poids/((Taille/100)^2);\n",
    "\n",
    "#4\n",
    "Donnees= data.frame(Prenom, Sexe, Poids, Taille, IMC);\n",
    "\n",
    "## Sujet 2, colonne 3\n",
    "Donnees[2,3]\n",
    "## Sujet 2, toutes les valeurs associees\n",
    "Donnees[2,]\n",
    "## Toutes les valeurs de la variable poids (colonne 3)\n",
    "Donnees[,3]\n",
    "Donnees$Poids\n",
    "\n",
    "#5\n",
    "plot(Poids~Taille,\n",
    "     main=\"Titre: Poids en fonction de la taille\",\n",
    "     col=\"orangered\",\n",
    "     pch=17)\n",
    "\n"
   ]
  },
  {
   "cell_type": "markdown",
   "metadata": {},
   "source": [
    "## **7. Instructions avancées**\n",
    "\n",
    "### *Instructions de condition*\n",
    "* La prise de décision est un élément essentiel de la programmation. En R ceci peut être réalisé par l'instruction *if...else* (voir l'aide pour les détails de syntaxe)\n",
    "\n",
    "* Le *if* est généralement suivi d'un *else*, cependant ce dernier n'est pas obligatoire. En effet, le *if* peut être suivi par une série d'autres *if* utilisant des conditions complémentaires. A la différence du *if*, le *else* n'a pas de condition. Il englobe simplement ce que le *if* a exclu.\n",
    "Le paramètre *condition* doit être un logique qui prend donc l'une des valeurs **TRUE** ou **FALSE**. Bien évidemment, dans la pratique, *condition* sera souvent le résultat d'opérations logiques élaborées faisant intervenir les opérateurs usuels.\n"
   ]
  },
  {
   "cell_type": "code",
   "execution_count": 16,
   "metadata": {},
   "outputs": [
    {
     "name": "stdout",
     "output_type": "stream",
     "text": [
      "[1] \"alpha est plus grand que beta\"\n"
     ]
    }
   ],
   "source": [
    "alpha <- rnorm(1,0,1); beta <- rt(1,10);\n",
    "if (alpha < beta){\n",
    "\tprint(\"alpha est plus petit que beta\")\n",
    "}else if (alpha == beta){\n",
    "  \tprint(\"alpha est egal a beta\")\n",
    "}  else{\n",
    "\tprint(\"alpha est plus grand que beta\")\n",
    "}"
   ]
  },
  {
   "cell_type": "markdown",
   "metadata": {},
   "source": [
    "La fonction *ifelse()* dont la syntaxe est *ifelse(condition, Vrai, Faux)* permet d'exécuter l'une ou l'autre de deux instructions appliquées à un vecteur suivant que les valeurs d'une condition logique sont vraies ou fausses."
   ]
  },
  {
   "cell_type": "code",
   "execution_count": 17,
   "metadata": {},
   "outputs": [
    {
     "data": {
      "text/html": [
       "'alpha negatif'"
      ],
      "text/latex": [
       "'alpha negatif'"
      ],
      "text/markdown": [
       "'alpha negatif'"
      ],
      "text/plain": [
       "[1] \"alpha negatif\""
      ]
     },
     "metadata": {},
     "output_type": "display_data"
    }
   ],
   "source": [
    "alpha <- rnorm(1,0,1)\n",
    "ifelse(alpha>0, \"alpha positif\", \"alpha negatif\")"
   ]
  },
  {
   "cell_type": "markdown",
   "metadata": {},
   "source": [
    "### *Instructions de récursion*\n",
    "Dans R la récursion est implémentée au moyen de boucles. Les instructions *for*, *while* et *repeat* permettent d'exécuter des boucles et il existe des mots réservés qui permettent de contrôler les itérations comme par exemple:\n",
    "\n",
    "* *break* permet à tout moment d'arrêter le processus et de sortir de la boucle;\n",
    "* *next* permet de passer à l'itération suivante."
   ]
  },
  {
   "cell_type": "code",
   "execution_count": 18,
   "metadata": {},
   "outputs": [
    {
     "name": "stdout",
     "output_type": "stream",
     "text": [
      "[1] 2\n",
      "[1] 6\n",
      "[1] 14\n",
      "[1] 4\n"
     ]
    }
   ],
   "source": [
    "x <- c(1,3,7,2)\n",
    "for (var in x) {print(2*var)}"
   ]
  },
  {
   "cell_type": "markdown",
   "metadata": {},
   "source": [
    "### *Importation de données*\n",
    "\n",
    "Il existe trois fonctions principales R à utiliser pour importer des données depuis un fichier texte :\n",
    "\n",
    "* *read.table()* : à privilégier pour des jeux de données organisés sous la forme de tableaux, comme cela est souvent le cas en statistique.\n",
    "\n",
    "* *read.ftable()* : Permet de lire des tableaux de contingence.\n",
    "\n",
    "* *scan()* : Beaucoup plus flexible et puissante. Elle devra être utilisée dans tous les autres cas."
   ]
  },
  {
   "cell_type": "code",
   "execution_count": 21,
   "metadata": {},
   "outputs": [],
   "source": [
    "#setwd(\"~/R/notes de cours\")\n",
    "Data <- read.table(\"C:/Users/dmari_000/Documents/GitHub/education/R/Dataset/imc.txt\")"
   ]
  },
  {
   "cell_type": "code",
   "execution_count": 22,
   "metadata": {},
   "outputs": [
    {
     "data": {
      "text/html": [
       "<table>\n",
       "<thead><tr><th scope=col>V1</th><th scope=col>V2</th><th scope=col>V3</th><th scope=col>V4</th></tr></thead>\n",
       "<tbody>\n",
       "\t<tr><td>ALAIN    </td><td>H        </td><td>180      </td><td>82       </td></tr>\n",
       "\t<tr><td>ALBERT   </td><td>H        </td><td>175      </td><td>80       </td></tr>\n",
       "\t<tr><td>BRUNO    </td><td>H        </td><td>181      </td><td>75       </td></tr>\n",
       "\t<tr><td>CATHERINE</td><td>F        </td><td>158      </td><td>48       </td></tr>\n",
       "</tbody>\n",
       "</table>\n"
      ],
      "text/latex": [
       "\\begin{tabular}{r|llll}\n",
       " V1 & V2 & V3 & V4\\\\\n",
       "\\hline\n",
       "\t ALAIN     & H         & 180       & 82       \\\\\n",
       "\t ALBERT    & H         & 175       & 80       \\\\\n",
       "\t BRUNO     & H         & 181       & 75       \\\\\n",
       "\t CATHERINE & F         & 158       & 48       \\\\\n",
       "\\end{tabular}\n"
      ],
      "text/markdown": [
       "\n",
       "| V1 | V2 | V3 | V4 |\n",
       "|---|---|---|---|\n",
       "| ALAIN     | H         | 180       | 82        |\n",
       "| ALBERT    | H         | 175       | 80        |\n",
       "| BRUNO     | H         | 181       | 75        |\n",
       "| CATHERINE | F         | 158       | 48        |\n",
       "\n"
      ],
      "text/plain": [
       "  V1        V2 V3  V4\n",
       "1 ALAIN     H  180 82\n",
       "2 ALBERT    H  175 80\n",
       "3 BRUNO     H  181 75\n",
       "4 CATHERINE F  158 48"
      ]
     },
     "metadata": {},
     "output_type": "display_data"
    },
    {
     "data": {
      "text/html": [
       "ALAIN\n",
       "<details>\n",
       "\t<summary style=display:list-item;cursor:pointer>\n",
       "\t\t<strong>Levels</strong>:\n",
       "\t</summary>\n",
       "\t<ol class=list-inline>\n",
       "\t\t<li>'ALAIN'</li>\n",
       "\t\t<li>'ALBERT'</li>\n",
       "\t\t<li>'BRUNO'</li>\n",
       "\t\t<li>'CATHERINE'</li>\n",
       "\t\t<li>'CHARLES'</li>\n",
       "\t\t<li>'FRANCOISE'</li>\n",
       "\t\t<li>'ISABELLE'</li>\n",
       "\t\t<li>'JEAN'</li>\n",
       "\t\t<li>'LAURENT'</li>\n",
       "\t\t<li>'MARIE'</li>\n",
       "\t\t<li>'NATHALIE'</li>\n",
       "\t\t<li>'NICOLAS'</li>\n",
       "\t\t<li>'PHILIPPE'</li>\n",
       "\t\t<li>'PIERRE'</li>\n",
       "\t\t<li>'REJANE'</li>\n",
       "\t\t<li>'REMY'</li>\n",
       "\t\t<li>'SABINE'</li>\n",
       "\t\t<li>'SANDRINE'</li>\n",
       "\t\t<li>'STEPHANIE'</li>\n",
       "\t\t<li>'VALERIE'</li>\n",
       "\t</ol>\n",
       "</details>"
      ],
      "text/latex": [
       "ALAIN\n",
       "\\emph{Levels}: \\begin{enumerate*}\n",
       "\\item 'ALAIN'\n",
       "\\item 'ALBERT'\n",
       "\\item 'BRUNO'\n",
       "\\item 'CATHERINE'\n",
       "\\item 'CHARLES'\n",
       "\\item 'FRANCOISE'\n",
       "\\item 'ISABELLE'\n",
       "\\item 'JEAN'\n",
       "\\item 'LAURENT'\n",
       "\\item 'MARIE'\n",
       "\\item 'NATHALIE'\n",
       "\\item 'NICOLAS'\n",
       "\\item 'PHILIPPE'\n",
       "\\item 'PIERRE'\n",
       "\\item 'REJANE'\n",
       "\\item 'REMY'\n",
       "\\item 'SABINE'\n",
       "\\item 'SANDRINE'\n",
       "\\item 'STEPHANIE'\n",
       "\\item 'VALERIE'\n",
       "\\end{enumerate*}\n"
      ],
      "text/markdown": [
       "ALAIN\n",
       "**Levels**: 1. 'ALAIN'\n",
       "2. 'ALBERT'\n",
       "3. 'BRUNO'\n",
       "4. 'CATHERINE'\n",
       "5. 'CHARLES'\n",
       "6. 'FRANCOISE'\n",
       "7. 'ISABELLE'\n",
       "8. 'JEAN'\n",
       "9. 'LAURENT'\n",
       "10. 'MARIE'\n",
       "11. 'NATHALIE'\n",
       "12. 'NICOLAS'\n",
       "13. 'PHILIPPE'\n",
       "14. 'PIERRE'\n",
       "15. 'REJANE'\n",
       "16. 'REMY'\n",
       "17. 'SABINE'\n",
       "18. 'SANDRINE'\n",
       "19. 'STEPHANIE'\n",
       "20. 'VALERIE'\n",
       "\n",
       "\n"
      ],
      "text/plain": [
       "[1] ALAIN\n",
       "20 Levels: ALAIN ALBERT BRUNO CATHERINE CHARLES FRANCOISE ISABELLE ... VALERIE"
      ]
     },
     "metadata": {},
     "output_type": "display_data"
    },
    {
     "data": {
      "text/html": [
       "<ol class=list-inline>\n",
       "\t<li>H</li>\n",
       "\t<li>H</li>\n",
       "\t<li>H</li>\n",
       "\t<li>F</li>\n",
       "\t<li>H</li>\n",
       "\t<li>F</li>\n",
       "\t<li>F</li>\n",
       "\t<li>H</li>\n",
       "\t<li>H</li>\n",
       "\t<li>F</li>\n",
       "\t<li>F</li>\n",
       "\t<li>H</li>\n",
       "\t<li>H</li>\n",
       "\t<li>H</li>\n",
       "\t<li>F</li>\n",
       "\t<li>H</li>\n",
       "\t<li>F</li>\n",
       "\t<li>F</li>\n",
       "\t<li>F</li>\n",
       "\t<li>F</li>\n",
       "</ol>\n",
       "\n",
       "<details>\n",
       "\t<summary style=display:list-item;cursor:pointer>\n",
       "\t\t<strong>Levels</strong>:\n",
       "\t</summary>\n",
       "\t<ol class=list-inline>\n",
       "\t\t<li>'F'</li>\n",
       "\t\t<li>'H'</li>\n",
       "\t</ol>\n",
       "</details>"
      ],
      "text/latex": [
       "\\begin{enumerate*}\n",
       "\\item H\n",
       "\\item H\n",
       "\\item H\n",
       "\\item F\n",
       "\\item H\n",
       "\\item F\n",
       "\\item F\n",
       "\\item H\n",
       "\\item H\n",
       "\\item F\n",
       "\\item F\n",
       "\\item H\n",
       "\\item H\n",
       "\\item H\n",
       "\\item F\n",
       "\\item H\n",
       "\\item F\n",
       "\\item F\n",
       "\\item F\n",
       "\\item F\n",
       "\\end{enumerate*}\n",
       "\n",
       "\\emph{Levels}: \\begin{enumerate*}\n",
       "\\item 'F'\n",
       "\\item 'H'\n",
       "\\end{enumerate*}\n"
      ],
      "text/markdown": [
       "1. H\n",
       "2. H\n",
       "3. H\n",
       "4. F\n",
       "5. H\n",
       "6. F\n",
       "7. F\n",
       "8. H\n",
       "9. H\n",
       "10. F\n",
       "11. F\n",
       "12. H\n",
       "13. H\n",
       "14. H\n",
       "15. F\n",
       "16. H\n",
       "17. F\n",
       "18. F\n",
       "19. F\n",
       "20. F\n",
       "\n",
       "\n",
       "\n",
       "**Levels**: 1. 'F'\n",
       "2. 'H'\n",
       "\n",
       "\n"
      ],
      "text/plain": [
       " [1] H H H F H F F H H F F H H H F H F F F F\n",
       "Levels: F H"
      ]
     },
     "metadata": {},
     "output_type": "display_data"
    }
   ],
   "source": [
    "head(Data,4)\n",
    "Data$V1[1]\n",
    "attach(Data)\n",
    "V2"
   ]
  },
  {
   "cell_type": "markdown",
   "metadata": {},
   "source": [
    "## **8. Excercice récapitulatif**\n",
    "\n",
    "1. Afficher en une seule instruction dans R\n",
    "\n",
    "* 10 élevé à la puissance des 10 premiers entiers non nuls.\n",
    "* Le logarithme base 10 des 10 premiers entiers non nuls.\n",
    "* La somme et la somme cumulée des 10 premiers entiers non nuls.\n",
    "* Le produit et le produit cumulé des 10 premiers entiers non nuls.\n",
    "\n",
    "Présenter convenablement ces valeurs sous la forme d'un tableau à double entrée comportant en lignes les 10 premiers entiers non nuls, et en colonne les puissances de dix, le log base 10, le produit et la somme cumulés.\n",
    "\n",
    "***\n",
    "\n",
    "2. Créer les trois vecteurs ci-dessous avec la fonction rep()\n",
    "\n",
    "* v1 = 1 2 3 4 5 1 2 3 4 5 1 2 3 4 5\n",
    "* v2 = 1 1 1 2 2 2 3 3 3 4 4 4 5 5 5\n",
    "* v3 = 1 1 2 2 2 3 3 3 3 4 4 4 4 4 \n",
    "\n",
    "* Créer la matrice mat ayant pour lignes les trois vecteurs ci-dessus; nommer les lignes et les colonnes selon votre préférence (pour les noms des lignes et des colonnes, utiliser les fonctions rownames() et colnames())\n",
    "* Créer le vecteur contenant les éléments diagonaux de mat (utiliser la fonction diag()).\n",
    "* Créer la matrice contenant uniquement les deux premières ligne de mat.\n",
    "* Créer la matrice contenant uniquement les deux dernières colonnes de mat.\n",
    "\n",
    "***\n",
    "\n",
    "* Créer la matrice contenant toutes les colonnes de mat sauf la troisième.\n",
    "* Calculer le déterminant de mat à l'aide de la fonction det() puis inverser la matrice à l'aide de solve().\n",
    "\n",
    "3. Il existe dans R des données pré-existantes. Importez dans votre session R la base de données nommée WorldPhones (The World's Telephones). Afficher le contenu de la base de donnée.\n",
    "\n",
    "* Calculer le nombre total de numéros de téléphone attribués :\n",
    "  + Au cours des différentes années et le nommer *nbrTelAn*.\n",
    "  + Pour chaque continent et le nommer *nbrTelCont*.\n",
    "  \n",
    "* Quel est le continent contenant le plus/moins de numéros de téléphone attribués? Dans combien de continents y a-t-il plus de 20000 numéros attribués?\n",
    "\n",
    "***\n",
    "\n",
    "* Générer un tableau de fréquences contenant pour chaque continent:\n",
    "  + le nombre de numéros attribués,\n",
    "  + le pourcentage ainsi que le pourcentage cumulé.\n",
    "  \n",
    "* Effectuer un graphique montrant pour chaque continent, le pourcentage correspondant.\n",
    "\n",
    "*__Note:__* \n",
    "\n",
    "* Un solutionnaire sera posté en ligne après la séance. \n",
    "\n",
    "\n",
    "## *__Références__*\n",
    "\n",
    "* Notes de cours STT1682, Folly Adjogoun Hiver 2018\n",
    "* Structures de données en R, Sophie Baillargeon, Université Laval\n",
    "2019-01-14"
   ]
  },
  {
   "cell_type": "code",
   "execution_count": null,
   "metadata": {},
   "outputs": [],
   "source": []
  }
 ],
 "metadata": {
  "kernelspec": {
   "display_name": "R",
   "language": "R",
   "name": "ir"
  },
  "language_info": {
   "codemirror_mode": "r",
   "file_extension": ".r",
   "mimetype": "text/x-r-source",
   "name": "R",
   "pygments_lexer": "r",
   "version": "3.6.1"
  }
 },
 "nbformat": 4,
 "nbformat_minor": 2
}
