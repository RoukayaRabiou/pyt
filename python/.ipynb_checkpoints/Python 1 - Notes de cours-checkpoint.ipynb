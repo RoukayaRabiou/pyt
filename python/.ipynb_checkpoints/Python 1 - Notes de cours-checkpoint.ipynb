{
 "cells": [
  {
   "cell_type": "markdown",
   "metadata": {},
   "source": [
    "# Python 1 - Notes de cours\n",
    "\n",
    "<img style=\"float: left;\" src=\"images/logo.png\">"
   ]
  },
  {
   "cell_type": "markdown",
   "metadata": {},
   "source": [
    "### CSD - Comité Science de Données HEC\n",
    "##### Préparées par Samuel Tremblay, VP-Éducation 2019-2020\n",
    "#### Sommaire\n",
    "1. Structures de données de base\n",
    "    * Chaînes de caractères\n",
    "    * Listes\n",
    "    * Uplets (*tuples*) \n",
    "    * Dictionnaires\n",
    "2. Structures de données avancées\n",
    "    * Matrices (*arrays*) ```NumPy```\n",
    "    * Tableaux de données (*data frames*) ```Pandas```\n",
    "3. Importation de données \n",
    "    * À l'aide de ```NumPy```\n",
    "    * À l'aide de ```Pandas```\n",
    "4. Écriture de données\n",
    "    * À l'aide de ```NumPy```\n",
    "    * À l'aide de ```Pandas```\n",
    "    \n",
    "### Chaînes de caractères\n",
    "Les chaînes de caractères sont une composante essentielle de la programmation. Elles permettent de stocker de l'information lisible par l'humain : des caractères. Elles sont créées grâce aux opérateurs ```''``` et ```\"\"```, qui produisent un résultat équivalent. Celles-ci peuvent être vues sous forme matricielle et possèdent de nombreuses méthodes intéressantes que nous regarderons."
   ]
  },
  {
   "cell_type": "code",
   "execution_count": 39,
   "metadata": {},
   "outputs": [
    {
     "name": "stdout",
     "output_type": "stream",
     "text": [
      "Propriété 1\n",
      " Stella est un chat\n"
     ]
    }
   ],
   "source": [
    "# 1. Elles ont une forme matricielle\n",
    "ma_chaine = 'Stella est un chat'\n",
    "print('Propriété 1\\n', ma_chaine[:6] + ma_chaine[6:])"
   ]
  },
  {
   "cell_type": "code",
   "execution_count": 43,
   "metadata": {},
   "outputs": [
    {
     "name": "stdout",
     "output_type": "stream",
     "text": [
      "Méthode strip()\n",
      "  Stella est un chat   \n",
      " Stella est un chat\n"
     ]
    }
   ],
   "source": [
    "# 2. Méthode strip() retire les espaces au début et à la fin de la chaîne\n",
    "ma_chaine = ' Stella est un chat'\n",
    "print('Méthode strip()\\n', ma_chaine, '\\n', ma_chaine.strip())"
   ]
  },
  {
   "cell_type": "code",
   "execution_count": 44,
   "metadata": {},
   "outputs": [
    {
     "name": "stdout",
     "output_type": "stream",
     "text": [
      "Méthode upper()\n",
      "  Stella est un chat   \n",
      "  STELLA EST UN CHAT  \n"
     ]
    }
   ],
   "source": [
    "# 3. Méthode upper() retourne la chaîne mise en majuscules\n",
    "print('Méthode upper()\\n', ma_chaine, '\\n', ma_chaine.upper())"
   ]
  },
  {
   "cell_type": "code",
   "execution_count": 45,
   "metadata": {},
   "outputs": [
    {
     "name": "stdout",
     "output_type": "stream",
     "text": [
      "Méthode upper()\n",
      "  Stella est un chat   \n",
      "  stella est un chat  \n"
     ]
    }
   ],
   "source": [
    "# 4. Méthode lower() retourne la chaîne mise en minuscules\n",
    "print('Méthode upper()\\n', ma_chaine, '\\n', ma_chaine.lower())"
   ]
  },
  {
   "cell_type": "code",
   "execution_count": 47,
   "metadata": {},
   "outputs": [
    {
     "name": "stdout",
     "output_type": "stream",
     "text": [
      "Méthode upper()\n",
      "  Stella est un chat   \n",
      "  Théo est un chat  \n"
     ]
    }
   ],
   "source": [
    "# 5. Méthode replace() remplace une expression par une autre\n",
    "print('Méthode upper()\\n', ma_chaine, '\\n', ma_chaine.replace('Stella', 'Théo'))"
   ]
  },
  {
   "cell_type": "code",
   "execution_count": 50,
   "metadata": {},
   "outputs": [
    {
     "name": "stdout",
     "output_type": "stream",
     "text": [
      "Méthode upper()\n",
      " ['Stella', 'est', 'un', 'chat']\n"
     ]
    }
   ],
   "source": [
    "# 6. Méthode split() retourne la chaîne séparée dans une liste en fonction du séparateur désiré\n",
    "print('Méthode upper()\\n', ma_chaine.strip().split(' '))"
   ]
  },
  {
   "cell_type": "markdown",
   "metadata": {},
   "source": [
    "### Listes\n",
    "Les listes sont la principale structure de données de Python. Elles sont créées grâce aux crochets `[]` et possèdent plusieurs caractéristiques intéressantes que nous démontrerons :\n",
    "1. Elles sont ordonnées\n",
    "2. Elles peuvent contenir n'importe quel objet\n",
    "3. On y accède en utilisant leur index\n",
    "4. Elles peuvent être imbriquées\n",
    "5. Elles sont mutables"
   ]
  },
  {
   "cell_type": "code",
   "execution_count": 55,
   "metadata": {},
   "outputs": [
    {
     "name": "stdout",
     "output_type": "stream",
     "text": [
      "Propriété 1\n",
      " False\n"
     ]
    }
   ],
   "source": [
    "# 1. Elles sont ordonnées\n",
    "ma_liste = ['chat', 'chien']\n",
    "print('Propriété 1\\n', ma_liste[0] == ma_liste[1])"
   ]
  },
  {
   "cell_type": "code",
   "execution_count": 40,
   "metadata": {},
   "outputs": [
    {
     "name": "stdout",
     "output_type": "stream",
     "text": [
      "Propriété 2\n",
      " ['chat', 0.3, False]\n"
     ]
    }
   ],
   "source": [
    "# 2. Elles peuvent contenir n'importe quel objet\n",
    "ma_liste = ['chat', 0.3, False]\n",
    "print('Propriété 2\\n', ma_liste)"
   ]
  },
  {
   "cell_type": "code",
   "execution_count": 41,
   "metadata": {},
   "outputs": [
    {
     "name": "stdout",
     "output_type": "stream",
     "text": [
      "Propriété 3\n",
      " chat chat ['chat']\n"
     ]
    }
   ],
   "source": [
    "# 3. On y accède en utilisant leur index\n",
    "print('Propriété 3\\n', ma_liste[0], ma_liste[-3], ma_liste[0:1])"
   ]
  },
  {
   "cell_type": "code",
   "execution_count": 42,
   "metadata": {},
   "outputs": [
    {
     "name": "stdout",
     "output_type": "stream",
     "text": [
      "Propriété 4\n",
      " chat chien\n"
     ]
    }
   ],
   "source": [
    "# 4. Elles peuvent être imbriquées\n",
    "ma_liste = ['chat', ['chien']]\n",
    "print('Propriété 4\\n', ma_liste[0], ma_liste[1][0])"
   ]
  },
  {
   "cell_type": "code",
   "execution_count": 44,
   "metadata": {},
   "outputs": [
    {
     "name": "stdout",
     "output_type": "stream",
     "text": [
      "Propriété 5 (assignation)\n",
      " ['chat', 'meow']\n",
      "Propriété 5 (append)\n",
      " ['chat', 'meow', 'chien']\n",
      "Propriété 5 (pop)\n",
      " ['chat', 'chien']\n"
     ]
    }
   ],
   "source": [
    "# 5. Elles sont mutables\n",
    "ma_liste[1] = 'meow'\n",
    "print('Propriété 5 (assignation)\\n', ma_liste)\n",
    "ma_liste.append('chien') # Méthode append(x)\n",
    "print('Propriété 5 (append)\\n', ma_liste)\n",
    "ma_liste.pop(-2)         # Méthode pop(x)\n",
    "print('Propriété 5 (pop)\\n', ma_liste)"
   ]
  },
  {
   "cell_type": "markdown",
   "metadata": {},
   "source": [
    "### Uplets\n",
    "Les uplets sont similaires aux listes sur de nombreuses propriétés, outre le fait qu'ils sont immuables. Ainsi, il est possible de les concaténer mais pas de leur assigner de nouvelles valeurs. Ils sont produits grâce à l'opérateur `()` et sont souvent le produit de fonctions."
   ]
  },
  {
   "cell_type": "code",
   "execution_count": 45,
   "metadata": {},
   "outputs": [
    {
     "name": "stdout",
     "output_type": "stream",
     "text": [
      "Propriété 1\n",
      " False\n"
     ]
    }
   ],
   "source": [
    "# 1. Ils sont ordonnées\n",
    "mon_uplet = ('chat', 'chien')\n",
    "print('Propriété 1\\n', mon_uplet[0] == mon_uplet[1])"
   ]
  },
  {
   "cell_type": "code",
   "execution_count": 46,
   "metadata": {},
   "outputs": [
    {
     "name": "stdout",
     "output_type": "stream",
     "text": [
      "Propriété 2\n",
      " ('chat', 0.3, False)\n"
     ]
    }
   ],
   "source": [
    "# 2. Ils peuvent contenir n'importe quel objet\n",
    "mon_uplet = ('chat', 0.3, False)\n",
    "print('Propriété 2\\n', mon_uplet)"
   ]
  },
  {
   "cell_type": "code",
   "execution_count": 47,
   "metadata": {},
   "outputs": [
    {
     "name": "stdout",
     "output_type": "stream",
     "text": [
      "Propriété 3\n",
      " chat chat ('chat',)\n"
     ]
    }
   ],
   "source": [
    "# 3. On y accède en utilisant leur index\n",
    "print('Propriété 3\\n', mon_uplet[0], mon_uplet[-3], mon_uplet[0:1])"
   ]
  },
  {
   "cell_type": "code",
   "execution_count": 10,
   "metadata": {},
   "outputs": [
    {
     "name": "stdout",
     "output_type": "stream",
     "text": [
      "Propriété 4\n",
      " chat chien\n"
     ]
    }
   ],
   "source": [
    "# 4. Ils peuvent être imbriqués\n",
    "mon_uplet = ('chat', ('chien',)) # Remarquer la virgule après un uplet d'un seul item\n",
    "print('Propriété 4\\n', mon_uplet[0], mon_uplet[1][0])"
   ]
  },
  {
   "cell_type": "code",
   "execution_count": 53,
   "metadata": {},
   "outputs": [
    {
     "ename": "TypeError",
     "evalue": "'tuple' object does not support item assignment",
     "output_type": "error",
     "traceback": [
      "\u001b[0;31m---------------------------------------------------------------------------\u001b[0m",
      "\u001b[0;31mTypeError\u001b[0m                                 Traceback (most recent call last)",
      "\u001b[0;32m<ipython-input-53-a51010738fc2>\u001b[0m in \u001b[0;36m<module>\u001b[0;34m\u001b[0m\n\u001b[1;32m      1\u001b[0m \u001b[0;31m# 5 Ils sont immuables\u001b[0m\u001b[0;34m\u001b[0m\u001b[0;34m\u001b[0m\u001b[0;34m\u001b[0m\u001b[0m\n\u001b[0;32m----> 2\u001b[0;31m \u001b[0mmon_uplet\u001b[0m\u001b[0;34m[\u001b[0m\u001b[0;36m1\u001b[0m\u001b[0;34m]\u001b[0m \u001b[0;34m=\u001b[0m \u001b[0;34m'meow'\u001b[0m\u001b[0;34m\u001b[0m\u001b[0;34m\u001b[0m\u001b[0m\n\u001b[0m",
      "\u001b[0;31mTypeError\u001b[0m: 'tuple' object does not support item assignment"
     ]
    }
   ],
   "source": [
    "# 5 Ils sont immuables\n",
    "mon_uplet[1] = 'meow'"
   ]
  },
  {
   "cell_type": "markdown",
   "metadata": {},
   "source": [
    "### Dictionnaires\n",
    "Les dictionaires sont un ensemble de données sans ordre particulier, mutable, indexé et imbriquable. Ils sont créés grâce à l'opérateur ```{}``` et possèdent des binômes « clé : valeur ». Il est également possible d'utiliser la fonction ```dict(clé = valeur)``` pour les créer. Noter ici (1) l'utilisation du ```=``` plutôt que du ```:``` ainsi que (2) l'absence des guillemets pour la création des clés. On y accède en utilisant une clé, grâce à la forme suivante : ```dict['clé']```. Cela retourne alors la valeur. "
   ]
  },
  {
   "cell_type": "code",
   "execution_count": 26,
   "metadata": {},
   "outputs": [
    {
     "name": "stdout",
     "output_type": "stream",
     "text": [
      "Propriété 1 (opérateur {})\n",
      " {'race': 'bengal', 'nom': 'Stella', 'age': 5, 'male': False}\n",
      "Propriété 1 (fonction dict)\n",
      " {'race': 'bengal', 'nom': 'Stella', 'age': 5, 'male': False}\n",
      "Propriété 1 (sans ordre) \n",
      "\n"
     ]
    },
    {
     "ename": "KeyError",
     "evalue": "0",
     "output_type": "error",
     "traceback": [
      "\u001b[0;31m---------------------------------------------------------------------------\u001b[0m",
      "\u001b[0;31mKeyError\u001b[0m                                  Traceback (most recent call last)",
      "\u001b[0;32m<ipython-input-26-3c4c99a4df25>\u001b[0m in \u001b[0;36m<module>\u001b[0;34m\u001b[0m\n\u001b[1;32m     10\u001b[0m \u001b[0mprint\u001b[0m\u001b[0;34m(\u001b[0m\u001b[0;34m'Propriété 1 (fonction dict)\\n'\u001b[0m\u001b[0;34m,\u001b[0m \u001b[0mmon_dict\u001b[0m\u001b[0;34m)\u001b[0m\u001b[0;34m\u001b[0m\u001b[0;34m\u001b[0m\u001b[0m\n\u001b[1;32m     11\u001b[0m \u001b[0mprint\u001b[0m\u001b[0;34m(\u001b[0m\u001b[0;34m'Propriété 1 (sans ordre) \\n'\u001b[0m\u001b[0;34m)\u001b[0m\u001b[0;34m\u001b[0m\u001b[0;34m\u001b[0m\u001b[0m\n\u001b[0;32m---> 12\u001b[0;31m \u001b[0mprint\u001b[0m\u001b[0;34m(\u001b[0m\u001b[0mmon_dict\u001b[0m\u001b[0;34m[\u001b[0m\u001b[0;36m0\u001b[0m\u001b[0;34m]\u001b[0m\u001b[0;34m)\u001b[0m\u001b[0;34m\u001b[0m\u001b[0;34m\u001b[0m\u001b[0m\n\u001b[0m\u001b[1;32m     13\u001b[0m \u001b[0mprint\u001b[0m\u001b[0;34m(\u001b[0m\u001b[0;34m'Propriété 2 (ajout)\\n'\u001b[0m\u001b[0;34m,\u001b[0m \u001b[0mmon_dict\u001b[0m\u001b[0;34m)\u001b[0m\u001b[0;34m\u001b[0m\u001b[0;34m\u001b[0m\u001b[0m\n",
      "\u001b[0;31mKeyError\u001b[0m: 0"
     ]
    }
   ],
   "source": [
    "# 1. Ils n'ont pas d'ordre particulier\n",
    "mon_dict = {\n",
    "    'race' : 'bengal',\n",
    "    'nom' : 'Stella',\n",
    "    'age' : 5,\n",
    "    'male' : False\n",
    "}\n",
    "print('Propriété 1 (opérateur {})\\n', mon_dict)\n",
    "mon_dict = dict(race = 'bengal', nom = 'Stella', age = 5, male = False)\n",
    "print('Propriété 1 (fonction dict)\\n', mon_dict)\n",
    "print('Propriété 1 (sans ordre) \\n') \n",
    "print(mon_dict[0])"
   ]
  },
  {
   "cell_type": "code",
   "execution_count": 27,
   "metadata": {},
   "outputs": [
    {
     "name": "stdout",
     "output_type": "stream",
     "text": [
      "Propriété 2 (indexation)\n",
      " bengal\n",
      "Propriété 2 (assignation)\n",
      " inconnue\n",
      "Propriété 2 (supression)\n",
      " {'nom': 'Stella', 'age': 5, 'male': False}\n",
      "Propriété 2 (ajout)\n",
      " {'nom': 'Stella', 'age': 5, 'male': False, 'pelage': 'brun tigré'}\n"
     ]
    }
   ],
   "source": [
    "# 2. Ils sont indexés et mutables\n",
    "print('Propriété 2 (indexation)\\n', mon_dict['race'])\n",
    "mon_dict['race'] = 'inconnue'\n",
    "print('Propriété 2 (assignation)\\n', mon_dict['race'])\n",
    "mon_dict.pop('race')\n",
    "print('Propriété 2 (supression)\\n', mon_dict)\n",
    "mon_dict['pelage'] = 'brun tigré'\n",
    "print('Propriété 2 (ajout)\\n', mon_dict)"
   ]
  },
  {
   "cell_type": "code",
   "execution_count": 28,
   "metadata": {},
   "outputs": [
    {
     "name": "stdout",
     "output_type": "stream",
     "text": [
      "Propriété 3\n",
      " bengal\n"
     ]
    }
   ],
   "source": [
    "# 3. Ils peuvent être imbriquées\n",
    "mon_dict = {\n",
    "    'Stella' : {\n",
    "        'race' : 'bengal',\n",
    "        'âge' : 5\n",
    "    },\n",
    "    'Théo' : {\n",
    "        'race' : 'inconnue',\n",
    "        'âge' : 2\n",
    "    }\n",
    "}\n",
    "print('Propriété 3\\n', mon_dict['Stella']['race'])"
   ]
  },
  {
   "cell_type": "markdown",
   "metadata": {},
   "source": [
    "### Exercises - Structures de données de base\n",
    "#### 1. Chaînes de caractères\n",
    "a) Assigner à une variable ```x``` la phrase suivante : HEC Montréal est un établissement universitaire québécois situé à Montréal (Canada).\n",
    "\n",
    "b) Supprimer tout ce qui n'est pas une lettre, en conservant les espaces.\n",
    "\n",
    "c) Remplacer les lettres majuscules par des minuscules.\n",
    "\n",
    "d) Séparer les mots de la phrase et les mettre dans une liste ```y```.\n",
    "#### 2. Listes\n",
    "\n",
    "\n",
    "#### 3. Uplets\n",
    "\n",
    "#### 4. Dictionnaires"
   ]
  },
  {
   "cell_type": "code",
   "execution_count": 65,
   "metadata": {},
   "outputs": [
    {
     "name": "stdout",
     "output_type": "stream",
     "text": [
      "['hec', 'montréal', 'est', 'un', 'établissement', 'universitaire', 'québécois', 'situé', 'à', 'montréal', 'canada']\n"
     ]
    }
   ],
   "source": [
    "x = \"HEC Montréal est un établissement universitaire québécois situé à Montréal (Canada).\"\n",
    "x = x.replace('(', '').replace(')', '').replace('.', '')\n",
    "x = x.lower()\n",
    "y = x.split()\n",
    "print(y)"
   ]
  },
  {
   "cell_type": "code",
   "execution_count": null,
   "metadata": {},
   "outputs": [],
   "source": []
  }
 ],
 "metadata": {
  "kernelspec": {
   "display_name": "Python 3",
   "language": "python",
   "name": "python3"
  },
  "language_info": {
   "codemirror_mode": {
    "name": "ipython",
    "version": 3
   },
   "file_extension": ".py",
   "mimetype": "text/x-python",
   "name": "python",
   "nbconvert_exporter": "python",
   "pygments_lexer": "ipython3",
   "version": "3.7.3"
  }
 },
 "nbformat": 4,
 "nbformat_minor": 2
}
