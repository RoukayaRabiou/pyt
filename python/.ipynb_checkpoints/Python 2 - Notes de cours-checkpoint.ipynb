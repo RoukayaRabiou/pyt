{
 "cells": [
  {
   "cell_type": "markdown",
   "metadata": {},
   "source": [
    "# Python 2 - Notes de cours\n",
    "\n",
    "<img style=\"float: left;\" src=\"images/logo.png\">"
   ]
  },
  {
   "cell_type": "markdown",
   "metadata": {},
   "source": [
    "### CSD - Comité Science de Données HEC\n",
    "##### Préparées par Samuel Tremblay, VP-Éducation 2019-2020\n",
    "#### Sommaire\n",
    "1. Structures de décision\n",
    "    * Avec condition ```ìf```\n",
    "    * Avec erreur ```try/except```\n",
    "2. Boucles d'itération\n",
    "    * Boucles fixes ```for```\n",
    "    * Boucles infinies ```while```\n",
    "3. Régression simple\n",
    "    * Modélisation avec ```scikit-learn```\n",
    "    * Performance et prédiction\n",
    "4. Visualisation de données\n",
    "    * À l'aide de ```Matplotlib```\n",
    "    * À l'aide de ```Bokeh```\n",
    "\n",
    "## 1. Structures de décision \n",
    "### Avec condition ```ìf```\n",
    "Les chaînes de caractères sont une composante essentielle de la programmation. Elles permettent de stocker de l'information lisible par l'humain : des caractères. Elles sont créées grâce aux opérateurs ```''``` et ```\"\"```, qui produisent un résultat équivalent. Celles-ci peuvent être vues sous forme matricielle et possèdent de nombreuses méthodes intéressantes que nous regarderons."
   ]
  }
 ],
 "metadata": {
  "kernelspec": {
   "display_name": "Python 3",
   "language": "python",
   "name": "python3"
  },
  "language_info": {
   "codemirror_mode": {
    "name": "ipython",
    "version": 3
   },
   "file_extension": ".py",
   "mimetype": "text/x-python",
   "name": "python",
   "nbconvert_exporter": "python",
   "pygments_lexer": "ipython3",
   "version": "3.7.3"
  }
 },
 "nbformat": 4,
 "nbformat_minor": 2
}
