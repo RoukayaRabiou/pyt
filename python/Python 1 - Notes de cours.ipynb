{
 "cells": [
  {
   "cell_type": "markdown",
   "metadata": {},
   "source": [
    "# Python 1 - Notes de cours\n",
    "\n",
    "<img style=\"float: left;\" src=\"images/logo.png\">"
   ]
  },
  {
   "cell_type": "markdown",
   "metadata": {},
   "source": [
    "### CSD - Comité Science de Données HEC\n",
    "##### Préparées par Samuel Tremblay, VP-Éducation 2019-2020\n",
    "#### Sommaire\n",
    "1. Structures de données de base\n",
    "    * Chaînes de caractères\n",
    "    * Listes\n",
    "    * Uplets (*tuples*) \n",
    "    * Dictionnaires\n",
    "2. Structures de données avancées\n",
    "    * Matrices (*arrays*) ```NumPy```\n",
    "    * Tableaux de données (*data frames*) ```Pandas```\n",
    "3. Importation de données \n",
    "    * À l'aide de ```NumPy```\n",
    "    * À l'aide de ```Pandas```\n",
    "4. Écriture de données\n",
    "    * À l'aide de ```NumPy```\n",
    "    * À l'aide de ```Pandas```\n",
    "\n",
    "## 1. Structures de données de base    \n",
    "### Chaînes de caractères\n",
    "Les chaînes de caractères sont une composante essentielle de la programmation. Elles permettent de stocker de l'information lisible par l'humain : des caractères. Elles sont créées grâce aux opérateurs ```''``` et ```\"\"```, qui produisent un résultat équivalent. Celles-ci peuvent être vues sous forme matricielle et possèdent de nombreuses méthodes intéressantes que nous regarderons."
   ]
  },
  {
   "cell_type": "code",
   "execution_count": 39,
   "metadata": {},
   "outputs": [
    {
     "name": "stdout",
     "output_type": "stream",
     "text": [
      "Propriété 1\n",
      " Stella est un chat\n"
     ]
    }
   ],
   "source": [
    "# 1. Elles ont une forme matricielle\n",
    "ma_chaine = 'Stella est un chat'\n",
    "print('Propriété 1\\n', ma_chaine[:6] + ma_chaine[6:])"
   ]
  },
  {
   "cell_type": "code",
   "execution_count": 43,
   "metadata": {},
   "outputs": [
    {
     "name": "stdout",
     "output_type": "stream",
     "text": [
      "Méthode strip()\n",
      "  Stella est un chat   \n",
      " Stella est un chat\n"
     ]
    }
   ],
   "source": [
    "# 2. Méthode strip() retire les espaces au début et à la fin de la chaîne\n",
    "ma_chaine = ' Stella est un chat'\n",
    "print('Méthode strip()\\n', ma_chaine, '\\n', ma_chaine.strip())"
   ]
  },
  {
   "cell_type": "code",
   "execution_count": 44,
   "metadata": {},
   "outputs": [
    {
     "name": "stdout",
     "output_type": "stream",
     "text": [
      "Méthode upper()\n",
      "  Stella est un chat   \n",
      "  STELLA EST UN CHAT  \n"
     ]
    }
   ],
   "source": [
    "# 3. Méthode upper() retourne la chaîne mise en majuscules\n",
    "print('Méthode upper()\\n', ma_chaine, '\\n', ma_chaine.upper())"
   ]
  },
  {
   "cell_type": "code",
   "execution_count": 45,
   "metadata": {},
   "outputs": [
    {
     "name": "stdout",
     "output_type": "stream",
     "text": [
      "Méthode upper()\n",
      "  Stella est un chat   \n",
      "  stella est un chat  \n"
     ]
    }
   ],
   "source": [
    "# 4. Méthode lower() retourne la chaîne mise en minuscules\n",
    "print('Méthode upper()\\n', ma_chaine, '\\n', ma_chaine.lower())"
   ]
  },
  {
   "cell_type": "code",
   "execution_count": 47,
   "metadata": {},
   "outputs": [
    {
     "name": "stdout",
     "output_type": "stream",
     "text": [
      "Méthode upper()\n",
      "  Stella est un chat   \n",
      "  Théo est un chat  \n"
     ]
    }
   ],
   "source": [
    "# 5. Méthode replace() remplace une expression par une autre\n",
    "print('Méthode upper()\\n', ma_chaine, '\\n', ma_chaine.replace('Stella', 'Théo'))"
   ]
  },
  {
   "cell_type": "code",
   "execution_count": 50,
   "metadata": {},
   "outputs": [
    {
     "name": "stdout",
     "output_type": "stream",
     "text": [
      "Méthode upper()\n",
      " ['Stella', 'est', 'un', 'chat']\n"
     ]
    }
   ],
   "source": [
    "# 6. Méthode split() retourne la chaîne séparée dans une liste en fonction du séparateur désiré\n",
    "print('Méthode upper()\\n', ma_chaine.strip().split(' '))"
   ]
  },
  {
   "cell_type": "markdown",
   "metadata": {},
   "source": [
    "### Listes\n",
    "Les listes sont la principale structure de données de Python. Elles sont créées grâce aux crochets `[]` et possèdent plusieurs caractéristiques intéressantes que nous démontrerons :\n",
    "1. Elles sont ordonnées\n",
    "2. Elles peuvent contenir n'importe quel objet\n",
    "3. On y accède en utilisant leur index\n",
    "4. Elles peuvent être imbriquées\n",
    "5. Elles sont mutables"
   ]
  },
  {
   "cell_type": "code",
   "execution_count": 55,
   "metadata": {},
   "outputs": [
    {
     "name": "stdout",
     "output_type": "stream",
     "text": [
      "Propriété 1\n",
      " False\n"
     ]
    }
   ],
   "source": [
    "# 1. Elles sont ordonnées\n",
    "ma_liste = ['chat', 'chien']\n",
    "print('Propriété 1\\n', ma_liste[0] == ma_liste[1])"
   ]
  },
  {
   "cell_type": "code",
   "execution_count": 40,
   "metadata": {},
   "outputs": [
    {
     "name": "stdout",
     "output_type": "stream",
     "text": [
      "Propriété 2\n",
      " ['chat', 0.3, False]\n"
     ]
    }
   ],
   "source": [
    "# 2. Elles peuvent contenir n'importe quel objet\n",
    "ma_liste = ['chat', 0.3, False]\n",
    "print('Propriété 2\\n', ma_liste)"
   ]
  },
  {
   "cell_type": "code",
   "execution_count": 41,
   "metadata": {},
   "outputs": [
    {
     "name": "stdout",
     "output_type": "stream",
     "text": [
      "Propriété 3\n",
      " chat chat ['chat']\n"
     ]
    }
   ],
   "source": [
    "# 3. On y accède en utilisant leur index\n",
    "print('Propriété 3\\n', ma_liste[0], ma_liste[-3], ma_liste[0:1])"
   ]
  },
  {
   "cell_type": "code",
   "execution_count": 42,
   "metadata": {},
   "outputs": [
    {
     "name": "stdout",
     "output_type": "stream",
     "text": [
      "Propriété 4\n",
      " chat chien\n"
     ]
    }
   ],
   "source": [
    "# 4. Elles peuvent être imbriquées\n",
    "ma_liste = ['chat', ['chien']]\n",
    "print('Propriété 4\\n', ma_liste[0], ma_liste[1][0])"
   ]
  },
  {
   "cell_type": "code",
   "execution_count": 44,
   "metadata": {},
   "outputs": [
    {
     "name": "stdout",
     "output_type": "stream",
     "text": [
      "Propriété 5 (assignation)\n",
      " ['chat', 'meow']\n",
      "Propriété 5 (append)\n",
      " ['chat', 'meow', 'chien']\n",
      "Propriété 5 (pop)\n",
      " ['chat', 'chien']\n"
     ]
    }
   ],
   "source": [
    "# 5. Elles sont mutables\n",
    "ma_liste[1] = 'meow'\n",
    "print('Propriété 5 (assignation)\\n', ma_liste)\n",
    "ma_liste.append('chien') # Méthode append(x)\n",
    "print('Propriété 5 (append)\\n', ma_liste)\n",
    "ma_liste.pop(-2)         # Méthode pop(x)\n",
    "print('Propriété 5 (pop)\\n', ma_liste)"
   ]
  },
  {
   "cell_type": "markdown",
   "metadata": {},
   "source": [
    "### Uplets\n",
    "Les uplets sont similaires aux listes sur de nombreuses propriétés, outre le fait qu'ils sont immuables. Ainsi, il est possible de les concaténer mais pas de leur assigner de nouvelles valeurs. Ils sont produits grâce à l'opérateur `()` et sont souvent le produit de fonctions."
   ]
  },
  {
   "cell_type": "code",
   "execution_count": 45,
   "metadata": {},
   "outputs": [
    {
     "name": "stdout",
     "output_type": "stream",
     "text": [
      "Propriété 1\n",
      " False\n"
     ]
    }
   ],
   "source": [
    "# 1. Ils sont ordonnées\n",
    "mon_uplet = ('chat', 'chien')\n",
    "print('Propriété 1\\n', mon_uplet[0] == mon_uplet[1])"
   ]
  },
  {
   "cell_type": "code",
   "execution_count": 46,
   "metadata": {},
   "outputs": [
    {
     "name": "stdout",
     "output_type": "stream",
     "text": [
      "Propriété 2\n",
      " ('chat', 0.3, False)\n"
     ]
    }
   ],
   "source": [
    "# 2. Ils peuvent contenir n'importe quel objet\n",
    "mon_uplet = ('chat', 0.3, False)\n",
    "print('Propriété 2\\n', mon_uplet)"
   ]
  },
  {
   "cell_type": "code",
   "execution_count": 47,
   "metadata": {},
   "outputs": [
    {
     "name": "stdout",
     "output_type": "stream",
     "text": [
      "Propriété 3\n",
      " chat chat ('chat',)\n"
     ]
    }
   ],
   "source": [
    "# 3. On y accède en utilisant leur index\n",
    "print('Propriété 3\\n', mon_uplet[0], mon_uplet[-3], mon_uplet[0:1])"
   ]
  },
  {
   "cell_type": "code",
   "execution_count": 10,
   "metadata": {},
   "outputs": [
    {
     "name": "stdout",
     "output_type": "stream",
     "text": [
      "Propriété 4\n",
      " chat chien\n"
     ]
    }
   ],
   "source": [
    "# 4. Ils peuvent être imbriqués\n",
    "mon_uplet = ('chat', ('chien',)) # Remarquer la virgule après un uplet d'un seul item\n",
    "print('Propriété 4\\n', mon_uplet[0], mon_uplet[1][0])"
   ]
  },
  {
   "cell_type": "code",
   "execution_count": 53,
   "metadata": {},
   "outputs": [
    {
     "ename": "TypeError",
     "evalue": "'tuple' object does not support item assignment",
     "output_type": "error",
     "traceback": [
      "\u001b[0;31m---------------------------------------------------------------------------\u001b[0m",
      "\u001b[0;31mTypeError\u001b[0m                                 Traceback (most recent call last)",
      "\u001b[0;32m<ipython-input-53-a51010738fc2>\u001b[0m in \u001b[0;36m<module>\u001b[0;34m\u001b[0m\n\u001b[1;32m      1\u001b[0m \u001b[0;31m# 5 Ils sont immuables\u001b[0m\u001b[0;34m\u001b[0m\u001b[0;34m\u001b[0m\u001b[0;34m\u001b[0m\u001b[0m\n\u001b[0;32m----> 2\u001b[0;31m \u001b[0mmon_uplet\u001b[0m\u001b[0;34m[\u001b[0m\u001b[0;36m1\u001b[0m\u001b[0;34m]\u001b[0m \u001b[0;34m=\u001b[0m \u001b[0;34m'meow'\u001b[0m\u001b[0;34m\u001b[0m\u001b[0;34m\u001b[0m\u001b[0m\n\u001b[0m",
      "\u001b[0;31mTypeError\u001b[0m: 'tuple' object does not support item assignment"
     ]
    }
   ],
   "source": [
    "# 5 Ils sont immuables\n",
    "mon_uplet[1] = 'meow'"
   ]
  },
  {
   "cell_type": "markdown",
   "metadata": {},
   "source": [
    "### Dictionnaires\n",
    "Les dictionaires sont un ensemble de données sans ordre particulier, mutable, indexé et imbriquable. Ils sont créés grâce à l'opérateur ```{}``` et possèdent des binômes « clé : valeur ». Il est également possible d'utiliser la fonction ```dict(clé = valeur)``` pour les créer. Noter ici (1) l'utilisation du ```=``` plutôt que du ```:``` ainsi que (2) l'absence des guillemets pour la création des clés. On y accède en utilisant une clé, grâce à la forme suivante : ```dict['clé']```. Cela retourne alors la valeur. "
   ]
  },
  {
   "cell_type": "code",
   "execution_count": 26,
   "metadata": {},
   "outputs": [
    {
     "name": "stdout",
     "output_type": "stream",
     "text": [
      "Propriété 1 (opérateur {})\n",
      " {'race': 'bengal', 'nom': 'Stella', 'age': 5, 'male': False}\n",
      "Propriété 1 (fonction dict)\n",
      " {'race': 'bengal', 'nom': 'Stella', 'age': 5, 'male': False}\n",
      "Propriété 1 (sans ordre) \n",
      "\n"
     ]
    },
    {
     "ename": "KeyError",
     "evalue": "0",
     "output_type": "error",
     "traceback": [
      "\u001b[0;31m---------------------------------------------------------------------------\u001b[0m",
      "\u001b[0;31mKeyError\u001b[0m                                  Traceback (most recent call last)",
      "\u001b[0;32m<ipython-input-26-3c4c99a4df25>\u001b[0m in \u001b[0;36m<module>\u001b[0;34m\u001b[0m\n\u001b[1;32m     10\u001b[0m \u001b[0mprint\u001b[0m\u001b[0;34m(\u001b[0m\u001b[0;34m'Propriété 1 (fonction dict)\\n'\u001b[0m\u001b[0;34m,\u001b[0m \u001b[0mmon_dict\u001b[0m\u001b[0;34m)\u001b[0m\u001b[0;34m\u001b[0m\u001b[0;34m\u001b[0m\u001b[0m\n\u001b[1;32m     11\u001b[0m \u001b[0mprint\u001b[0m\u001b[0;34m(\u001b[0m\u001b[0;34m'Propriété 1 (sans ordre) \\n'\u001b[0m\u001b[0;34m)\u001b[0m\u001b[0;34m\u001b[0m\u001b[0;34m\u001b[0m\u001b[0m\n\u001b[0;32m---> 12\u001b[0;31m \u001b[0mprint\u001b[0m\u001b[0;34m(\u001b[0m\u001b[0mmon_dict\u001b[0m\u001b[0;34m[\u001b[0m\u001b[0;36m0\u001b[0m\u001b[0;34m]\u001b[0m\u001b[0;34m)\u001b[0m\u001b[0;34m\u001b[0m\u001b[0;34m\u001b[0m\u001b[0m\n\u001b[0m\u001b[1;32m     13\u001b[0m \u001b[0mprint\u001b[0m\u001b[0;34m(\u001b[0m\u001b[0;34m'Propriété 2 (ajout)\\n'\u001b[0m\u001b[0;34m,\u001b[0m \u001b[0mmon_dict\u001b[0m\u001b[0;34m)\u001b[0m\u001b[0;34m\u001b[0m\u001b[0;34m\u001b[0m\u001b[0m\n",
      "\u001b[0;31mKeyError\u001b[0m: 0"
     ]
    }
   ],
   "source": [
    "# 1. Ils n'ont pas d'ordre particulier\n",
    "mon_dict = {\n",
    "    'race' : 'bengal',\n",
    "    'nom' : 'Stella',\n",
    "    'age' : 5,\n",
    "    'male' : False\n",
    "}\n",
    "print('Propriété 1 (opérateur {})\\n', mon_dict)\n",
    "mon_dict = dict(race = 'bengal', nom = 'Stella', age = 5, male = False)\n",
    "print('Propriété 1 (fonction dict)\\n', mon_dict)\n",
    "print('Propriété 1 (sans ordre) \\n') \n",
    "print(mon_dict[0])"
   ]
  },
  {
   "cell_type": "code",
   "execution_count": 27,
   "metadata": {},
   "outputs": [
    {
     "name": "stdout",
     "output_type": "stream",
     "text": [
      "Propriété 2 (indexation)\n",
      " bengal\n",
      "Propriété 2 (assignation)\n",
      " inconnue\n",
      "Propriété 2 (supression)\n",
      " {'nom': 'Stella', 'age': 5, 'male': False}\n",
      "Propriété 2 (ajout)\n",
      " {'nom': 'Stella', 'age': 5, 'male': False, 'pelage': 'brun tigré'}\n"
     ]
    }
   ],
   "source": [
    "# 2. Ils sont indexés et mutables\n",
    "print('Propriété 2 (indexation)\\n', mon_dict['race'])\n",
    "mon_dict['race'] = 'inconnue'\n",
    "print('Propriété 2 (assignation)\\n', mon_dict['race'])\n",
    "mon_dict.pop('race')\n",
    "print('Propriété 2 (supression)\\n', mon_dict)\n",
    "mon_dict['pelage'] = 'brun tigré'\n",
    "print('Propriété 2 (ajout)\\n', mon_dict)"
   ]
  },
  {
   "cell_type": "code",
   "execution_count": 28,
   "metadata": {},
   "outputs": [
    {
     "name": "stdout",
     "output_type": "stream",
     "text": [
      "Propriété 3\n",
      " bengal\n"
     ]
    }
   ],
   "source": [
    "# 3. Ils peuvent être imbriquées\n",
    "mon_dict = {\n",
    "    'Stella' : {\n",
    "        'race' : 'bengal',\n",
    "        'âge' : 5\n",
    "    },\n",
    "    'Théo' : {\n",
    "        'race' : 'inconnue',\n",
    "        'âge' : 2\n",
    "    }\n",
    "}\n",
    "print('Propriété 3\\n', mon_dict['Stella']['race'])"
   ]
  },
  {
   "cell_type": "markdown",
   "metadata": {},
   "source": [
    "### Exercises - Structures de données de base\n",
    "#### 1. Chaînes de caractères\n",
    "a) Assigner à une variable ```x``` la phrase suivante : HEC Montréal est un établissement universitaire québécois situé à Montréal (Canada).\n",
    "\n",
    "b) Supprimer tout ce qui n'est pas une lettre, en conservant les espaces.\n",
    "\n",
    "c) Remplacer les lettres majuscules par des minuscules.\n",
    "\n",
    "d) Séparer les mots de la phrase et les mettre dans une liste ```x_list```.\n",
    "#### 2. Listes\n",
    "a) Prendre ```x_list``` et y supprimer l'entrée 'canada'.\n",
    "\n",
    "b) Ajouter à ```x_list``` 'québec'.\n",
    "\n",
    "c) Faire une sous-liste ```x_sub_list``` formée des 6 premiers éléments.\n",
    "\n",
    "#### 3. Uplets\n",
    "a) Créer un uplet ```x_uplet``` à partir des deux permiers éléments de ```x_sub_list```.\n",
    "\n",
    "#### 4. Dictionnaires\n",
    "a) Transformer votre upplet en un dictionnaire ```x_dic``` avec comme clés ```ecole : hec``` et ```ville : montréal```.\n",
    "\n",
    "b) Remplacer la valeur de la clé ```ecole``` par 'polytechnique'."
   ]
  },
  {
   "cell_type": "markdown",
   "metadata": {},
   "source": [
    "## Structures de données avancées\n",
    "### Matrices (*arrays*) ```NumPy```\n",
    "La librairie ```NumPy``` a été conçue afin de faciliter l'abstraction de matrices mathématiques ainsi que les opérations sur celles-ci. Elle fournit également une structure de données standardisée à d'autres librairies, comme ```SciPy```, laquelle permet de recréer un environnement similaire à celui de MatLab. Pour l'installer, taper dans l'invite de commande : \n",
    "\n",
    "```bash\n",
    "pip install numpy\n",
    "```\n",
    "L'objet principal de ```NumPy``` est le ```ndarray```, lequel est créé grâce à diverses fonctions, la plus simple étant ```np.array()```. C'est une forme augmentée de la liste, introduite dans la précédente section. Elle possède ainsi les mêmes méthodes d'indexation."
   ]
  },
  {
   "cell_type": "code",
   "execution_count": 44,
   "metadata": {},
   "outputs": [
    {
     "name": "stdout",
     "output_type": "stream",
     "text": [
      "Les deux matrices sont-elles équivalentes?\n",
      " [[ True  True  True]\n",
      " [ True  True  True]\n",
      " [ True  True  True]]\n",
      "La valeur (2, 2) de la matrice est : 4\n"
     ]
    }
   ],
   "source": [
    "import numpy as np\n",
    "ndarray1 = np.array(\n",
    "    [[0, 1, 2],\n",
    "    [3, 4, 5],\n",
    "    [6, 7, 8]]\n",
    ")\n",
    "# Méthode alternative\n",
    "ndarray2 = np.arange(9).reshape(3, 3)\n",
    "print('Les deux matrices sont-elles équivalentes?\\n', ndarray1 == ndarray2)\n",
    "# Indexation de la valeur à la position mathématique (2, 2)\n",
    "print('La valeur (2, 2) de la matrice est :', ndarray1[1][1])"
   ]
  },
  {
   "cell_type": "markdown",
   "metadata": {},
   "source": [
    "Un objet ```ndarray``` supporte de nombreuses fonctions qui permettent d'en apprendre plus sur celui-ci."
   ]
  },
  {
   "cell_type": "code",
   "execution_count": 45,
   "metadata": {},
   "outputs": [
    {
     "name": "stdout",
     "output_type": "stream",
     "text": [
      "L'objet a 2 dimensions\n",
      "Les dimensions de l'objet sont de la forme (3, 4)\n",
      "L'objet a 12 éléments\n"
     ]
    }
   ],
   "source": [
    "ndarray = np.arange(12).reshape(3, 4)\n",
    "# Nombre de dimensions (axes) de l'objet\n",
    "print('L\\'objet a', ndarray.ndim, 'dimensions')\n",
    "\n",
    "# Nombre de dimensions (axes) de l'objet\n",
    "print('Les dimensions de l\\'objet sont de la forme', ndarray.shape)\n",
    "\n",
    "# Nombre d'éléments de l'objet\n",
    "print('L\\'objet a', ndarray.size, 'éléments')"
   ]
  },
  {
   "cell_type": "markdown",
   "metadata": {},
   "source": [
    "Évidemment, il permet également d'effectuer une série d'opérations mathématiques de base."
   ]
  },
  {
   "cell_type": "code",
   "execution_count": 50,
   "metadata": {},
   "outputs": [
    {
     "name": "stdout",
     "output_type": "stream",
     "text": [
      "Le produit élément par élément de A par B est : [ 0  4 10 18]\n",
      "Le produit matriciel de A par B est : 32\n",
      "L'addition élément par élément de A par B est : [3 5 7 9]\n",
      "La division élément par élément de A par B est : [0.   0.25 0.4  0.5 ]\n"
     ]
    }
   ],
   "source": [
    "A, B = np.arange(4), np.array([3, 4, 5, 6])\n",
    "# Produit élément par élément\n",
    "C = A * B\n",
    "print('Le produit élément par élément de A par B est :', C)\n",
    "\n",
    "# Produit matriciel\n",
    "C = A @ B\n",
    "print('Le produit matriciel de A par B est :', C)\n",
    "\n",
    "# Addition élément par élément\n",
    "C = A + B\n",
    "print('L\\'addition élément par élément de A par B est :', C)\n",
    "\n",
    "# Divison élément par élément\n",
    "C = A / B\n",
    "print('La division élément par élément de A par B est :', C)"
   ]
  },
  {
   "cell_type": "markdown",
   "metadata": {},
   "source": [
    "### Tableaux de données (*data frames*) ```Pandas```\n",
    "La librairie ```Pandas``` dont le principal objectif est la manipulation et l'analyse de données. Elle propose l'objet ```DataFrame```, lequel permet de recréer sous Python un environnement de base de données : chaque colonne est une caractéristique et chaque ligne, une observation (ou entrée). La fonction permettant de créer un tableau de données est ```pd.DataFrame()```. Il est important de spécifier l'index d'une entrée : celui-ci doit habituellement être unique."
   ]
  },
  {
   "cell_type": "code",
   "execution_count": 126,
   "metadata": {},
   "outputs": [
    {
     "data": {
      "text/html": [
       "<div>\n",
       "<style scoped>\n",
       "    .dataframe tbody tr th:only-of-type {\n",
       "        vertical-align: middle;\n",
       "    }\n",
       "\n",
       "    .dataframe tbody tr th {\n",
       "        vertical-align: top;\n",
       "    }\n",
       "\n",
       "    .dataframe thead th {\n",
       "        text-align: right;\n",
       "    }\n",
       "</style>\n",
       "<table border=\"1\" class=\"dataframe\">\n",
       "  <thead>\n",
       "    <tr style=\"text-align: right;\">\n",
       "      <th></th>\n",
       "      <th>male</th>\n",
       "      <th>age</th>\n",
       "      <th>race</th>\n",
       "    </tr>\n",
       "  </thead>\n",
       "  <tbody>\n",
       "    <tr>\n",
       "      <th>Stella</th>\n",
       "      <td>False</td>\n",
       "      <td>5.1</td>\n",
       "      <td>bengal</td>\n",
       "    </tr>\n",
       "    <tr>\n",
       "      <th>Théo</th>\n",
       "      <td>True</td>\n",
       "      <td>2.3</td>\n",
       "      <td>inconnue</td>\n",
       "    </tr>\n",
       "  </tbody>\n",
       "</table>\n",
       "</div>"
      ],
      "text/plain": [
       "         male  age      race\n",
       "Stella  False  5.1    bengal\n",
       "Théo     True  2.3  inconnue"
      ]
     },
     "execution_count": 126,
     "metadata": {},
     "output_type": "execute_result"
    }
   ],
   "source": [
    "import pandas as pd\n",
    "index = ['Stella', 'Théo']\n",
    "data = {'male': [False, True],\n",
    "        'age' : [5.1, 2.3],\n",
    "        'race': ['bengal', 'inconnue']\n",
    "}\n",
    "df = pd.DataFrame(data = data, index = index)\n",
    "df"
   ]
  },
  {
   "cell_type": "markdown",
   "metadata": {},
   "source": [
    "L'accès aux données se fait de multiples façons et c'est ici que la définition de l'index est importante. L'attribut ```.loc['index', 'col']``` permet de retrouver des colonnes, lignes ou cellules. Celui-ci supporte aussi la mutation de valeurs : il sert donc à afficher puis à remplacer, selon le besoin. Il existe d'autres méthodes qui ne seront pas abordées ici."
   ]
  },
  {
   "cell_type": "code",
   "execution_count": 131,
   "metadata": {},
   "outputs": [
    {
     "name": "stdout",
     "output_type": "stream",
     "text": [
      "Accéder à une colonne : \n",
      " Stella        \n",
      "Théo      True\n",
      "Name: male, dtype: object \n",
      "\n",
      "Accéder à une ligne : \n",
      " male    \n",
      "age     \n",
      "race    \n",
      "Name: Stella, dtype: object \n",
      "\n",
      "Accéder à une cellule :  \n",
      "\n",
      "Remplacer une valeur :\n"
     ]
    },
    {
     "data": {
      "text/html": [
       "<div>\n",
       "<style scoped>\n",
       "    .dataframe tbody tr th:only-of-type {\n",
       "        vertical-align: middle;\n",
       "    }\n",
       "\n",
       "    .dataframe tbody tr th {\n",
       "        vertical-align: top;\n",
       "    }\n",
       "\n",
       "    .dataframe thead th {\n",
       "        text-align: right;\n",
       "    }\n",
       "</style>\n",
       "<table border=\"1\" class=\"dataframe\">\n",
       "  <thead>\n",
       "    <tr style=\"text-align: right;\">\n",
       "      <th></th>\n",
       "      <th>male</th>\n",
       "      <th>age</th>\n",
       "      <th>race</th>\n",
       "    </tr>\n",
       "  </thead>\n",
       "  <tbody>\n",
       "    <tr>\n",
       "      <th>Stella</th>\n",
       "      <td></td>\n",
       "      <td></td>\n",
       "      <td></td>\n",
       "    </tr>\n",
       "    <tr>\n",
       "      <th>Théo</th>\n",
       "      <td>True</td>\n",
       "      <td>2.3</td>\n",
       "      <td>inconnue</td>\n",
       "    </tr>\n",
       "  </tbody>\n",
       "</table>\n",
       "</div>"
      ],
      "text/plain": [
       "        male  age      race\n",
       "Stella                     \n",
       "Théo    True  2.3  inconnue"
      ]
     },
     "execution_count": 131,
     "metadata": {},
     "output_type": "execute_result"
    }
   ],
   "source": [
    "# Accéder aux entrées d'une colonne\n",
    "print('Accéder à une colonne : \\n', df.loc[:, 'male'], '\\n') # Méthode équivalente : df['male'] ou df.male\n",
    "\n",
    "# Accéder aux caractéristiques d'une entrée\n",
    "print('Accéder à une ligne : \\n', df.loc['Stella'], '\\n') # Pas besoin de spécifier 'col' ici\n",
    "\n",
    "# Accéder à une caractéristique d'une entrée (cellule)\n",
    "print('Accéder à une cellule :', df.loc['Stella', 'male'], '\\n')\n",
    "\n",
    "# Remplacer une valeur\n",
    "print('Remplacer une valeur :')\n",
    "df.loc['Stella'] = ['', '', '']\n",
    "df"
   ]
  },
  {
   "cell_type": "markdown",
   "metadata": {},
   "source": [
    "Enfin, ```Pandas``` supporte une série d'attributs intéressants qui ne seront pas démontrés : \n",
    "* ```.mean()```  : Retourne la moyenne de chaque colonne\n",
    "* ```.cor()``` : Retourne les corrélations entre les différentes colonnes\n",
    "* ```.count()``` : Retourne le compte des valeurs non-nulles de chaque colonne\n",
    "* ```.max()``` : Retourne la valeur maximale de chaque colonne\n",
    "* ```.min()``` : Retourne la valeur minimale de chaque colonne\n",
    "* ```.median()``` : Retourne la médiane de chaque colonne\n",
    "* ```.std()``` : Retourne l'écart-type de chaque colonne"
   ]
  },
  {
   "cell_type": "markdown",
   "metadata": {},
   "source": [
    "### Exercises - Structures de données avancées\n",
    "#### 5. Matrices ```NumPy```\n",
    "a) Créer une matrice ```A``` 2 x 2 avec des chiffres allant de 0 à 3.\n",
    "\n",
    "b) Additionner à ```A``` la matrice identité.\n",
    "\n",
    "c) Remplacer la valeur à la position mathématique (1, 1) de ```A``` par un 0.\n",
    "#### 6. Tableaux de données ```Pandas```\n",
    "a) Créer un tableau ```df``` avec les entrées suivantes : ```produit : [croustilles, biscuit], prix : [2, 1.50], ventes : [1000, 1750]```. Ne pas spécifier d'index.\n",
    "\n",
    "b) Ajouter l'entrée suivante au tableau : ```produit : salade, prix : 5, ventes : 500```\n",
    "\n",
    "c) Créer une colonne représentant ```profit```, où ```profit = prix * ventes```.\n",
    "\n",
    "d) Calculer la médiane des 3 dernières colonnes seulement.\n"
   ]
  }
 ],
 "metadata": {
  "kernelspec": {
   "display_name": "Python 3",
   "language": "python",
   "name": "python3"
  },
  "language_info": {
   "codemirror_mode": {
    "name": "ipython",
    "version": 3
   },
   "file_extension": ".py",
   "mimetype": "text/x-python",
   "name": "python",
   "nbconvert_exporter": "python",
   "pygments_lexer": "ipython3",
   "version": "3.7.3"
  }
 },
 "nbformat": 4,
 "nbformat_minor": 2
}
