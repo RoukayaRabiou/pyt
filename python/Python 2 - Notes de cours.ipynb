{
 "cells": [
  {
   "cell_type": "markdown",
   "metadata": {},
   "source": [
    "# Python 2 - Notes de cours\n",
    "\n",
    "<img style=\"float: left;\" src=\"images/logo.png\">"
   ]
  },
  {
   "cell_type": "markdown",
   "metadata": {},
   "source": [
    "### CSD - Comité Science de Données HEC\n",
    "##### Préparées par Samuel Tremblay, VP-Éducation 2019-2020\n",
    "#### Sommaire\n",
    "1. Structures de décision\n",
    "    * Avec condition ```if```\n",
    "    * Avec erreur ```try/except```\n",
    "2. Boucles d'itération\n",
    "    * Boucles fixes ```for```\n",
    "    * Boucles infinies ```while```\n",
    "3. Régression simple\n",
    "    * Modélisation avec ```scikit-learn```\n",
    "    * Performance et prédiction\n",
    "4. Visualisation de données\n",
    "    * À l'aide de ```Matplotlib```\n",
    "    * À l'aide de ```Bokeh```\n",
    "\n",
    "## 1. Structures de décision \n",
    "### Avec condition ```if```\n",
    "La structure de décision ```if``` est la base de la programmation logique, c'est-à-dire que l'ordinateur peut prendre une décision à condition qu'une logique soit vérifiée. Sa structure est la suivante : ```if (condition): (décision)```. Cependant, qu'arrive-t-il si la condition n'est pas vérifiée, ou que plusieurs conditions indépendantes existent? C'est ici que les expressions ```else``` et ```elif``` entrent en jeu, respectivement. Celles-cis sont placées toujours à la suite de ```if```. Il faut noter que ```else``` ne prend pas de condition à vérifier car elle revient à dire « ```if (condition)``` n'est pas vraie ». ```elif``` peut être vue comme un autre ```if``` et prend donc la même syntaxe."
   ]
  },
  {
   "cell_type": "code",
   "execution_count": 1,
   "metadata": {},
   "outputs": [
    {
     "name": "stdout",
     "output_type": "stream",
     "text": [
      "x est supérieur à 4.\n",
      "x est inférieur à 4.\n",
      "x est 4.\n"
     ]
    }
   ],
   "source": [
    "# Définition d'une fonction implémentant la structure de décision\n",
    "def que_vaut_x(x):\n",
    "    if x > 4:\n",
    "        print('x est supérieur à 4.')\n",
    "    elif x < 4:\n",
    "        print('x est inférieur à 4.')\n",
    "    else:\n",
    "        print('x est 4.')\n",
    "\n",
    "# Test de la logique\n",
    "que_vaut_x(5)\n",
    "que_vaut_x(3)\n",
    "que_vaut_x(4)"
   ]
  },
  {
   "cell_type": "markdown",
   "metadata": {},
   "source": [
    "### Avec erreur ```try/except```\n",
    "La structure de décision ```try/except``` est une manière robuste et facile de gérer les erreurs qui peuvent survenir lors de l'exécution d'un script. Elle est de la forme ```try: (code dangereux) except: (erreur à surveiller)```. Il est à noter que ```except``` supporte une variété de types d'erreurs grâce à la syntaxe suivante: ```except (type d'erreur):```. Ainsi, si le type n'est pas précisé, la structure empêchera toute erreur d'entraver la compilation."
   ]
  },
  {
   "cell_type": "code",
   "execution_count": 21,
   "metadata": {},
   "outputs": [
    {
     "name": "stdout",
     "output_type": "stream",
     "text": [
      "tuple index out of range\n"
     ]
    },
    {
     "ename": "TypeError",
     "evalue": "'tuple' object does not support item assignment",
     "output_type": "error",
     "traceback": [
      "\u001b[0;31m---------------------------------------------------------------------------\u001b[0m",
      "\u001b[0;31mTypeError\u001b[0m                                 Traceback (most recent call last)",
      "\u001b[0;32m<ipython-input-21-196f367c289e>\u001b[0m in \u001b[0;36m<module>\u001b[0;34m\u001b[0m\n\u001b[1;32m      8\u001b[0m \u001b[0;31m# Mutation d'une valeur d'un uplet (erreur de type)\u001b[0m\u001b[0;34m\u001b[0m\u001b[0;34m\u001b[0m\u001b[0;34m\u001b[0m\u001b[0m\n\u001b[1;32m      9\u001b[0m \u001b[0;32mtry\u001b[0m\u001b[0;34m:\u001b[0m\u001b[0;34m\u001b[0m\u001b[0;34m\u001b[0m\u001b[0m\n\u001b[0;32m---> 10\u001b[0;31m     \u001b[0my\u001b[0m\u001b[0;34m[\u001b[0m\u001b[0;36m0\u001b[0m\u001b[0;34m]\u001b[0m \u001b[0;34m=\u001b[0m \u001b[0;36m2\u001b[0m\u001b[0;34m\u001b[0m\u001b[0;34m\u001b[0m\u001b[0m\n\u001b[0m\u001b[1;32m     11\u001b[0m \u001b[0;32mexcept\u001b[0m \u001b[0mIndexError\u001b[0m \u001b[0;32mas\u001b[0m \u001b[0me\u001b[0m\u001b[0;34m:\u001b[0m\u001b[0;34m\u001b[0m\u001b[0;34m\u001b[0m\u001b[0m\n\u001b[1;32m     12\u001b[0m     \u001b[0mprint\u001b[0m\u001b[0;34m(\u001b[0m\u001b[0me\u001b[0m\u001b[0;34m)\u001b[0m\u001b[0;34m\u001b[0m\u001b[0;34m\u001b[0m\u001b[0m\n",
      "\u001b[0;31mTypeError\u001b[0m: 'tuple' object does not support item assignment"
     ]
    }
   ],
   "source": [
    "y = (1, 2, 3)\n",
    "# Impression d'une valeur inexistante (erreur d'indexation)\n",
    "try:\n",
    "    print(y[3])\n",
    "except IndexError as e:\n",
    "    print(e)\n",
    "\n",
    "# Mutation d'une valeur d'un uplet (erreur de type)\n",
    "try:\n",
    "    y[0] = 2\n",
    "except IndexError as e:\n",
    "    print(e)"
   ]
  },
  {
   "cell_type": "markdown",
   "metadata": {},
   "source": [
    "### Exercises - Structures de décision\n",
    "#### 1.  Avec condition ```if```\n",
    "a) Écrire une structure analysant la longueur d'une chaîne de caractères. Vérifier si celle-ci est (1) inférieure à 5 ou (2) supérieure ou égale à 5 ou (3) égale à 0 et imprimer un message approprié à l'utilisateur. \n",
    "\n",
    "b) Essayer avec la chaîne ```'miaou'```.\n",
    "\n",
    "c) Essayer avec la chaîne ```''```.\n",
    "\n",
    "d) Essayer avec la chaîne ```'Stella'```.\n",
    "\n",
    "\n",
    "#### 2. Avec erreur ```try/except```\n",
    "a) Écrire une structure permettant de gérer les deux types d'erreurs vu précédemment (```TypeError``` et ```IndexError```).\n",
    "\n",
    "b) Tester avec ```print(y[3])```.\n",
    "\n",
    "c) Tester avec ```y[0] = 2```.\n",
    "\n",
    "## 2. Boucles d'itération\n",
    "### Boucles fixes ```for```\n",
    "Les boucles ```for``` permettent de répéter une série d'actions pour un nombre fixe et prédéterminé de fois. Elles sont aussi bien conçues, permettant d'itérer facilement sur les structures de données. Elles sont de la forme ```for (élément) in (structure itérative):``` et vont toujours aller chercher le premier niveau de données de la structure à laquelle elles sont appliquées. Elles peuvent également être imbriquées pour interagir avec les structures multidmensionnelles."
   ]
  },
  {
   "cell_type": "code",
   "execution_count": 7,
   "metadata": {},
   "outputs": [
    {
     "name": "stdout",
     "output_type": "stream",
     "text": [
      "La sous-liste [1, 2, 3] contient les éléments suivants:\n",
      "1\n",
      "2\n",
      "3\n",
      "La sous-liste [4, 5, 6] contient les éléments suivants:\n",
      "4\n",
      "5\n",
      "6\n",
      "La sous-liste [7, 8, 9] contient les éléments suivants:\n",
      "7\n",
      "8\n",
      "9\n"
     ]
    }
   ],
   "source": [
    "ma_liste = [[1,2,3],[4,5,6],[7,8,9]]\n",
    "for sous_liste in ma_liste:\n",
    "    print('La sous-liste', sous_liste, 'contient les éléments suivants:')\n",
    "    for élément in sous_liste:\n",
    "        print(élément)"
   ]
  },
  {
   "cell_type": "markdown",
   "metadata": {},
   "source": [
    "### Boucles infinies ```while```\n",
    "Les boucles ```while``` sont exécutées un nombre indéterminé de fois jusqu'à validation d'un critère d'arrêt. Celles-ci sont particulièrement utiles en mathématiques, lorsqu'il faut itérer jusqu'à convergence vers une solution. Elles ont la forme ```while (condition):```. Il est possible d'utiliser les appels à ```break``` et ```continue``` afin de stopper la boucle ou encore de sauter une itération. Il est cependant déconseillé de les utiliser."
   ]
  },
  {
   "cell_type": "code",
   "execution_count": 6,
   "metadata": {},
   "outputs": [
    {
     "name": "stdout",
     "output_type": "stream",
     "text": [
      "x vaut 1\n",
      "x vaut 2\n",
      "x vaut 3\n",
      "x vaut 4\n",
      "x vaut 5, fin des itérations\n"
     ]
    }
   ],
   "source": [
    "x = 1\n",
    "while x < 5:\n",
    "    print('x vaut', x)\n",
    "    x += 1\n",
    "\n",
    "print('x vaut', str(x)+', fin des itérations')"
   ]
  },
  {
   "cell_type": "markdown",
   "metadata": {},
   "source": [
    "### Exercises - Boucles d'itération\n",
    "#### 3.  Boucles fixes ```for```\n",
    "a) Écrire une boucle qui imprime chaque caractère dans la chaîne ```'Stella'```.\n",
    "\n",
    "b) Écrire une boucle qui imprime seulement les éléments de la première sous-liste de ```ma_liste```.\n",
    "\n",
    "#### 4. Boucles fixes ```while```\n",
    "a) Écrire une boucle qui ajoute un ```u``` à la chaîne ```miaou``` jusqu'à ce que la chaîne ait 8 lettres.\n",
    "\n",
    "## 3. Régression simple\n",
    "### Modélisation avec ```scikit-learn```\n",
    "Les bou"
   ]
  },
  {
   "cell_type": "code",
   "execution_count": 14,
   "metadata": {},
   "outputs": [
    {
     "name": "stdout",
     "output_type": "stream",
     "text": [
      "Exercise 3 a)\n",
      "S\n",
      "t\n",
      "e\n",
      "l\n",
      "l\n",
      "a\n",
      "1\n",
      "2\n",
      "3\n",
      "miaouu\n",
      "miaouuu\n",
      "miaouuuu\n"
     ]
    }
   ],
   "source": [
    "print('Exercise 3 a)')\n",
    "chaine = 'Stella'\n",
    "for lettre in chaine:\n",
    "    print(lettre)\n",
    "\n",
    "    print('Exercise 3 a)')\n",
    "for élément in ma_liste[0]:\n",
    "    print(élément)\n",
    "\n",
    "chaine = 'miaou'\n",
    "while len(chaine) < 8:\n",
    "    chaine = chaine + 'u'\n",
    "    print (chaine)"
   ]
  },
  {
   "cell_type": "code",
   "execution_count": null,
   "metadata": {},
   "outputs": [],
   "source": []
  }
 ],
 "metadata": {
  "kernelspec": {
   "display_name": "Python 3",
   "language": "python",
   "name": "python3"
  },
  "language_info": {
   "codemirror_mode": {
    "name": "ipython",
    "version": 3
   },
   "file_extension": ".py",
   "mimetype": "text/x-python",
   "name": "python",
   "nbconvert_exporter": "python",
   "pygments_lexer": "ipython3",
   "version": "3.7.3"
  }
 },
 "nbformat": 4,
 "nbformat_minor": 2
}
