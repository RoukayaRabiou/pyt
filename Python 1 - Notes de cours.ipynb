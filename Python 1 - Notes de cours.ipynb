{
 "cells": [
  {
   "cell_type": "markdown",
   "metadata": {},
   "source": [
    "# Python 1 - Notes de cours\n",
    "### CSD - Comité Science de Données HEC\n",
    "##### Préparées par Samuel Tremblay, VP-Éducation 2019-2020\n",
    "#### Sommaire\n",
    "1. Structures de données\n",
    "    * Listes\n",
    "    * Uplets (*tuples*) et dictionnaires\n",
    "    * Chaînes de caractères\n",
    "    * Matrices (*arrays*) ```NumPy```\n",
    "    * Tableaux de données (*data frames*) ```Pandas```\n",
    "2. Importation de données \n",
    "    * À l'aide de ```NumPy```\n",
    "    * À l'aide de ```Pandas```\n",
    "3. Écriture de données\n",
    "    * À l'aide de ```NumPy```\n",
    "    * À l'aide de ```Pandas```"
   ]
  },
  {
   "cell_type": "code",
   "execution_count": 2,
   "metadata": {},
   "outputs": [
    {
     "ename": "SyntaxError",
     "evalue": "invalid syntax (<ipython-input-2-11acaba2c723>, line 1)",
     "output_type": "error",
     "traceback": [
      "\u001b[0;36m  File \u001b[0;32m\"<ipython-input-2-11acaba2c723>\"\u001b[0;36m, line \u001b[0;32m1\u001b[0m\n\u001b[0;31m    hello you\u001b[0m\n\u001b[0m            ^\u001b[0m\n\u001b[0;31mSyntaxError\u001b[0m\u001b[0;31m:\u001b[0m invalid syntax\n"
     ]
    }
   ],
   "source": []
  },
  {
   "cell_type": "code",
   "execution_count": null,
   "metadata": {},
   "outputs": [],
   "source": []
  }
 ],
 "metadata": {
  "kernelspec": {
   "display_name": "Python 3",
   "language": "python",
   "name": "python3"
  },
  "language_info": {
   "codemirror_mode": {
    "name": "ipython",
    "version": 3
   },
   "file_extension": ".py",
   "mimetype": "text/x-python",
   "name": "python",
   "nbconvert_exporter": "python",
   "pygments_lexer": "ipython3",
   "version": "3.7.3"
  }
 },
 "nbformat": 4,
 "nbformat_minor": 2
}
