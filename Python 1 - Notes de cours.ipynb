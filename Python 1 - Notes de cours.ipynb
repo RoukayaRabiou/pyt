{
 "cells": [
  {
   "cell_type": "markdown",
   "metadata": {},
   "source": [
    "# Python 1 - Notes de cours\n",
    "\n",
    "<img src=\"https://imagizer.imageshack.com/img924/8528/6NpZzr.png\"\n",
    "     alt=\"Logo du comité\"\n",
    "     style=\"float: left\" />"
   ]
  },
  {
   "cell_type": "markdown",
   "metadata": {},
   "source": [
    "### CSD - Comité Science de Données HEC\n",
    "##### Préparées par Samuel Tremblay, VP-Éducation 2019-2020\n",
    "#### Sommaire\n",
    "1. Structures de données\n",
    "    * Listes\n",
    "    * Uplets (*tuples*) \n",
    "    * Dictionnaires\n",
    "    * Chaînes de caractères\n",
    "    * Matrices (*arrays*) ```NumPy```\n",
    "    * Tableaux de données (*data frames*) ```Pandas```\n",
    "2. Importation de données \n",
    "    * À l'aide de ```NumPy```\n",
    "    * À l'aide de ```Pandas```\n",
    "3. Écriture de données\n",
    "    * À l'aide de ```NumPy```\n",
    "    * À l'aide de ```Pandas```\n",
    "    \n",
    "### Listes\n",
    "Les listes sont la principale structure de données de Python. Elles sont créées grâce aux crochets `[]` et possèdent plusieurs caractéristiques intéressantes que nous démontrerons :\n",
    "1. Elles sont ordonnées\n",
    "2. Elles peuvent contenir n'importe quel objet\n",
    "3. On y accède en utilisant leur index\n",
    "4. Elles peuvent être imbriquées\n",
    "5. Elles sont mutables"
   ]
  },
  {
   "cell_type": "code",
   "execution_count": 55,
   "metadata": {},
   "outputs": [
    {
     "name": "stdout",
     "output_type": "stream",
     "text": [
      "Propriété 1\n",
      " False\n"
     ]
    }
   ],
   "source": [
    "# 1. Elles sont ordonnées\n",
    "ma_liste = ['chat', 'chien']\n",
    "print('Propriété 1\\n', ma_liste[0] == ma_liste[1])"
   ]
  },
  {
   "cell_type": "code",
   "execution_count": 40,
   "metadata": {},
   "outputs": [
    {
     "name": "stdout",
     "output_type": "stream",
     "text": [
      "Propriété 2\n",
      " ['chat', 0.3, False]\n"
     ]
    }
   ],
   "source": [
    "# 2. Elles peuvent contenir n'importe quel objet\n",
    "ma_liste = ['chat', 0.3, False]\n",
    "print('Propriété 2\\n', ma_liste)"
   ]
  },
  {
   "cell_type": "code",
   "execution_count": 41,
   "metadata": {},
   "outputs": [
    {
     "name": "stdout",
     "output_type": "stream",
     "text": [
      "Propriété 3\n",
      " chat chat ['chat']\n"
     ]
    }
   ],
   "source": [
    "# 3. On y accède en utilisant leur index\n",
    "print('Propriété 3\\n', ma_liste[0], ma_liste[-3], ma_liste[0:1])"
   ]
  },
  {
   "cell_type": "code",
   "execution_count": 42,
   "metadata": {},
   "outputs": [
    {
     "name": "stdout",
     "output_type": "stream",
     "text": [
      "Propriété 4\n",
      " chat chien\n"
     ]
    }
   ],
   "source": [
    "# 4. Elles peuvent être imbriquées\n",
    "ma_liste = ['chat', ['chien']]\n",
    "print('Propriété 4\\n', ma_liste[0], ma_liste[1][0])"
   ]
  },
  {
   "cell_type": "code",
   "execution_count": 44,
   "metadata": {},
   "outputs": [
    {
     "name": "stdout",
     "output_type": "stream",
     "text": [
      "Propriété 5 (assignation)\n",
      " ['chat', 'meow']\n",
      "Propriété 5 (append)\n",
      " ['chat', 'meow', 'chien']\n",
      "Propriété 5 (pop)\n",
      " ['chat', 'chien']\n"
     ]
    }
   ],
   "source": [
    "# 5. Elles sont mutables\n",
    "ma_liste[1] = 'meow'\n",
    "print('Propriété 5 (assignation)\\n', ma_liste)\n",
    "ma_liste.append('chien') # Méthode append(x)\n",
    "print('Propriété 5 (append)\\n', ma_liste)\n",
    "ma_liste.pop(-2)         # Méthode pop(x)\n",
    "print('Propriété 5 (pop)\\n', ma_liste)"
   ]
  },
  {
   "cell_type": "markdown",
   "metadata": {},
   "source": [
    "### Uplets\n",
    "Les uplets sont similaires aux listes sur de nombreuses propriétés, outre le fait qu'ils sont immuables. Ainsi, il est possible de les concaténer mais pas de leur assigner de nouvelles valeurs. Ils sont produits grâce à l'opérateur `()` et sont souvent le produit de fonctions."
   ]
  },
  {
   "cell_type": "code",
   "execution_count": 45,
   "metadata": {},
   "outputs": [
    {
     "name": "stdout",
     "output_type": "stream",
     "text": [
      "Propriété 1\n",
      " False\n"
     ]
    }
   ],
   "source": [
    "# 1. Ils sont ordonnées\n",
    "mon_uplet = ('chat', 'chien')\n",
    "print('Propriété 1\\n', mon_uplet[0] == mon_uplet[1])"
   ]
  },
  {
   "cell_type": "code",
   "execution_count": 46,
   "metadata": {},
   "outputs": [
    {
     "name": "stdout",
     "output_type": "stream",
     "text": [
      "Propriété 2\n",
      " ('chat', 0.3, False)\n"
     ]
    }
   ],
   "source": [
    "# 2. Ils peuvent contenir n'importe quel objet\n",
    "mon_uplet = ('chat', 0.3, False)\n",
    "print('Propriété 2\\n', mon_uplet)"
   ]
  },
  {
   "cell_type": "code",
   "execution_count": 47,
   "metadata": {},
   "outputs": [
    {
     "name": "stdout",
     "output_type": "stream",
     "text": [
      "Propriété 3\n",
      " chat chat ('chat',)\n"
     ]
    }
   ],
   "source": [
    "# 3. On y accède en utilisant leur index\n",
    "print('Propriété 3\\n', mon_uplet[0], mon_uplet[-3], mon_uplet[0:1])"
   ]
  },
  {
   "cell_type": "code",
   "execution_count": 51,
   "metadata": {},
   "outputs": [
    {
     "name": "stdout",
     "output_type": "stream",
     "text": [
      "Propriété 4\n",
      " chat chien\n"
     ]
    }
   ],
   "source": [
    "# 4. Ils peuvent être imbriqués\n",
    "mon_uplet = ('chat', ('chien',)) # Remarquer la virgule après un uplet d'un seul item\n",
    "print('Propriété 4\\n', mon_uplet[0], mon_uplet[1][0])"
   ]
  },
  {
   "cell_type": "code",
   "execution_count": 53,
   "metadata": {},
   "outputs": [
    {
     "ename": "TypeError",
     "evalue": "'tuple' object does not support item assignment",
     "output_type": "error",
     "traceback": [
      "\u001b[0;31m---------------------------------------------------------------------------\u001b[0m",
      "\u001b[0;31mTypeError\u001b[0m                                 Traceback (most recent call last)",
      "\u001b[0;32m<ipython-input-53-a51010738fc2>\u001b[0m in \u001b[0;36m<module>\u001b[0;34m\u001b[0m\n\u001b[1;32m      1\u001b[0m \u001b[0;31m# 5 Ils sont immuables\u001b[0m\u001b[0;34m\u001b[0m\u001b[0;34m\u001b[0m\u001b[0;34m\u001b[0m\u001b[0m\n\u001b[0;32m----> 2\u001b[0;31m \u001b[0mmon_uplet\u001b[0m\u001b[0;34m[\u001b[0m\u001b[0;36m1\u001b[0m\u001b[0;34m]\u001b[0m \u001b[0;34m=\u001b[0m \u001b[0;34m'meow'\u001b[0m\u001b[0;34m\u001b[0m\u001b[0;34m\u001b[0m\u001b[0m\n\u001b[0m",
      "\u001b[0;31mTypeError\u001b[0m: 'tuple' object does not support item assignment"
     ]
    }
   ],
   "source": [
    "# 5 Ils sont immuables\n",
    "mon_uplet[1] = 'meow'"
   ]
  },
  {
   "cell_type": "markdown",
   "metadata": {},
   "source": [
    "### Dictionnaires\n",
    "blablabla\n",
    "\n",
    "#### Exercise 1\n",
    "Écrire une fonction qui permet de blalbla"
   ]
  },
  {
   "cell_type": "code",
   "execution_count": null,
   "metadata": {},
   "outputs": [],
   "source": []
  }
 ],
 "metadata": {
  "kernelspec": {
   "display_name": "Python 3",
   "language": "python",
   "name": "python3"
  },
  "language_info": {
   "codemirror_mode": {
    "name": "ipython",
    "version": 3
   },
   "file_extension": ".py",
   "mimetype": "text/x-python",
   "name": "python",
   "nbconvert_exporter": "python",
   "pygments_lexer": "ipython3",
   "version": "3.7.3"
  }
 },
 "nbformat": 4,
 "nbformat_minor": 2
}
