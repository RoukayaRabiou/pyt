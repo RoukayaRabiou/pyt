{
 "cells": [
  {
   "cell_type": "markdown",
   "metadata": {},
   "source": [
    "# Python 1 - Notes de cours\n",
    "### CSD - Comité Science de Données HEC\n",
    "##### Préparées par Samuel Tremblay, VP-Éducation 2019-2020\n",
    "#### Sommaire\n",
    "1. Structures de données\n",
    "    * Listes\n",
    "    * Uplets (*tuples*) et dictionnaires\n",
    "    * Chaînes de caractères\n",
    "    * Matrices (*arrays*) ```NumPy```\n",
    "    * Tableaux de données (*data frames*) ```Pandas```\n",
    "2. Importation de données \n",
    "    * À l'aide de ```NumPy```\n",
    "    * À l'aide de ```Pandas```\n",
    "3. Écriture de données\n",
    "    * À l'aide de ```NumPy```\n",
    "    * À l'aide de ```Pandas```\n",
    "    \n",
    "### Listes\n",
    "Les listes sont la principale structure de données de Python. Elles sont créées grâce aux crochets (```[]```) et possèdent plusieurs caractéristiques intéressantes que nous démontrerons :\n",
    "1. Elles sont ordonnées\n",
    "2. Elles peuvent contenir n'importe quel objet\n",
    "3. On y accède en utilisant leur index\n",
    "4. Elles peuvent être imbriquées\n",
    "5. Elles sont mutables"
   ]
  },
  {
   "cell_type": "code",
   "execution_count": 24,
   "metadata": {},
   "outputs": [
    {
     "name": "stdout",
     "output_type": "stream",
     "text": [
      "Propriété 1 -> False\n",
      "Propriété 2 -> ['chat', 0.3, False]\n",
      "Propriété 3 -> chat chat ['chat']\n",
      "Propriété 4 -> chat chien\n",
      "Propriété 5 -> ['chat', 'meow']\n",
      "Propriété 5 -> ['chat', 'meow', 'chien']\n",
      "Propriété 5 -> ['chat', 'chien']\n"
     ]
    }
   ],
   "source": [
    "# 1. Elles sont ordonnées\n",
    "ma_liste = ['chat', 'chien']\n",
    "print('Propriété 1 ->', ma_liste[0] == ma_liste[1])\n",
    "# 2. Elles peuvent contenir n'importe quel objet\n",
    "ma_liste = ['chat', 0.3, False]\n",
    "print('Propriété 2 ->', ma_liste)\n",
    "# 3. On y accède en utilisant leur index\n",
    "print('Propriété 3 ->', ma_liste[0], ma_liste[-3], ma_liste[0:1])\n",
    "# 4. Elles peuvent être imbriquées\n",
    "ma_liste = ['chat', ['chien']]\n",
    "print('Propriété 4 ->', ma_liste[0], ma_liste[1][0])\n",
    "# 5. Elles sont mutables\n",
    "ma_liste[1] = 'meow'\n",
    "print('Propriété 5 ->', ma_liste)\n",
    "ma_liste.append('chien') # Méthode append(x)\n",
    "print('Propriété 5 ->', ma_liste)\n",
    "ma_liste.pop(-2)         # Méthode pop(x)\n",
    "print('Propriété 5 ->', ma_liste)"
   ]
  },
  {
   "cell_type": "code",
   "execution_count": null,
   "metadata": {},
   "outputs": [],
   "source": []
  }
 ],
 "metadata": {
  "kernelspec": {
   "display_name": "Python 3",
   "language": "python",
   "name": "python3"
  },
  "language_info": {
   "codemirror_mode": {
    "name": "ipython",
    "version": 3
   },
   "file_extension": ".py",
   "mimetype": "text/x-python",
   "name": "python",
   "nbconvert_exporter": "python",
   "pygments_lexer": "ipython3",
   "version": "3.7.3"
  }
 },
 "nbformat": 4,
 "nbformat_minor": 2
}
